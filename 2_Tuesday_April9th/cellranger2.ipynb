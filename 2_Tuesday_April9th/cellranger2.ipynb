{
  "nbformat": 4,
  "nbformat_minor": 0,
  "metadata": {
    "colab": {
      "provenance": [],
      "authorship_tag": "ABX9TyOVtSmj7Fu9t4CA9qGslSe4",
      "include_colab_link": true
    },
    "kernelspec": {
      "name": "python3",
      "display_name": "Python 3"
    },
    "language_info": {
      "name": "python"
    }
  },
  "cells": [
    {
      "cell_type": "markdown",
      "metadata": {
        "id": "view-in-github",
        "colab_type": "text"
      },
      "source": [
        "<a href=\"https://colab.research.google.com/github/nunososorio/SingleCellGenomics2024/2_Tuesday_April9th/blob/main/cellranger2.ipynb\" target=\"_parent\"><img src=\"https://colab.research.google.com/assets/colab-badge.svg\" alt=\"Open In Colab\"/></a>"
      ]
    },
    {
      "cell_type": "markdown",
      "source": [
        "# Single Cell Genomics For Beginners 🧬\n",
        "### Learning objectives of this session:\n",
        "1. Understand the software CellRanger for preprocessing raw scRNA-seq data and generation of a count matrix,\n",
        "2. Evaluate the quality of a scRNA-seq experiment using the output of CellRanger"
      ],
      "metadata": {
        "id": "UkC8Y8pdOjwa"
      }
    },
    {
      "cell_type": "markdown",
      "source": [
        "## Workflow scRNA-seq:\n",
        "1. **scRNA-seq sample preparation and nucleic acid extraction**\n",
        "2. **Single cell library preparation protocol**\n",
        "3. **Sequencing**: This step generates FASTQ files (.fastq or .fq) from the scRNA-seq library.\n",
        "4. **CellRanger**: This software is used to process the FASTQ files and generate a count matrix (.mtx) with single-cell information when using the Chromium Next GEM single cell data 10x technology."
      ],
      "metadata": {
        "id": "YCF1c-rzPYET"
      }
    },
    {
      "cell_type": "markdown",
      "source": [
        "## Understanding FASTQ and Count Matrix\n",
        "\n",
        "FASTQ files are the raw data output from sequencing. They contain the nucleotide sequences (reads) and corresponding quality scores.\n",
        "\n",
        "The count matrix is the output of the CellRanger software. It represents the number of unique molecular identifiers (UMIs) per gene per cell."
      ],
      "metadata": {
        "id": "yJt9G1B6iOQz"
      }
    },
    {
      "cell_type": "code",
      "execution_count": 12,
      "metadata": {
        "colab": {
          "base_uri": "https://localhost:8080/"
        },
        "id": "fhMLz4lqOiuv",
        "outputId": "5a2011f7-081e-4030-f167-5e44dddfc043"
      },
      "outputs": [
        {
          "output_type": "stream",
          "name": "stdout",
          "text": [
            "--2024-04-02 11:40:24--  https://raw.githubusercontent.com/upendrak/fastq-sample/master/fastq-sample-test.fastq\n",
            "Resolving raw.githubusercontent.com (raw.githubusercontent.com)... 185.199.108.133, 185.199.109.133, 185.199.110.133, ...\n",
            "Connecting to raw.githubusercontent.com (raw.githubusercontent.com)|185.199.108.133|:443... connected.\n",
            "HTTP request sent, awaiting response... 200 OK\n",
            "Length: 162604 (159K) [text/plain]\n",
            "Saving to: ‘fastq-sample-test.fastq’\n",
            "\n",
            "\rfastq-sample-test.f   0%[                    ]       0  --.-KB/s               \rfastq-sample-test.f 100%[===================>] 158.79K  --.-KB/s    in 0.02s   \n",
            "\n",
            "2024-04-02 11:40:24 (6.59 MB/s) - ‘fastq-sample-test.fastq’ saved [162604/162604]\n",
            "\n",
            "Read 0: GTGTCAGCCGCCGTGTAGTCCCCACTCCTGTCTCTTATACACATCTCCGAGCGCACGAGACCGAAGAACATCTCGTATGCCGTCTTCTGCTTGTAAAAAAAAAGACGTTTCTGATAAGTTGCTTGATTTGGTTGGACTTGGTGGCAAGTCTGCCGCTGATAAAGGAAAGGATACTCGTGATTATCTTGCTGCTGAATTTCCTGAGCTTAATGCTTGGGAGCGTGCGGGTTCTGATGCTTCCTCTGCTGGTATGGTTGACGCCTGATTTGAGAGTACAAAAGAGCTAACTAAAATGA\n",
            "Read 1: GTGTCAGCCGCCGCGGTAATACGGAGGGTGCAAGCGTTAATCGGAATTACTGGGCGTAAAGCGCACGCAGGCGGTTGATTAAGTTAGATGTGAAATCCCCGGGCTTAACCTGGGAATGGCATCTAAGACTGGTCAGCTAGAGTCTTGTAGAGGGGGGTAGAATTCCATGTGTAGCGGTGAAATGCGTAGAGATGTGGAGGAATACCGGTGGCGAAGGCGGCCCCCTGGACAAAGACTGACGCTCAGGTGCGAAAGCGTGGGGAGCAAACAGGATTAGATACCCCAGTAGTCCCCAC\n",
            "Read 2: GTGTCAGCCGCCGTGTAGTCCCCACTCCTGTCTCTTATACACATCTCCGAGCCCACGAGACCGAAGAACATCTCGTATGCCGTCTTCTGCTTGAAAAAAAAAAAAAAAAAACACGAAGTAGAGAAAGAACAAATAAAAACTCACAAAAACAAGGAAAAAAAAAATGAGTGAGAGATAGAAACATATATCAAATATCTATACAACAAAGAACAAATACTACATTCTAGTAAGAACATGAAGAATGGATAGTTAATAGAGTATGCTGTAAGCAGACTAATAATAGAACATAAACAAGT\n",
            "Read 3: GTGTCAGAAACCCGAGTAGTCCCCACTCCTGTCTCTTATACACATCTCCGAGCCCACGAGACCGAAGAACATCTCGTATGCCGTCTTCTGCTTGAAAAAAAAAAAAAAAAAAAATAGACACAGAAAATAAAATAGAAAATGAGTGAGCTAACACATCAATCACAGATAACCAGCAATAAGACACAAAATCAACACGTATACTAACATAAACACAAACATCGATAGCAAAGTTATAACTAAAATCTCACAAGTCTAAGTCAACATACATCAGTATAAACTCTACTACAATAAAGCTC\n",
            "Read 4: GTGTCAGCAGCCGCGGTAATACAGAGGTGGCAAGCGTTGTTCGGAATTACTGGGCGTAAAGGGCGCGTAGGCGGCTTGGTCAGTCCCGTGTGAAATCCCTCGGCTCAACTGAGGAACTGCACGGGAAACTGCCTGGCTTGAGTTCGGGAGAGGGAAGCGGAATTCCGGGTGTAGCGGTGAAATGCGTAGATATTAGGAGGAACACCAGTGGCGAAGGCGGCTTACTGGACGATCACTGACGTTGAGGCTCGAAAGCGTGGGGAGCACACAGGATTAGATACCCTGGTAGTCCCCAC\n"
          ]
        }
      ],
      "source": [
        "# Use wget to download the file\n",
        "!wget https://raw.githubusercontent.com/upendrak/fastq-sample/master/fastq-sample-test.fastq\n",
        "\n",
        "# Now you can use the downloaded file in your code\n",
        "fastq_file_path = \"fastq-sample-test.fastq\"\n",
        "\n",
        "# Read the FASTQ file\n",
        "fastq_file = pysam.FastxFile(fastq_file_path)\n",
        "\n",
        "# Print the first 5 reads from the FASTQ file\n",
        "for i, entry in enumerate(fastq_file):\n",
        "    if i >= 5:\n",
        "        break\n",
        "    print(f'Read {i}: {entry.sequence}')\n",
        "\n",
        "\n",
        "\n"
      ]
    },
    {
      "cell_type": "code",
      "source": [
        "!head -n 10 fastq-sample-test.fastq"
      ],
      "metadata": {
        "colab": {
          "base_uri": "https://localhost:8080/"
        },
        "id": "xOd0VJaXjVyz",
        "outputId": "47e03ab2-69e1-4ad3-89bd-7c48d8eda0ef"
      },
      "execution_count": 14,
      "outputs": [
        {
          "output_type": "stream",
          "name": "stdout",
          "text": [
            "@M00970:337:000000000-BR5KF:1:1102:16842:4988 1:N:0:CGCAGAAC+ACAGAGTT\n",
            "GTGTCAGCCGCCGTGTAGTCCCCACTCCTGTCTCTTATACACATCTCCGAGCGCACGAGACCGAAGAACATCTCGTATGCCGTCTTCTGCTTGTAAAAAAAAAGACGTTTCTGATAAGTTGCTTGATTTGGTTGGACTTGGTGGCAAGTCTGCCGCTGATAAAGGAAAGGATACTCGTGATTATCTTGCTGCTGAATTTCCTGAGCTTAATGCTTGGGAGCGTGCGGGTTCTGATGCTTCCTCTGCTGGTATGGTTGACGCCTGATTTGAGAGTACAAAAGAGCTAACTAAAATGA\n",
            "+\n",
            "G@<F@@CFGG@C:@:FCEFE<,;CF<CFFAG,,<EFFCCCEGF@CFFGGGGC+CB@CFFB@,@:F@F8CF6,9FFFCE<C5>?F=F<,9,95C455CFGC=++++:B4:,7:@,5@C?F9F<FCFFCG95,D7CCA,==<:DC+DFF>FBAF9<EC*>>9@BDE9:B,>,6,52,,=DFGGGFF:>D7:A79611AGG@C+<BCFD8CFF>;+=+0**;75*.*)))75*0*97<B494@3/620=>48)-6>FA>6:)-11(,()5)641:)49)64..,(.()).(-.))).5)\n",
            "@M00970:337:000000000-BR5KF:1:1102:17835:6442 1:N:0:CTAAGAAC+ACAGAGGT\n",
            "GTGTCAGCCGCCGCGGTAATACGGAGGGTGCAAGCGTTAATCGGAATTACTGGGCGTAAAGCGCACGCAGGCGGTTGATTAAGTTAGATGTGAAATCCCCGGGCTTAACCTGGGAATGGCATCTAAGACTGGTCAGCTAGAGTCTTGTAGAGGGGGGTAGAATTCCATGTGTAGCGGTGAAATGCGTAGAGATGTGGAGGAATACCGGTGGCGAAGGCGGCCCCCTGGACAAAGACTGACGCTCAGGTGCGAAAGCGTGGGGAGCAAACAGGATTAGATACCCCAGTAGTCCCCAC\n",
            "+\n",
            "GGGGGGGGGGGGGGGGGGGGGGGGGGGGGGGGGGGGGGGGGGGGGGGGGGGGGGGGGGGGGGGGGGGGGGGGGGGGGFGGGGGGGGGGGGGGGGGGGGGGGGGGGGGGGGGGGGGGGGGGGGGGGFGGGGGGGGGGGGGGGGGGGGGGGGGGGGGGGGGGGGGGGGGGGGGGGGGGGGGGGGGGGGGGGGGFGGGGGEFGGGGGGGGGGGGGGGFGGGFGFGFGFGFGFGFFFGFFFFFFFF?BFFFFF?9BFFFFFFFFFB?F>FF:?F<:<74<3:ADF?BBF??BFBFBFF02\n",
            "@M00970:337:000000000-BR5KF:1:1102:9646:11778 1:N:0:CGAAGAAC+ACAGAGGT\n",
            "GTGTCAGCCGCCGTGTAGTCCCCACTCCTGTCTCTTATACACATCTCCGAGCCCACGAGACCGAAGAACATCTCGTATGCCGTCTTCTGCTTGAAAAAAAAAAAAAAAAAACACGAAGTAGAGAAAGAACAAATAAAAACTCACAAAAACAAGGAAAAAAAAAATGAGTGAGAGATAGAAACATATATCAAATATCTATACAACAAAGAACAAATACTACATTCTAGTAAGAACATGAAGAATGGATAGTTAATAGAGTATGCTGTAAGCAGACTAATAATAGAACATAAACAAGT\n"
          ]
        }
      ]
    }
  ]
}
