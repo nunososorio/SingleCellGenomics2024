{
  "nbformat": 4,
  "nbformat_minor": 0,
  "metadata": {
    "colab": {
      "provenance": [],
      "include_colab_link": true
    },
    "kernelspec": {
      "name": "python3",
      "display_name": "Python 3"
    },
    "language_info": {
      "name": "python"
    }
  },
  "cells": [
    {
      "cell_type": "markdown",
      "metadata": {
        "id": "view-in-github",
        "colab_type": "text"
      },
      "source": [
        "<a href=\"https://colab.research.google.com/github/nunososorio/SingleCellGenomics2024/blob/main/2_Tuesday_April9th/cellranger2.ipynb\" target=\"_parent\"><img src=\"https://colab.research.google.com/assets/colab-badge.svg\" alt=\"Open In Colab\"/></a>"
      ]
    },
    {
      "cell_type": "markdown",
      "metadata": {
        "id": "cf49ffd7"
      },
      "source": [
        "<img src=\"https://github.com/nunososorio/SingleCellGenomics2024/blob/main/logo.png?raw=true\" alt=\"AnnData\" style=\"width:600px; height:auto;\"/>"
      ]
    },
    {
      "cell_type": "markdown",
      "source": [
        "# CellRanger Software: Preprocessing scRNA-seq Data and Quality Evaluation 🧬\n",
        "### Learning objectives of this session:\n",
        "1. Understand the software CellRanger for preprocessing raw scRNA-seq data and generation of a count matrix;\n",
        "2. Evaluate the quality of a scRNA-seq experiment using the output of CellRanger."
      ],
      "metadata": {
        "id": "UkC8Y8pdOjwa"
      }
    },
    {
      "cell_type": "markdown",
      "source": [
        "## The scRNA-seq workflow:\n",
        "\n",
        "1. **Sample Preparation and Processing**: The first step in the scRNA-seq workflow involves preparing the sample. This includes isolating single cells from the tissue of interest, capturing individual cells in separate partitions (such as droplets or wells), and lysing the cells to release their RNA. The RNA is then reverse transcribed to create complementary DNA (cDNA), which serves as the template for subsequent amplification and library preparation. The end result of this step is a library of cDNA fragments, each tagged with a unique barcode that identifies the cell of origin.\n",
        "\n",
        "2. **Sequencing**: The prepared library is then sequenced using next-generation sequencing technology. This process reads the cDNA fragments and generates a massive amount of raw sequencing data in the form of FASTQ files. Most single-cell RNA sequencing methods employ a strategy of pooled sequencing. This approach enhances data throughput by amplifying and sequencing numerous cells simultaneously within the same ‘pool’. Each read in a FASTQ file corresponds to a cDNA fragment and includes the sequence of the fragment along with the cell barcode and a unique molecular identifier (UMI) that tags each original RNA molecule.\n",
        "\n",
        "3. **Conversion from FASTQ to Count Matrix**: The raw sequencing data is then processed to generate a count matrix, which is a table listing the number of times each gene (represented by rows) was detected in each cell (represented by columns). This involves aligning the sequencing reads to a reference genome, correcting for sequencing errors, and counting the number of UMIs associated with each gene in each cell. The count matrix serves as the starting point for most downstream analyses of scRNA-seq data, such as identifying cell types and states, detecting differentially expressed genes, and inferring developmental trajectories."
      ],
      "metadata": {
        "id": "YCF1c-rzPYET"
      }
    },
    {
      "cell_type": "markdown",
      "source": [
        "## FASTQ files\n",
        "\n",
        "FASTQ files are the raw data output from sequencing. They contain the nucleotide sequences (reads) and corresponding quality scores."
      ],
      "metadata": {
        "id": "yJt9G1B6iOQz"
      }
    },
    {
      "cell_type": "code",
      "source": [
        "# Download an example of a FASTQ file\n",
        "!wget https://zenodo.org/record/3457880/files/subset_pbmc_1k_v3_S1_L001_R1_001.fastq.gz"
      ],
      "metadata": {
        "id": "uWwup7C-VYB9"
      },
      "execution_count": null,
      "outputs": []
    },
    {
      "cell_type": "code",
      "source": [
        "# Unzip the file\n",
        "!gunzip subset_pbmc_1k_v3_S1_L001_R1_001.fastq.gz\n",
        "\n",
        "# Print the first 50 lines\n",
        "!head -n 50 subset_pbmc_1k_v3_S1_L001_R1_001.fastq\n"
      ],
      "metadata": {
        "id": "K8Ueur5lWBXt",
        "outputId": "80214df7-2f46-4601-d4fb-14699678f6c8",
        "colab": {
          "base_uri": "https://localhost:8080/"
        }
      },
      "execution_count": 5,
      "outputs": [
        {
          "output_type": "stream",
          "name": "stdout",
          "text": [
            "@A00228:279:HFWFVDMXX:1:1101:4110:1063 1:N:0:ACATTACT\n",
            "TGGGCTGGTCGCGGTTCATGGACATTCG\n",
            "+\n",
            "FFFFFFFFFFFFFFFFFFFFFFFFFFFF\n",
            "@A00228:279:HFWFVDMXX:1:1101:7509:1063 1:N:0:ACATTACT\n",
            "CATGCTCGTCTCTCACACTTTTTGGCAA\n",
            "+\n",
            "FFFFFFFFFFFFFFFFFFFF:FFFFFFF\n",
            "@A00228:279:HFWFVDMXX:1:1101:15845:1063 1:N:0:ACATTACT\n",
            "CACTGGGAGTTACTCGTTTTCTGTGGTT\n",
            "+\n",
            "F:FFFFFFFFFFFFFFFFFFFFFFFFFF\n",
            "@A00228:279:HFWFVDMXX:1:1101:16477:1063 1:N:0:ACATTACT\n",
            "AAGCGTTTCGCTATTTCTATGTTCGCTT\n",
            "+\n",
            "FFFFFFFFFFFFFFFFFFFFFFFFFFFF\n",
            "@A00228:279:HFWFVDMXX:1:1101:3513:1094 1:N:0:ACATTACT\n",
            "CTCCTTTTCTACACTTTTCTTGTCTATT\n",
            "+\n",
            "FFF,FFFFFFF,F:FFFFFFFFFFFFFF\n",
            "@A00228:279:HFWFVDMXX:1:1101:23213:1172 1:N:0:ACATTACT\n",
            "AATGACCGTGTCATCACTTATAGTAAGG\n",
            "+\n",
            "FFFFFFFFFFFFFFFFFFFFFFFFFFFF\n",
            "@A00228:279:HFWFVDMXX:1:1101:7943:1251 1:N:0:ACATTACT\n",
            "TTTCCTCTCTCTTGCGCAATACGTGCGG\n",
            "+\n",
            "FFFFFFFFFFFFFFFFFFFFFFFFFFFF\n",
            "@A00228:279:HFWFVDMXX:1:1101:24849:1251 1:N:0:ACATTACT\n",
            "AGTAGCTAGGAGTACCCGGAAACTTGCG\n",
            "+\n",
            "FFFFFFFFFFFFFFFFFFFFFFFFFFFF\n",
            "@A00228:279:HFWFVDMXX:1:1101:18005:1297 1:N:0:ACATTACT\n",
            "CCCTAACCAGGTTCGCCCATTTTGTGCC\n",
            "+\n",
            "FFFFFFFFFFFFFFFFFFFFFFFFFFFF\n",
            "@A00228:279:HFWFVDMXX:1:1101:18783:1297 1:N:0:ACATTACT\n",
            "GGATGTTTCGAGCCTGCCGAAGGCCTAT\n",
            "+\n",
            "FFFFFFFFFFFFFFFFFFF:,FFFFFFF\n",
            "@A00228:279:HFWFVDMXX:1:1101:9525:1329 1:N:0:ACATTACT\n",
            "TACGTCCCATGTGTCATCTTGCGGGCGA\n",
            "+\n",
            "FFFFFFFFFFFFFFFFFFFFFFFFFFFF\n",
            "@A00228:279:HFWFVDMXX:1:1101:7880:1360 1:N:0:ACATTACT\n",
            "CACTGGGAGTTACTCGCAACTACAAATA\n",
            "+\n",
            "FFFFFFF:FFFFFFFFFFFFFFFFFFFF\n",
            "@A00228:279:HFWFVDMXX:1:1101:2953:1376 1:N:0:ACATTACT\n",
            "AGATCGTCAGGACTTTTTACCGGCTCCC\n"
          ]
        }
      ]
    },
    {
      "cell_type": "markdown",
      "source": [
        "The output above has the first 50 lines of a FASTQ file.\n",
        "Here’s a breakdown of the components:\n",
        "\n",
        "*   Sequence Identifier: Each sequence in the file has a unique identifier that starts with ‘@’. For example, @A00228:279:HFWFVDMXX:1:1101:4110:1063 1:N:0:ACATTACT is an identifier. This line often contains information about the sequencing run and the specific read.\n",
        "*   Sequence: The next line after the identifier is the actual sequence of bases (A, T, C, G). For example, TGGGCTGGTCGCGGTTCATGGACATTCG is a sequence.\n",
        "Separator: The ‘+’ character is a separator that denotes the beginning of the quality scores for the sequence above it.\n",
        "*   Quality Scores: The line following the ‘+’ character represents the quality scores for the sequence. These scores are encoded using ASCII characters, with each character representing the probability that the corresponding base in the sequence is incorrect. For example, FFFFFFFFFFFFFFFFFFFFFFFFFFFF are the quality scores for the sequence TGGGCTGGTCGCGGTTCATGGACATTCG.The character ‘F’ corresponds to a Phred quality score of 37, which indicates a very high confidence in the accuracy of the corresponding base call. The characters “:” and “,” represent lower confidence in the accuracy of the corresponding base call. The character “:” corresponds to a Phred quality score of 25, and the character “,” corresponds to a Phred quality score of 15.\n",
        "\n",
        "\n",
        "\n",
        "In the convention used by Illumina sequencing platforms the first sequence identifier would mean:\n",
        "A00228: Is the unique identifier of the sequencing instrument.\n",
        "279: Is the run number, an identifier for the specific run on the sequencer.\n",
        "HFWFVDMXX: Is the unique identifier for the flow cell used in the sequencing run.\n",
        "* 1: This represents the lane number on the flow cell.\n",
        "* 1101: This is the tile number on the flow cell.\n",
        "* 4110: This is the ‘x’ coordinate of the cluster on the tile.\n",
        "* 1063: This is the ‘y’ coordinate of the cluster on the tile.\n",
        "* 1: This indicates the member of a pair (1 or 2) in paired-end sequencing.\n",
        "* N: This indicates whether the read passed filtering. ‘Y’ means it passed, ‘N’ means it did not.\n",
        "* 0: Control bits are used in some sequencing applications for specific purposes, often related to quality control. In the Illumina sequencing header, a ‘0’ typically means that no control bits are set. Control bits might be used, for example, to flag or identify specific types of reads. However, in many applications, including most RNA-seq experiments, this field may not be used and will just be set to ‘0’.\n",
        "* ACATTACT: Index Sequence, also known as a barcode, is a short, unique sequence that is added to each DNA fragment in a sample during library preparation. This allows multiple samples to be mixed together and sequenced in the same run, a process known as multiplexing. After sequencing, the index sequence is used to identify which reads came from which sample. In the context of 10x Genomics single-cell RNA sequencing, this index sequence is used as a cell barcode. Each cell is given a unique barcode, allowing the RNA from thousands of individual cells to be sequenced together while still keeping track of which reads came from which cells.\n"
      ],
      "metadata": {
        "id": "YoyALqriXWSX"
      }
    },
    {
      "cell_type": "markdown",
      "source": [
        " Questions:\n",
        " - The reads from the first 50 lines are from the first cell or from separate cells?\n",
        " - Which of the reads had a lower quality score?"
      ],
      "metadata": {
        "id": "ICrvo9DocF8O"
      }
    },
    {
      "cell_type": "markdown",
      "source": [
        "## Count Matrix\n",
        "a count matrix, which is a table listing the number of times each gene (represented by rows) was detected in each cell (represented by columns)"
      ],
      "metadata": {
        "id": "eWz8tzuOPh4-"
      }
    },
    {
      "cell_type": "code",
      "source": [],
      "metadata": {
        "id": "_mpDR91-PhUp"
      },
      "execution_count": null,
      "outputs": []
    },
    {
      "cell_type": "markdown",
      "source": [
        "## FASTQ to Count Matrix using CellRanger\n",
        "\n",
        "10x Genomics created a proprietary processing pipeline, called CellRanger, to handle the outputs generated by its scRNA-seq. There are other alternatives to do the same task, including STARsolo or UniverSC. In this course, we will focus on Cell Ranger since it is widely used and supported."
      ],
      "metadata": {
        "id": "HB95UZC1S40p"
      }
    },
    {
      "cell_type": "markdown",
      "source": [
        "## Interpreting CellRanger's Output"
      ],
      "metadata": {
        "id": "lNvmpdXfVOnB"
      }
    }
  ]
}