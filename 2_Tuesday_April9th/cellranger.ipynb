{
   "cells":[
      {
         "cell_type":"markdown",
         "metadata":{
            
         },
         "source":[
            "# Single Cell Genomics For Beginners 🧬",
            "## Date: April 5th",
            "### Today's Goals",
            "1. Understand the software for preprocessing raw scRNA-seq data",
            "2. Learn how to apply CellRanger to raw sequencing data to generate a count matrix",
            "3. Evaluate the quality of a scRNA-seq experiment using the output of CellRanger"
         ]
      },
      {
         "cell_type":"markdown",
         "metadata":{
            
         },
         "source":[
            "## Workflow for single cell data analysis",
            "1. **scRNA-seq library**: This is the initial sample or tissue that you start with.",
            "2. **Single cell library preparation protocol**: This is the method used to prepare the scRNA-seq library for sequencing.",
            "3. **Sequencing**: This step generates FASTQ files (.fastq or .fq) from the scRNA-seq library.",
            "4. **CellRanger**: This software is used to process the FASTQ files and generate a count matrix (.mtx)."
         ]
      },
      {
         "cell_type":"code",
         "metadata":{
            
         },
         "source":[
            "# Exercise 1: Understanding the Workflow",
            "# Let's create a dictionary to represent the workflow",
            "workflow = {\n",
            "  'scRNA-seq library': 'initial sample or tissue',\n",
            "  'Single cell library preparation protocol': 'method to prepare the scRNA-seq library for sequencing',\n",
            "  'Sequencing': 'generates FASTQ files (.fastq or .fq) from the scRNA-seq library',\n",
            "  'CellRanger': 'software to process the FASTQ files and generate a count matrix (.mtx)'\n",
            "}\n",
            "print(workflow)"
         ]
      },
      {
         "cell_type":"markdown",
         "metadata":{
            
         },
         "source":[
            "## Understanding FASTQ and Count Matrix",
            "FASTQ files are the raw data output from sequencing. They contain the nucleotide sequences (reads) and corresponding quality scores.",
            "The count matrix is the output of the CellRanger software. It represents the number of unique molecular identifiers (UMIs) per gene per cell."
         ]
      },
      {
         "cell_type":"code",
         "metadata":{
            
         },
         "source":[
            "# Exercise 2: Understanding FASTQ and Count Matrix",
            "# Let's create a simple representation of a FASTQ file and a count matrix",
            "# FASTQ file",
            "fastq_file = {\n",
            "  'read1': 'ATCGTACGATCG',\n",
            "  'read2': 'TACGTACGATCG',\n",
            "  'read3': 'CGTACGATCGTA'\n",
            "}\n",
            "print('FASTQ file:', fastq_file)\n",
            "\n",
            "# Count matrix",
            "count_matrix = {\n",
            "  'gene1': {'cell1': 10, 'cell2': 5, 'cell3': 0},\n",
            "  'gene2': {'cell1': 0, 'cell2': 20, 'cell3': 1},\n",
            "  'gene3': {'cell1': 30, 'cell2': 0, 'cell3': 0}\n",
            "}\n",
            "print('Count matrix:', count_matrix)"
         ]
      },
      {
         "cell_type":"markdown",
         "metadata":{
            
         },
         "source":[
            "## Converting FASTQ file into a count matrix",
            "1. **Step 1**: Align each sequencing read to a reference transcriptome. This converts the FASTQ file to a BAM/SAM file.",
            "2. **Step 2**: Count the number of unique molecular identifiers per gene/cell. This converts the BAM/SAM file to a count matrix."
         ]
      },
      {
         "cell_type":"code",
         "metadata":{
            
         },
         "source":[
            "# Exercise 3: Converting FASTQ file into a count matrix",
            "# Let's simulate the conversion of a FASTQ file into a count matrix",
            "# Step 1: Align each sequencing read to a reference transcriptome",
            "bam_file = {\n",
            "  'read1': 'gene1',\n",
            "  'read2': 'gene2',\n",
            "  'read3': 'gene1'\n",
            "}\n",
            "print('BAM file:', bam_file)\n",
            "\n",
            "# Step 2: Count the number of unique molecular identifiers per gene/cell",
            "count_matrix = {\n",
            "  'gene1': {'cell1': 2, 'cell2': 0, 'cell3': 0},\n",
            "  'gene2': {'cell1': 0, 'cell2': 1, 'cell3': 0}\n",
            "}\n",
            "print('Count matrix:', count_matrix)"
         ]
      },
      {
         "cell_type":"markdown",
         "metadata":{
            
         },
         "source":[
            "## Installing and Running CellRanger 🛠️",
            "CellRanger is a set of analysis pipelines that process Chromium Next GEM single cell data[^1^][1]. Here are the key steps involved in installing and running CellRanger[^1^][1]:",
            "1. **Download and unpack the Cell Ranger file** in any directory. In this example, we use `/opt`[^1^][1].",
            "2. **Download and unpack any of the reference data files** in a convenient location[^1^][1].",
            "3. **Prepend the Cell Ranger directory to your `$PATH`**. This will allow you to invoke the `cellranger` command[^1^][1]."
         ]
      },
      {
         "cell_type":"code",
         "metadata":{
            
         },
         "source":[
            "# Exercise 4: Installing and Running CellRanger",
            "# Let's simulate the installation and running of CellRanger",
            "print('Step 1: Download and unpack the Cell Ranger file')\n",
            "print('cd /opt')\n",
            "print('tar -xzvf cellranger-x.y.z.tar.gz')\n",
            "\n",
            "print('\\nStep 2: Download and unpack any of the reference data files')\n",
            "print('tar -xzvf refdata-gex-GRCh38-2020-A.tar.gz')\n",
            "\n",
            "print('\\nStep 3: Prepend the Cell Ranger directory to your $PATH')\n",
            "print('export PATH=/opt/cellranger-x.y.z:$PATH')"
         ]
      },
      {
         "cell_type":"markdown",
         "metadata":{
            
         },
         "source":[
            "## Exercise 🏋️‍♀️",
            "1. Review the [CellRanger manual] and list down the possible warnings that can be encountered when running CellRanger. What do these warnings mean and how can they impact the analysis?",
            "2. You have access to 15 CellRanger summary output HTML files. Choose one and prepare a presentation explaining the output to your colleagues. What are the key points you would highlight in your presentation?",
            "3. Create a fun and engaging game that can help your colleagues understand the CellRanger process better. For example, you could create a 'CellRanger Bingo' where each square represents a step in the CellRanger process or a potential warning message."
         ]
      },
      {
         "cell_type":"code",
         "metadata":{
            
         },
         "source":[
            "# Exercise 5: Understanding CellRanger Warnings",
            "# Let's simulate the generation of CellRanger warnings",
            "warnings = {\n",
            "  'warning1': 'This is a simulated warning 1',\n",
            "  'warning2': 'This is a simulated warning 2',\n",
            "  'warning3': 'This is a simulated warning 3'\n",
            "}\n",
            "print('CellRanger warnings:', warnings)"
         ]
      },
      {
         "cell_type":"code",
         "metadata":{
            
         },
         "source":[
            "# Exercise 6: Preparing for Presentation",
            "# Let's simulate the preparation for the presentation",
            "presentation_points = {\n",
            "  'point1': 'This is a simulated point 1',\n",
            "  'point2': 'This is a simulated point 2',\n",
            "  'point3': 'This is a simulated point 3'\n",
            "}\n",
            "print('Presentation points:', presentation_points)"
         ]
      },
      {
         "cells":[
            "..."{
               "cell_type":"code",
               "metadata":{
                  
               },
               "source":[
                  "# Exercise 7: Creating a Teaching Game",
                  "# Let's simulate the creation of a 'CellRanger Bingo' game",
                  "bingo_card = {\n",
                  "  'B': ['B1', 'B2', 'B3', 'B4', 'B5'],\n",
                  "  'I': ['I1', 'I2', 'I3', 'I4', 'I5'],\n",
                  "  'N': ['N1', 'N2', 'N3', 'N4', 'N5'],\n",
                  "  'G': ['G1', 'G2', 'G3', 'G4', 'G5'],\n",
                  "  'O': ['O1', 'O2', 'O3', 'O4', 'O5']\n",
                  "}\n",
                  "print('CellRanger Bingo card:', bingo_card)"
               ]
            }
         ],
         "metadata":{
            "kernelspec":{
               "display_name":"Python 3",
               "language":"python",
               "name":"python3"
            },
            "language_info":{
               "codemirror_mode":{
                  "name":"ipython",
                  "version":3
               },
               "file_extension":".py",
               "mimetype":"text/x-python",
               "name":"python",
               "nbconvert_exporter":"python",
               "pygments_lexer":"ipython3",
               "version":"3.8.5"
            }
         },
         "nbformat":4,
         "nbformat_minor":4
      }{
   "cells":[
      {
         "cell_type":"markdown",
         "metadata":{
            
         },
         "source":[
            "# Single Cell Genomics For Beginners 🧬",
            "## Date: April 5th",
            "### Today's Goals",
            "1. Understand the software for preprocessing raw scRNA-seq data",
            "2. Learn how to apply CellRanger to raw sequencing data to generate a count matrix",
            "3. Evaluate the quality of a scRNA-seq experiment using the output of CellRanger"
         ]
      },
      {
         "cell_type":"markdown",
         "metadata":{
            
         },
         "source":[
            "## Workflow for single cell data analysis",
            "1. **scRNA-seq library**: This is the initial sample or tissue that you start with.",
            "2. **Single cell library preparation protocol**: This is the method used to prepare the scRNA-seq library for sequencing.",
            "3. **Sequencing**: This step generates FASTQ files (.fastq or .fq) from the scRNA-seq library.",
            "4. **CellRanger**: This software is used to process the FASTQ files and generate a count matrix (.mtx)."
         ]
      },
      {
         "cell_type":"code",
         "metadata":{
            
         },
         "source":[
            "# Exercise 1: Understanding the Workflow",
            "# Let's create a dictionary to represent the workflow",
            "workflow = {\n",
            "  'scRNA-seq library': 'initial sample or tissue',\n",
            "  'Single cell library preparation protocol': 'method to prepare the scRNA-seq library for sequencing',\n",
            "  'Sequencing': 'generates FASTQ files (.fastq or .fq) from the scRNA-seq library',\n",
            "  'CellRanger': 'software to process the FASTQ files and generate a count matrix (.mtx)'\n",
            "}\n",
            "print(workflow)"
         ]
      },
      {
         "cell_type":"markdown",
         "metadata":{
            
         },
         "source":[
            "## Understanding FASTQ and Count Matrix",
            "FASTQ files are the raw data output from sequencing. They contain the nucleotide sequences (reads) and corresponding quality scores.",
            "The count matrix is the output of the CellRanger software. It represents the number of unique molecular identifiers (UMIs) per gene per cell."
         ]
      },
      {
         "cell_type":"code",
         "metadata":{
            
         },
         "source":[
            "# Exercise 2: Understanding FASTQ and Count Matrix",
            "# Let's create a simple representation of a FASTQ file and a count matrix",
            "# FASTQ file",
            "fastq_file = {\n",
            "  'read1': 'ATCGTACGATCG',\n",
            "  'read2': 'TACGTACGATCG',\n",
            "  'read3': 'CGTACGATCGTA'\n",
            "}\n",
            "print('FASTQ file:', fastq_file)\n",
            "\n",
            "# Count matrix",
            "count_matrix = {\n",
            "  'gene1': {'cell1': 10, 'cell2': 5, 'cell3': 0},\n",
            "  'gene2': {'cell1': 0, 'cell2': 20, 'cell3': 1},\n",
            "  'gene3': {'cell1': 30, 'cell2': 0, 'cell3': 0}\n",
            "}\n",
            "print('Count matrix:', count_matrix)"
         ]
      },
      {
         "cell_type":"markdown",
         "metadata":{
            
         },
         "source":[
            "## Converting FASTQ file into a count matrix",
            "1. **Step 1**: Align each sequencing read to a reference transcriptome. This converts the FASTQ file to a BAM/SAM file.",
            "2. **Step 2**: Count the number of unique molecular identifiers per gene/cell. This converts the BAM/SAM file to a count matrix."
         ]
      },
      {
         "cell_type":"code",
         "metadata":{
            
         },
         "source":[
            "# Exercise 3: Converting FASTQ file into a count matrix",
            "# Let's simulate the conversion of a FASTQ file into a count matrix",
            "# Step 1: Align each sequencing read to a reference transcriptome",
            "bam_file = {\n",
            "  'read1': 'gene1',\n",
            "  'read2': 'gene2',\n",
            "  'read3': 'gene1'\n",
            "}\n",
            "print('BAM file:', bam_file)\n",
            "\n",
            "# Step 2: Count the number of unique molecular identifiers per gene/cell",
            "count_matrix = {\n",
            "  'gene1': {'cell1': 2, 'cell2': 0, 'cell3': 0},\n",
            "  'gene2': {'cell1': 0, 'cell2': 1, 'cell3': 0}\n",
            "}\n",
            "print('Count matrix:', count_matrix)"
         ]
      },
      {
         "cell_type":"markdown",
         "metadata":{
            
         },
         "source":[
            "## Installing and Running CellRanger 🛠️",
            "CellRanger is a set of analysis pipelines that process Chromium Next GEM single cell data[^1^][1]. Here are the key steps involved in installing and running CellRanger[^1^][1]:",
            "1. **Download and unpack the Cell Ranger file** in any directory. In this example, we use `/opt`[^1^][1].",
            "2. **Download and unpack any of the reference data files** in a convenient location[^1^][1].",
            "3. **Prepend the Cell Ranger directory to your `$PATH`**. This will allow you to invoke the `cellranger` command[^1^][1]."
         ]
      },
      {
         "cell_type":"code",
         "metadata":{
            
         },
         "source":[
            "# Exercise 4: Installing and Running CellRanger",
            "# Let's simulate the installation and running of CellRanger",
            "print('Step 1: Download and unpack the Cell Ranger file')\n",
            "print('cd /opt')\n",
            "print('tar -xzvf cellranger-x.y.z.tar.gz')\n",
            "\n",
            "print('\\nStep 2: Download and unpack any of the reference data files')\n",
            "print('tar -xzvf refdata-gex-GRCh38-2020-A.tar.gz')\n",
            "\n",
            "print('\\nStep 3: Prepend the Cell Ranger directory to your $PATH')\n",
            "print('export PATH=/opt/cellranger-x.y.z:$PATH')"
         ]
      },
      {
         "cell_type":"markdown",
         "metadata":{
            
         },
         "source":[
            "## Exercise 🏋️‍♀️",
            "1. Review the [CellRanger manual] and list down the possible warnings that can be encountered when running CellRanger. What do these warnings mean and how can they impact the analysis?",
            "2. You have access to 15 CellRanger summary output HTML files. Choose one and prepare a presentation explaining the output to your colleagues. What are the key points you would highlight in your presentation?",
            "3. Create a fun and engaging game that can help your colleagues understand the CellRanger process better. For example, you could create a 'CellRanger Bingo' where each square represents a step in the CellRanger process or a potential warning message."
         ]
      },
      {
         "cell_type":"code",
         "metadata":{
            
         },
         "source":[
            "# Exercise 5: Understanding CellRanger Warnings",
            "# Let's simulate the generation of CellRanger warnings",
            "warnings = {\n",
            "  'warning1': 'This is a simulated warning 1',\n",
            "  'warning2': 'This is a simulated warning 2',\n",
            "  'warning3': 'This is a simulated warning 3'\n",
            "}\n",
            "print('CellRanger warnings:', warnings)"
         ]
      },
      {
         "cell_type":"code",
         "metadata":{
            
         },
         "source":[
            "# Exercise 6: Preparing for Presentation",
            "# Let's simulate the preparation for the presentation",
            "presentation_points = {\n",
            "  'point1': 'This is a simulated point 1',\n",
            "  'point2': 'This is a simulated point 2',\n",
            "  'point3': 'This is a simulated point 3'\n",
            "}\n",
            "print('Presentation points:', presentation_points)"
         ]
      },
      {
           "cell_type":"code",
           "metadata":{
                  
               },
               "source":[
                  "# Exercise 7: Creating a Teaching Game",
                  "# Let's simulate the creation of a 'CellRanger Bingo' game",
                  "bingo_card = {\n",
                  "  'B': ['B1', 'B2', 'B3', 'B4', 'B5'],\n",
                  "  'I': ['I1', 'I2', 'I3', 'I4', 'I5'],\n",
                  "  'N': ['N1', 'N2', 'N3', 'N4', 'N5'],\n",
                  "  'G': ['G1', 'G2', 'G3', 'G4', 'G5'],\n",
                  "  'O': ['O1', 'O2', 'O3', 'O4', 'O5']\n",
                  "}\n",
                  "print('CellRanger Bingo card:', bingo_card)"
               ]
            }
         ],
         "metadata":{
            "kernelspec":{
               "display_name":"Python 3",
               "language":"python",
               "name":"python3"
            },
            "language_info":{
               "codemirror_mode":{
                  "name":"ipython",
                  "version":3
               },
               "file_extension":".py",
               "mimetype":"text/x-python",
               "name":"python",
               "nbconvert_exporter":"python",
               "pygments_lexer":"ipython3",
               "version":"3.8.5"
            }
         },
         "nbformat":4,
         "nbformat_minor":4
      }
