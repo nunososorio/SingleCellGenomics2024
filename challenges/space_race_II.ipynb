{
  "nbformat": 4,
  "nbformat_minor": 0,
  "metadata": {
    "colab": {
      "provenance": [],
      "authorship_tag": "ABX9TyPNSunDQEkplAgmBXl/euuS",
      "include_colab_link": true
    },
    "kernelspec": {
      "name": "python3",
      "display_name": "Python 3"
    },
    "language_info": {
      "name": "python"
    }
  },
  "cells": [
    {
      "cell_type": "markdown",
      "metadata": {
        "id": "view-in-github",
        "colab_type": "text"
      },
      "source": [
        "<a href=\"https://colab.research.google.com/github/nunososorio/SingleCellGenomics2024/blob/main/challenges/space_race_I.ipynb\" target=\"_parent\"><img src=\"https://colab.research.google.com/assets/colab-badge.svg\" alt=\"Open In Colab\"/></a>"
      ]
    },
    {
      "cell_type": "markdown",
      "source": [
        "<img src=\"https://github.com/nunososorio/SingleCellGenomics2024/blob/main/logo.png?raw=true\" alt=\"AnnData\" style=\"width:600px; height:auto;\"/>"
      ],
      "metadata": {
        "id": "YUmrXznbFVLx"
      }
    },
    {
      "cell_type": "markdown",
      "source": [
        "## SINGLE CELL SPACE RACE I\n",
        "\n",
        "\n"
      ],
      "metadata": {
        "id": "hngj1IRrFXZd"
      }
    },
    {
      "cell_type": "markdown",
      "source": [
        "Organize in teams.\n",
        "Setup your environment running the code bellow"
      ],
      "metadata": {
        "id": "BVJEziqpFe6U"
      }
    },
    {
      "cell_type": "code",
      "source": [
        "!wget https://github.com/nunososorio/SingleCellGenomics2024/raw/main/challenges/Toy_data.h5ad\n",
        "!pip install scanpy loompy umap-learn scrublet louvain > _\n",
        "import scanpy as sc\n",
        "import numpy as np\n",
        "import scipy as sp\n",
        "import pandas as pd\n",
        "import matplotlib.pyplot as plt\n",
        "from matplotlib import rcParams\n",
        "from matplotlib import colors\n",
        "import seaborn as sb\n",
        "import scrublet as scr\n",
        "import loompy\n",
        "import os\n",
        "adata=sc.read_h5ad('Toy_data.h5ad')"
      ],
      "metadata": {
        "id": "_GNYmD9NFd2V"
      },
      "execution_count": null,
      "outputs": []
    },
    {
      "cell_type": "markdown",
      "source": [
        "Visit https://b.socrative.com/login/student/\n",
        "\n",
        "Enter NSO in the room name and wait for the questions to show (one login per team)"
      ],
      "metadata": {
        "id": "EQlEYD7IFqx2"
      }
    },
    {
      "cell_type": "code",
      "source": [
        "# You will need code to give correct answers.\n",
        "# Use this as your code playground.\n",
        "# You can use one code block per question.\n"
      ],
      "metadata": {
        "id": "ngPYYZLiGraW"
      },
      "execution_count": null,
      "outputs": []
    },
    {
      "cell_type": "code",
      "source": [],
      "metadata": {
        "id": "VZcUQKEPGzQl"
      },
      "execution_count": null,
      "outputs": []
    }
  ]
}