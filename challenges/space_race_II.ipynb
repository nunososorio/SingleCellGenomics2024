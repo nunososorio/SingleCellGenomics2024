{
  "cells": [
    {
      "cell_type": "markdown",
      "source": [
        "[![Open in colab](https://colab.research.google.com/assets/colab-badge.svg)](https://colab.research.google.com/github/nunososorio/SingleCellGenomics2024/blob/main/challenges/space_race_II.ipynb)\n"
      ],
      "metadata": {
        "id": "y_c_gBWvhbM1"
      }
    },
    {
      "cell_type": "markdown",
      "metadata": {
        "id": "YUmrXznbFVLx"
      },
      "source": [
        "<img src=\"https://github.com/nunososorio/SingleCellGenomics2024/blob/main/logo.png?raw=true\" alt=\"AnnData\" style=\"width:600px; height:auto;\"/>"
      ]
    },
    {
      "cell_type": "markdown",
      "metadata": {
        "id": "hngj1IRrFXZd"
      },
      "source": [
        "## SINGLE CELL SPACE RACE II"
      ]
    },
    {
      "cell_type": "markdown",
      "metadata": {
        "id": "BVJEziqpFe6U"
      },
      "source": [
        "Organize in teams.\n",
        "Setup your environment running the code bellow"
      ]
    },
    {
      "cell_type": "code",
      "execution_count": null,
      "metadata": {
        "id": "_GNYmD9NFd2V"
      },
      "outputs": [],
      "source": [
        "!wget https://github.com/nunososorio/SingleCellGenomics2024/raw/main/challenges/Toy_data.h5ad\n",
        "!pip install scanpy loompy umap-learn scrublet louvain > _\n",
        "import scanpy as sc\n",
        "import numpy as np\n",
        "import scipy as sp\n",
        "import pandas as pd\n",
        "import matplotlib.pyplot as plt\n",
        "from matplotlib import rcParams\n",
        "from matplotlib import colors\n",
        "import seaborn as sb\n",
        "import scrublet as scr\n",
        "import loompy\n",
        "import os\n",
        "adata=sc.read_h5ad('Toy_data.h5ad')"
      ]
    },
    {
      "cell_type": "markdown",
      "metadata": {
        "id": "EQlEYD7IFqx2"
      },
      "source": [
        "Visit https://b.socrative.com/login/student/\n",
        "\n",
        "Enter NSO in the room name and wait for the questions to show (one login per team)"
      ]
    },
    {
      "cell_type": "code",
      "execution_count": null,
      "metadata": {
        "id": "ngPYYZLiGraW"
      },
      "outputs": [],
      "source": [
        "# You will need code to give correct answers.\n",
        "# Use this as your code playground.\n",
        "# You can use one code block per question.\n"
      ]
    },
    {
      "cell_type": "code",
      "execution_count": null,
      "metadata": {
        "id": "VZcUQKEPGzQl"
      },
      "outputs": [],
      "source": []
    }
  ],
  "metadata": {
    "colab": {
      "provenance": []
    },
    "kernelspec": {
      "display_name": "Python 3",
      "name": "python3"
    },
    "language_info": {
      "name": "python"
    }
  },
  "nbformat": 4,
  "nbformat_minor": 0
}