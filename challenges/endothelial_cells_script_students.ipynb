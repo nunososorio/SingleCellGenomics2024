{
 "cells": [
  {
   "cell_type": "markdown",
   "id": "dcd85c35-e1d0-48c1-9ec4-15b43ad82da0",
   "metadata": {},
   "source": [
    "#### Non-small cell lung cancer (NSCLC) is histologically divided into adenocarcinoma, squamous cell carcinoma, and large-cell carcinoma. Lung adenocarcinoma (LUAD) is the most common type, accounting for approximately 40% of all lung cancers. LUAD is often detected at the metastatic stage with prevalence in the brain, bones, and respiratory system. Distant metastasis is the major cause of mortality in lung cancer; however, specific aspects of metastatic lung cancer and its associated microenvironments remain poorly understood. \n",
    "\n",
    "#### Efforts made for the understanding of lung cancer progression and metastasis have largely focused on profiling of cancer cells with genetic aberrations. However, progression and metastasis are also influenced by complex and dynamic features in tumor surroundings.\n",
    "\n",
    "#### To investigate stromal cell dynamics in the tumor microenvironment we will focus on endothelial cells. With the knowledge you already have in single cell analysis, determine de subclusters comprised in this endothelial population and if any of them are related to the tumor"
   ]
  },
  {
   "cell_type": "markdown",
   "id": "7b53de52-ec2e-43bc-b579-dc6a0cefc9a4",
   "metadata": {},
   "source": [
    "#### Import scanpy, numpy, scipy, pandas, csv, matplotlib and seaborn libraries"
   ]
  },
  {
   "cell_type": "code",
   "execution_count": null,
   "id": "2a552a62-1d63-45f0-8a9c-7fe68f8513c0",
   "metadata": {},
   "outputs": [],
   "source": []
  },
  {
   "cell_type": "markdown",
   "id": "63dce11a-a4a5-48df-9d86-83ff48aa7e23",
   "metadata": {},
   "source": [
    "#### Read the files endothelial_barcode.csv, endothelial_varnames.csv and endothelial_matrix.npz"
   ]
  },
  {
   "cell_type": "code",
   "execution_count": null,
   "id": "ab6eed66-385a-4a22-a013-2cd679b7f3f5",
   "metadata": {},
   "outputs": [],
   "source": []
  },
  {
   "cell_type": "markdown",
   "id": "0f421122-5504-4984-85fa-0364bf93c6f6",
   "metadata": {},
   "source": [
    "#### Create the anndata object"
   ]
  },
  {
   "cell_type": "code",
   "execution_count": null,
   "id": "484ff80c-cb72-495f-9645-58a48b6cc2fa",
   "metadata": {},
   "outputs": [],
   "source": []
  },
  {
   "cell_type": "markdown",
   "id": "d7b18cb5-62fc-46b2-a2ed-8f79e0d0dd4e",
   "metadata": {},
   "source": [
    "##### 1. How many cells and genes do we have?"
   ]
  },
  {
   "cell_type": "code",
   "execution_count": null,
   "id": "92ff9a6e-2b52-4752-880b-79044bc8b0f1",
   "metadata": {},
   "outputs": [],
   "source": []
  },
  {
   "cell_type": "markdown",
   "id": "be7cfaea-a24d-4914-a4ce-b19d15f456e8",
   "metadata": {},
   "source": [
    "##### 2. How many samples do we have?"
   ]
  },
  {
   "cell_type": "code",
   "execution_count": null,
   "id": "ed2f741d-46c6-4497-9a12-957d71d5132e",
   "metadata": {},
   "outputs": [],
   "source": []
  },
  {
   "cell_type": "markdown",
   "id": "bde42b11-2b4b-4972-b2c1-7d2c6a0940aa",
   "metadata": {},
   "source": [
    "##### 3. Which is the sample with more number of cells? And with lower?"
   ]
  },
  {
   "cell_type": "code",
   "execution_count": null,
   "id": "86ec2ccf-ad19-4f91-b62f-abf4697021ee",
   "metadata": {},
   "outputs": [],
   "source": []
  },
  {
   "cell_type": "markdown",
   "id": "4aa2b5c0-3580-4911-90cb-73c12f02ec2b",
   "metadata": {},
   "source": [
    "#### Filter genes expressed in more than 20 cells"
   ]
  },
  {
   "cell_type": "code",
   "execution_count": null,
   "id": "c5371746-2c99-4525-b0fb-4507162cac95",
   "metadata": {},
   "outputs": [],
   "source": []
  },
  {
   "cell_type": "markdown",
   "id": "c91a0166-5902-44c2-b1a2-e87dffea5488",
   "metadata": {},
   "source": [
    "##### 4. How many genes are removed after filtering?"
   ]
  },
  {
   "cell_type": "code",
   "execution_count": null,
   "id": "069b03c7-ada2-44c1-8a47-e92b50124ae3",
   "metadata": {},
   "outputs": [],
   "source": []
  },
  {
   "cell_type": "markdown",
   "id": "199b329a-b964-4df3-88b6-e705990d02f7",
   "metadata": {},
   "source": [
    "##### 5. Why does this filter remove X number of genes? Taking into account the data we downloaded with all the celltypes was already filtered"
   ]
  },
  {
   "cell_type": "code",
   "execution_count": null,
   "id": "525e32cf-2bac-4671-b2c7-f285ed2b1115",
   "metadata": {},
   "outputs": [],
   "source": []
  },
  {
   "cell_type": "markdown",
   "id": "86d43904-92a9-42dc-ab2d-1f58c3f41276",
   "metadata": {},
   "source": [
    "#### Determine HVGs. In this case, select as top genes the 10% of the total genes"
   ]
  },
  {
   "cell_type": "code",
   "execution_count": null,
   "id": "b4c3c5f9-802b-4880-bfce-ef1857dd248e",
   "metadata": {},
   "outputs": [],
   "source": []
  },
  {
   "cell_type": "markdown",
   "id": "8a850bea-43a9-47d4-8f64-827acadbc504",
   "metadata": {},
   "source": [
    "#### Make the dimensionality reduction process and select neighbors = 10"
   ]
  },
  {
   "cell_type": "code",
   "execution_count": null,
   "id": "312cf8d3-d969-4c95-8fbe-b4f136a5f182",
   "metadata": {},
   "outputs": [],
   "source": []
  },
  {
   "cell_type": "markdown",
   "id": "fca5067d-3e53-4493-8a72-be56b4cb3fb2",
   "metadata": {},
   "source": [
    "##### 6. Is there any bias related to sample origin? E.g: It seems like a group of cells from mLN samples cluster together"
   ]
  },
  {
   "cell_type": "code",
   "execution_count": null,
   "id": "2e04b846-5a39-4681-a5d1-e9137bb4b611",
   "metadata": {},
   "outputs": [],
   "source": []
  },
  {
   "cell_type": "markdown",
   "id": "4571de4f-cb93-4f1d-b08c-71a045bdd2f2",
   "metadata": {},
   "source": [
    "#### Clustering. Use resolution 0.2"
   ]
  },
  {
   "cell_type": "code",
   "execution_count": null,
   "id": "c06dcf3e-2c26-45c8-b87d-da1e62e60e92",
   "metadata": {},
   "outputs": [],
   "source": []
  },
  {
   "cell_type": "markdown",
   "id": "bb08440e-201e-4e15-8eba-9f7f67e9a9da",
   "metadata": {},
   "source": [
    "##### 7. Which is the cluster with more number of cells? How many does it have?"
   ]
  },
  {
   "cell_type": "code",
   "execution_count": null,
   "id": "1a8b6608-d839-4b9c-bbc6-c0f1dd2c6477",
   "metadata": {},
   "outputs": [],
   "source": []
  },
  {
   "cell_type": "markdown",
   "id": "314a89db-586e-4eb3-b811-5da9bbc78c9d",
   "metadata": {},
   "source": [
    "#### Annotate the clusters with their best markers. Rank the genes expression in each cluster"
   ]
  },
  {
   "cell_type": "code",
   "execution_count": null,
   "id": "f29b1eec-f723-4f7c-9609-6b9ef8e53256",
   "metadata": {},
   "outputs": [],
   "source": []
  },
  {
   "cell_type": "markdown",
   "id": "543acaac-8999-4f3a-920e-2ef24e3238f0",
   "metadata": {},
   "source": [
    "##### 8. Which are the top 3 markers for cluster 0? (Taking into account the logfoldchange)"
   ]
  },
  {
   "cell_type": "code",
   "execution_count": null,
   "id": "e6ce6abb-0638-4106-ae3c-70fe7ffac251",
   "metadata": {},
   "outputs": [],
   "source": []
  },
  {
   "cell_type": "markdown",
   "id": "5e2cad51-c57c-47fd-a047-fc809f26a0cc",
   "metadata": {},
   "source": [
    "##### 9. Create a unique heatmap with top 3 markers for each cluster"
   ]
  },
  {
   "cell_type": "code",
   "execution_count": null,
   "id": "0e4e70dc-d67d-4a23-ae3d-3c56411e1929",
   "metadata": {},
   "outputs": [],
   "source": []
  },
  {
   "cell_type": "markdown",
   "id": "d3f04934-16df-4786-9835-e7fa226edbc8",
   "metadata": {},
   "source": [
    "#### Annotate the clusters with markers used in the original article"
   ]
  },
  {
   "cell_type": "markdown",
   "id": "850376fb-ee7c-4c7b-81b6-4af3f747d2f7",
   "metadata": {},
   "source": [
    "#### Markers: \n",
    "##### Tumor cells: 'INSR','HSPG2','VWA1'\n",
    "##### Tip-like cells: 'RGCC','RAMP3','ADM'\n",
    "##### Stalk-like cells: 'ACKR1','SELP'\n",
    "##### EPCs: 'TYROBP','C1QB'\n",
    "##### Lymphatic: 'LYVE1','PROX1'"
   ]
  },
  {
   "cell_type": "markdown",
   "id": "e1887c44-a9d5-4945-aac3-cc7f841cc055",
   "metadata": {},
   "source": [
    "##### 10. Are the markers highlighted in the article for each cluster the best defining these populations?"
   ]
  },
  {
   "cell_type": "code",
   "execution_count": null,
   "id": "5aee4389-baef-4e5e-bcad-03c895788a9b",
   "metadata": {},
   "outputs": [],
   "source": []
  },
  {
   "cell_type": "markdown",
   "id": "dddd6ef5-fa0b-4e90-ba6f-e142e68f1f42",
   "metadata": {},
   "source": [
    "#### We are interested in the tumor environment. Thus, you manage to create a list of tumor markers from the literature and you want to determine which clusters have more representation of these markers"
   ]
  },
  {
   "cell_type": "markdown",
   "id": "abf70196-d6fb-421b-a48b-14d2d973019e",
   "metadata": {},
   "source": [
    "##### Tumor markers: 'INSR,HSPG2,VWA1,PLVAP,IGHG3,IGKC,SPRY1,COL4A1,IGLC2,IGFBP7,COL15A1,SPARC,COL4A2,CTGF,ACKR1,HTRA1,ANGPT2,ABCG2,SAT1,GSN,MLEC,A2M'"
   ]
  },
  {
   "cell_type": "code",
   "execution_count": null,
   "id": "c4a65e96-f0d3-4de1-9b5a-1122dc2478c3",
   "metadata": {},
   "outputs": [],
   "source": []
  },
  {
   "cell_type": "code",
   "execution_count": null,
   "id": "2de3c583-c9ca-4ba2-8739-4e4063668553",
   "metadata": {},
   "outputs": [],
   "source": []
  },
  {
   "cell_type": "code",
   "execution_count": null,
   "id": "d30b6db9-a075-45b5-974b-3b503cbfdfed",
   "metadata": {},
   "outputs": [],
   "source": []
  },
  {
   "cell_type": "code",
   "execution_count": null,
   "id": "b39f0cd2-b3d9-4433-a0fb-6d446d4c4c5e",
   "metadata": {},
   "outputs": [],
   "source": []
  }
 ],
 "metadata": {
  "kernelspec": {
   "display_name": "Python 3 (ipykernel)",
   "language": "python",
   "name": "python3"
  },
  "language_info": {
   "codemirror_mode": {
    "name": "ipython",
    "version": 3
   },
   "file_extension": ".py",
   "mimetype": "text/x-python",
   "name": "python",
   "nbconvert_exporter": "python",
   "pygments_lexer": "ipython3",
   "version": "3.8.13"
  }
 },
 "nbformat": 4,
 "nbformat_minor": 5
}
