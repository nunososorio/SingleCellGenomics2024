{
  "cells": [
    {
      "cell_type": "markdown",
      "id": "ROh9RLuinshp",
      "metadata": {
        "id": "ROh9RLuinshp"
      },
      "source": [
        "[![Open in colab](https://colab.research.google.com/assets/colab-badge.svg)](https://colab.research.google.com/github/nunososorio/SingleCellGenomics2024/blob/main/1_Monday_April8th/NB1_Intro_pandas.ipynb)\n",
        "\n"
      ]
    },
    {
      "cell_type": "markdown",
      "id": "cf49ffd7",
      "metadata": {
        "id": "cf49ffd7"
      },
      "source": [
        "<img src=\"https://github.com/nunososorio/SingleCellGenomics2024/blob/main/logo.png?raw=true\" alt=\"AnnData\" style=\"width:600px; height:auto;\"/>"
      ]
    },
    {
      "cell_type": "markdown",
      "id": "6fb37036-8989-49f5-b460-d1f1ba1efccc",
      "metadata": {
        "id": "6fb37036-8989-49f5-b460-d1f1ba1efccc"
      },
      "source": [
        "# Setup the environment"
      ]
    },
    {
      "cell_type": "markdown",
      "id": "fef4fa7a-0164-4cf9-9762-e8387407d9d8",
      "metadata": {
        "id": "fef4fa7a-0164-4cf9-9762-e8387407d9d8"
      },
      "source": [
        "The *basic* libraries (Numpy, Pandas, Matplotlib, Seaborn...) that we will use are already installed in Colab."
      ]
    },
    {
      "cell_type": "code",
      "execution_count": null,
      "id": "922ce4eb-e027-4846-91e4-014ddf803050",
      "metadata": {
        "id": "922ce4eb-e027-4846-91e4-014ddf803050"
      },
      "outputs": [],
      "source": [
        "# Import all the libraries we will use\n",
        "import numpy as np\n",
        "import random\n",
        "from scipy.stats import ttest_ind\n",
        "from scipy.stats import wilcoxon\n",
        "import pandas as pd\n",
        "import matplotlib.pyplot as plt\n",
        "import seaborn as sns"
      ]
    },
    {
      "cell_type": "code",
      "execution_count": null,
      "id": "fe91f501-5da3-4323-992c-249a525e0c1e",
      "metadata": {
        "id": "fe91f501-5da3-4323-992c-249a525e0c1e"
      },
      "outputs": [],
      "source": [
        "# Some details for the plots\n",
        "plt.rcParams.update({'font.size':18, 'figure.figsize':(8,8)})"
      ]
    },
    {
      "cell_type": "markdown",
      "id": "WH9a0Pz5G680",
      "metadata": {
        "id": "WH9a0Pz5G680"
      },
      "source": [
        "# Data structures for Bioinformatics\n",
        "\n",
        "Biological data in omics era is very rich, with observations about a patient, a cell or a tissue described by 100s or 1000s of variables (genes, proteins, polymorphisms, methylation states...).\n",
        "\n",
        "Analyzing this data is a difficult process: it requires understanding statistical methods and plenty of domain-specific knowledge.\n",
        "\n",
        "One of the challenges is how to access and manipulate and store the data that we have generated from experiments.\n"
      ]
    },
    {
      "cell_type": "markdown",
      "id": "SwluQb5YRCm0",
      "metadata": {
        "id": "SwluQb5YRCm0"
      },
      "source": [
        "# Notebook 1 - Basic data structures - why do we use  [Pandas](https://pandas.pydata.org/)\n",
        "\n",
        "In this notebook we will see how things look like when you handle **high-dimensional** data directly and how you can make things **easier** using data structures meant to store tabulated data.\n",
        "\n",
        "We **could** do things the hard way, but there is no need to...\n",
        "\n",
        "<img src=\"https://github.com/Leo-GG/bhs/blob/main/Data_structures/Illustrations/transition.png?raw=true\" alt=\"AnnData\" style=\"width:600px; height:auto;\"/>"
      ]
    },
    {
      "cell_type": "markdown",
      "id": "d78f78d2-7bbb-4958-b661-dc550316863c",
      "metadata": {
        "id": "d78f78d2-7bbb-4958-b661-dc550316863c"
      },
      "source": [
        "# Basic data structures"
      ]
    },
    {
      "cell_type": "markdown",
      "id": "5382b69c-d02b-4381-8a0c-46344c9a01ee",
      "metadata": {
        "id": "5382b69c-d02b-4381-8a0c-46344c9a01ee",
        "tags": []
      },
      "source": [
        "### Generate random data - you can hide this"
      ]
    },
    {
      "cell_type": "code",
      "execution_count": null,
      "id": "f019a5a3-c3a3-43a9-9b45-f1e28da6dc9f",
      "metadata": {
        "id": "f019a5a3-c3a3-43a9-9b45-f1e28da6dc9f"
      },
      "outputs": [],
      "source": [
        "# Let's generate the data\n",
        "n_samples=50\n",
        "# High values for sick patients\n",
        "simulated_beta = list(np.random.normal(0.6, 0.1, n_samples))\n",
        "np.clip(simulated_beta, 0, 1)\n",
        "# Add uniformly distributed values for healthy patients\n",
        "simulated_beta = simulated_beta+[random.uniform(0.0, 1.0) for _ in range(n_samples)]\n",
        "\n",
        "# Make a list of labels to identify the patients condition\n",
        "simulated_label = ['D']*n_samples+['H']*n_samples\n",
        "\n",
        "# Scramble the order\n",
        "idx_= np.arange(n_samples*2)\n",
        "np.random.shuffle(idx_)\n",
        "\n",
        "simulated_beta=np.array(simulated_beta)[idx_]\n",
        "simulated_label=np.array(simulated_label)[idx_]"
      ]
    },
    {
      "cell_type": "markdown",
      "id": "73120337-4eb1-4950-8e84-e24bf647bb62",
      "metadata": {
        "id": "73120337-4eb1-4950-8e84-e24bf647bb62"
      },
      "source": [
        "## Simple data"
      ]
    },
    {
      "cell_type": "markdown",
      "id": "188bbe79-4586-44b9-9342-ecc763a6b897",
      "metadata": {
        "id": "188bbe79-4586-44b9-9342-ecc763a6b897"
      },
      "source": [
        "**Suppose you get data from 100 subjects that are either healthy (H) or diseased (D).**\n",
        "You have information on one gene/protein/molecule... per subject and information about the condition of the subject\n",
        "<br/><br/>\n",
        "\n",
        "\n",
        "<img src=\"https://github.com/Leo-GG/bhs/blob/main/Data_structures/Illustrations/premise1.png?raw=true\" alt=\"AnnData\" style=\"width:600px; height:auto;\"/>\n",
        "\n",
        "<br/><br/>\n",
        "\n",
        "\n"
      ]
    },
    {
      "cell_type": "markdown",
      "id": "a1c5860f-db84-467c-ac14-7b2f57326621",
      "metadata": {
        "id": "a1c5860f-db84-467c-ac14-7b2f57326621"
      },
      "source": [
        "**This data can be stored as two separated arrays. We can easily read it, we can manipulate it and analyze it but this is not a very convenient way**\n",
        "\n",
        "- **simulated_beta** is an array holding the values of the feature\n",
        "- **simulated_label** is another array holding the labels (D or H) for each subject\n",
        "<br/><br/>\n",
        "\n"
      ]
    },
    {
      "cell_type": "code",
      "execution_count": null,
      "id": "16b434aa-7eb3-4374-9502-8a36756d007d",
      "metadata": {
        "id": "16b434aa-7eb3-4374-9502-8a36756d007d"
      },
      "outputs": [],
      "source": [
        "# Check the dimensions of the arrays\n",
        "print(simulated_beta.shape)\n",
        "print(simulated_label.shape)"
      ]
    },
    {
      "cell_type": "code",
      "execution_count": null,
      "id": "88d2e320-b6a3-479c-9628-365a8960c741",
      "metadata": {
        "id": "88d2e320-b6a3-479c-9628-365a8960c741"
      },
      "outputs": [],
      "source": [
        "# Check the variable types\n",
        "print(type(simulated_beta))\n",
        "print(type(simulated_label))"
      ]
    },
    {
      "cell_type": "code",
      "execution_count": null,
      "id": "6d000b76-85e7-44d4-920f-869bbba76145",
      "metadata": {
        "id": "6d000b76-85e7-44d4-920f-869bbba76145"
      },
      "outputs": [],
      "source": [
        "# See the actual values\n",
        "simulated_beta"
      ]
    },
    {
      "cell_type": "code",
      "execution_count": null,
      "id": "Hl6kk6wnt_gB",
      "metadata": {
        "id": "Hl6kk6wnt_gB"
      },
      "outputs": [],
      "source": [
        "simulated_label"
      ]
    },
    {
      "cell_type": "markdown",
      "id": "e4da0d22-04fb-4e2c-8b22-1a268b2adcde",
      "metadata": {
        "id": "e4da0d22-04fb-4e2c-8b22-1a268b2adcde"
      },
      "source": [
        "**We can plot this data**"
      ]
    },
    {
      "cell_type": "code",
      "execution_count": null,
      "id": "42a15f1a-85e6-4ea3-a237-17f7d2788165",
      "metadata": {
        "id": "42a15f1a-85e6-4ea3-a237-17f7d2788165"
      },
      "outputs": [],
      "source": [
        "# Let's make a histogram:\n",
        "\n",
        "# First we split the data based on the annotation: one vector of values for diseased subjects, and one for healthy ones\n",
        "# Note that we have to do this \"manually\"\n",
        "healthy_values = [beta for beta, condition in zip(simulated_beta, simulated_label) if condition=='H']\n",
        "diseased_values = [beta for beta, condition in zip(simulated_beta, simulated_label) if condition=='D']\n"
      ]
    },
    {
      "cell_type": "code",
      "execution_count": null,
      "id": "RfClFeTUuJaa",
      "metadata": {
        "id": "RfClFeTUuJaa"
      },
      "outputs": [],
      "source": [
        "# Check you have the right amount of data\n",
        "len(diseased_values)"
      ]
    },
    {
      "cell_type": "code",
      "execution_count": null,
      "id": "kt7q9iz-uIBR",
      "metadata": {
        "id": "kt7q9iz-uIBR"
      },
      "outputs": [],
      "source": [
        "# Then make one plot for each with different colors\n",
        "plt.hist(x=healthy_values, bins=20, color='b')\n",
        "plt.hist(x=diseased_values, bins=20, color='r')"
      ]
    },
    {
      "cell_type": "markdown",
      "id": "06Q54g3lZrU0",
      "metadata": {
        "id": "06Q54g3lZrU0"
      },
      "source": [
        "**We can run statistical tests on this data using the scipy library**"
      ]
    },
    {
      "cell_type": "code",
      "execution_count": null,
      "id": "ad96c5c6-d0ff-444b-929b-59623b5e9255",
      "metadata": {
        "id": "ad96c5c6-d0ff-444b-929b-59623b5e9255"
      },
      "outputs": [],
      "source": [
        "# We imported scipy earlier, but just as a reminder\n",
        "from scipy.stats import ttest_ind\n",
        "from scipy.stats import wilcoxon\n",
        "\n",
        "# If you didn't do it for the plot, you have to separate the data by label\n",
        "healthy_values = [beta for beta, condition in zip(simulated_beta, simulated_label) if condition=='H']\n",
        "diseased_values = [beta for beta, condition in zip(simulated_beta, simulated_label) if condition=='D']\n",
        "\n",
        "# Run the test\n",
        "t_statistic, p_value = ttest_ind(healthy_values, diseased_values)\n",
        "\n",
        "# Print the p-value\n",
        "print(p_value)"
      ]
    },
    {
      "cell_type": "code",
      "execution_count": null,
      "id": "6c7e490c-a97b-4c7b-8460-e4bbab9351b8",
      "metadata": {
        "id": "6c7e490c-a97b-4c7b-8460-e4bbab9351b8"
      },
      "outputs": [],
      "source": [
        "statistic, p_value = wilcoxon(healthy_values, diseased_values)\n",
        "print(p_value)"
      ]
    },
    {
      "cell_type": "markdown",
      "id": "eae8c52d-0a80-4c2c-87e3-bf5d5e1c63d9",
      "metadata": {
        "id": "eae8c52d-0a80-4c2c-87e3-bf5d5e1c63d9"
      },
      "source": [
        "# How about more realistic data?"
      ]
    },
    {
      "cell_type": "markdown",
      "id": "fedeab71-73c2-4725-a4e3-168ab965984f",
      "metadata": {
        "id": "fedeab71-73c2-4725-a4e3-168ab965984f",
        "jp-MarkdownHeadingCollapsed": true,
        "tags": []
      },
      "source": [
        "### Generate more random data - you can hide this"
      ]
    },
    {
      "cell_type": "code",
      "execution_count": null,
      "id": "bafb8a19-b4f2-4239-b49e-af874deeb553",
      "metadata": {
        "id": "bafb8a19-b4f2-4239-b49e-af874deeb553"
      },
      "outputs": [],
      "source": [
        "n_samples=50\n",
        "n_vars=80\n",
        "\n",
        "np.random.seed(42)\n",
        "\n",
        "# Some data for the diseased: half of the variables have uniform distributions\n",
        "simulated_betas=np.random.rand(n_samples, int(np.floor(n_vars/2)) )\n",
        "\n",
        "# The other half are normally distributed with random means between 0.5 and 0.9\n",
        "for i in range(int(np.floor(n_vars/2))):\n",
        "    new_col=np.random.normal(loc=random.uniform(0.5, 0.9), scale=0.1, size=(n_samples, 1))\n",
        "    np.clip(new_col, 0, 1)\n",
        "    simulated_betas=np.hstack((simulated_betas,new_col))\n",
        "\n",
        "simulated_betas=np.vstack((simulated_betas,np.random.rand(n_samples, n_vars) ))\n",
        "\n",
        "# Add labels for patients\n",
        "simulated_labels = ['D']*n_samples+['H']*n_samples\n",
        "\n",
        "# Add labels for genes\n",
        "# Sample list of prefixes and suffixes to create fictional gene names\n",
        "g_prefixes = ['OLIG1', 'TP53', 'EGFR', 'STAT', 'ATM', 'MYC', 'PORT', 'MAPK','TAC','SOL','ARTQ','BRAG','RCDLP','MT']\n",
        "g_suffixes = ['_NC','A', 'B', 'C', 'D', 'E','F','-2','X','-1']\n",
        "\n",
        "# Generate a list of 60 gene names\n",
        "gene_names = random.sample([prefix + suffix for prefix in g_prefixes for suffix in g_suffixes], n_vars)\n",
        "gene_names[5]='ARTQFw'\n",
        "gene_names[42]='MYCF_T'\n",
        "gene_names[17]='TP53D-3'\n",
        "\n",
        "# Scramble the subject order\n",
        "idx_s= np.arange(n_samples*2)\n",
        "np.random.shuffle(idx_s)\n",
        "\n",
        "# Scramble the variable order\n",
        "idx_v= np.arange(n_vars)\n",
        "np.random.shuffle(idx_v)\n",
        "\n",
        "simulated_labels=np.array(simulated_labels)[idx_s]\n",
        "gene_names=np.array(gene_names)[idx_v]\n",
        "\n",
        "simulated_betas=simulated_betas[idx_s][:,idx_v]"
      ]
    },
    {
      "cell_type": "markdown",
      "id": "08419a93-df0d-4470-829a-37f6b987c603",
      "metadata": {
        "id": "08419a93-df0d-4470-829a-37f6b987c603"
      },
      "source": [
        "## High dimensional data"
      ]
    },
    {
      "cell_type": "markdown",
      "id": "95bdf028-25e2-4fd7-aa5e-a4cbec4ff76e",
      "metadata": {
        "id": "95bdf028-25e2-4fd7-aa5e-a4cbec4ff76e"
      },
      "source": [
        "**Now suppose you are running a modern experiment, with many variables per sample**\n",
        "\n",
        "<br/><br/>\n",
        "\n",
        "\n",
        "<img src=\"https://github.com/Leo-GG/bhs/blob/main/Data_structures/Illustrations/premise2.png?raw=true\" alt=\"AnnData\" style=\"width:600px; height:auto;\"/>\n",
        "\n",
        "<br/><br/>\n"
      ]
    },
    {
      "cell_type": "code",
      "execution_count": null,
      "id": "8bacc4e6-3f63-45b3-bbfc-fe3cc1578d31",
      "metadata": {
        "id": "8bacc4e6-3f63-45b3-bbfc-fe3cc1578d31"
      },
      "outputs": [],
      "source": [
        "#Let's see what are the dimensions of the data\n",
        "\n",
        "# A data matrix\n",
        "print(simulated_betas.shape)\n",
        "# With patients labeled as healthy (H) or diseased (D)\n",
        "print(simulated_labels.shape)\n",
        "# And variables with gene-like names\n",
        "print(gene_names.shape)"
      ]
    },
    {
      "cell_type": "markdown",
      "id": "623b7c61-1484-47a2-9af2-f975eec4cb84",
      "metadata": {
        "id": "623b7c61-1484-47a2-9af2-f975eec4cb84"
      },
      "source": [
        "**We can still use this, but it starts to become inconvenient**\n",
        "\n",
        "- **We have three separated structures (data matrix, subject labels, gene labels) and we have to manipulate them individually**\n",
        "\n",
        "- **We have to index things manually because these variables are not related to each other**"
      ]
    },
    {
      "cell_type": "code",
      "execution_count": null,
      "id": "7ad6c0ea-3b37-4dcc-a22c-518dca03ad9b",
      "metadata": {
        "id": "7ad6c0ea-3b37-4dcc-a22c-518dca03ad9b"
      },
      "outputs": [],
      "source": [
        "## Plot the value of a specific \"gene\" on both groups ##\n",
        "\n",
        "# Get the index of the gene\n",
        "idx = np.where(gene_names == 'ARTQFw')[0]\n",
        "# Get the data from the matrix\n",
        "gene_data=simulated_betas[:,idx].flatten()\n",
        "\n",
        "# Split the data, get one array for diseased and one for healthy patients\n",
        "healthy_values = [beta for beta, condition in zip(gene_data, simulated_labels) if condition=='H']\n",
        "diseased_values = [beta for beta, condition in zip(gene_data, simulated_labels) if condition=='D']\n",
        "\n",
        "# Then make separated plots to assign different colors\n",
        "plt.hist(x=healthy_values, bins=20, color='b')\n",
        "plt.hist(x=diseased_values, bins=20, color='r')"
      ]
    },
    {
      "cell_type": "code",
      "execution_count": null,
      "id": "Yvir-6t2ns40",
      "metadata": {
        "id": "Yvir-6t2ns40"
      },
      "outputs": [],
      "source": [
        "# What if we want to test all genes for differences between groups?\n",
        "\n",
        "# We imported scipy earlier, but just as a reminder\n",
        "from scipy.stats import ttest_ind\n",
        "from scipy.stats import wilcoxon\n",
        "\n",
        "for g in gene_names:\n",
        "  # Get the index of the gene\n",
        "  idx = np.where(gene_names == g)[0]\n",
        "  # Get the data from the matrix\n",
        "  gene_data=simulated_betas[:,idx].flatten()\n",
        "\n",
        "  # Split the data, get one array for diseased and one for healthy patients\n",
        "  healthy_values = [beta for beta, condition in zip(gene_data, simulated_labels) if condition=='H']\n",
        "  diseased_values = [beta for beta, condition in zip(gene_data, simulated_labels) if condition=='D']\n",
        "  t_statistic, p_value = ttest_ind(healthy_values, diseased_values)\n",
        "\n",
        "  print(f'P-value for {g} is {p_value}')"
      ]
    },
    {
      "cell_type": "markdown",
      "id": "f2f89574-5795-4633-b15c-66e6ad4847bd",
      "metadata": {
        "id": "f2f89574-5795-4633-b15c-66e6ad4847bd",
        "tags": []
      },
      "source": [
        "# Making your life easier with [Pandas](https://pandas.pydata.org/)"
      ]
    },
    {
      "cell_type": "markdown",
      "id": "1b04b332-72bc-40a2-9f36-831cb2966002",
      "metadata": {
        "id": "1b04b332-72bc-40a2-9f36-831cb2966002"
      },
      "source": [
        "**We can store our data and labels using a data structure meant for tabular data: the *DataFrame* implemented in the [Pandas](https://pandas.pydata.org/) library**\n",
        "\n",
        "<br/><br/>\n",
        "\n",
        "\n",
        "<img src=\"https://external-content.duckduckgo.com/iu/?u=https%3A%2F%2Fwww.freecodecamp.org%2Fnews%2Fcontent%2Fimages%2F2020%2F07%2Fpandas-logo.png&f=1&nofb=1&ipt=33e1b23d5cea00213aa19a52eb3f25a71f2331d2cbd132120a90b295e40e9da9&ipo=images\" alt=\"Pandas\" style=\"width:600px; height:auto;\"/>\n",
        "\n",
        "<br/><br/>\n",
        "\n",
        "\n"
      ]
    },
    {
      "cell_type": "markdown",
      "id": "s3OC4amdz_Z3",
      "metadata": {
        "id": "s3OC4amdz_Z3"
      },
      "source": [
        "**Using DataFrames instead of arrays makes it easier to index, explore and manipulate our data**\n",
        "<br/><br/>\n",
        "\n"
      ]
    },
    {
      "cell_type": "code",
      "execution_count": null,
      "id": "437bd526-9d61-4d92-8edf-e61a3ede70b9",
      "metadata": {
        "id": "437bd526-9d61-4d92-8edf-e61a3ede70b9"
      },
      "outputs": [],
      "source": [
        "# We imported Pandas earlier, but here is a reminder\n",
        "import pandas as pd\n",
        "\n",
        "# Let's create a DataFrame from our simulated data\n",
        "\n",
        "df=pd.DataFrame(data=simulated_betas)"
      ]
    },
    {
      "cell_type": "code",
      "execution_count": null,
      "id": "a5cd57be-ea9b-4722-922e-3431b21e5862",
      "metadata": {
        "id": "a5cd57be-ea9b-4722-922e-3431b21e5862"
      },
      "outputs": [],
      "source": [
        "# Now we can check how it looks, looking at the first few rows\n",
        "\n",
        "df.head(3)"
      ]
    },
    {
      "cell_type": "code",
      "execution_count": null,
      "id": "38a8e531-dc8a-4bdd-84ea-be79978ccd45",
      "metadata": {
        "id": "38a8e531-dc8a-4bdd-84ea-be79978ccd45"
      },
      "outputs": [],
      "source": [
        "# We can use the pseudo-gene names to name the columns\n",
        "\n",
        "df.columns=gene_names"
      ]
    },
    {
      "cell_type": "code",
      "execution_count": null,
      "id": "7244535e-9332-4834-b5c7-375f02dba08f",
      "metadata": {
        "id": "7244535e-9332-4834-b5c7-375f02dba08f"
      },
      "outputs": [],
      "source": [
        "df.head(3)"
      ]
    },
    {
      "cell_type": "code",
      "execution_count": null,
      "id": "r7v8yBU80Zmn",
      "metadata": {
        "id": "r7v8yBU80Zmn"
      },
      "outputs": [],
      "source": [
        "# And we will add the subject condition as an extra column\n",
        "\n",
        "df['Condition']=simulated_labels"
      ]
    },
    {
      "cell_type": "code",
      "execution_count": null,
      "id": "5RhbmCHU0eud",
      "metadata": {
        "id": "5RhbmCHU0eud"
      },
      "outputs": [],
      "source": [
        "df.head(3)"
      ]
    },
    {
      "cell_type": "markdown",
      "id": "-QmA4weE9acF",
      "metadata": {
        "id": "-QmA4weE9acF"
      },
      "source": [
        "### **Now the 3 Python objects are in a single one!!!**"
      ]
    },
    {
      "cell_type": "markdown",
      "id": "aef02859-b73a-4fa4-b0cb-1d1f3edd6e45",
      "metadata": {
        "id": "aef02859-b73a-4fa4-b0cb-1d1f3edd6e45"
      },
      "source": [
        "## Indexing a DataFrame"
      ]
    },
    {
      "cell_type": "markdown",
      "id": "12397254-66ab-4180-9ab3-613485c47910",
      "metadata": {
        "id": "12397254-66ab-4180-9ab3-613485c47910"
      },
      "source": [
        "**Using DataFrames, it is easy to access data about a single gene, select subjects based their Condition label or select data using arbitrary criteria**\n",
        "\n",
        "<br/><br/>\n"
      ]
    },
    {
      "cell_type": "code",
      "execution_count": null,
      "id": "ff66dde8-2c31-403f-93f5-993a00cd7c7d",
      "metadata": {
        "id": "ff66dde8-2c31-403f-93f5-993a00cd7c7d"
      },
      "outputs": [],
      "source": [
        "# Check the ARTQFw and the MYCF_T genes\n",
        "\n",
        "df.loc[:,['ARTQFw','MYCF_T']]"
      ]
    },
    {
      "cell_type": "code",
      "execution_count": null,
      "id": "9f7fda6c-c7f0-4619-960d-572134874b32",
      "metadata": {
        "id": "9f7fda6c-c7f0-4619-960d-572134874b32"
      },
      "outputs": [],
      "source": [
        "# ...but only on patients 8, 24, 7 and 63\n",
        "df.loc[[8, 24, 7, 63], ['ARTQFw','MYCF_T']]"
      ]
    },
    {
      "cell_type": "code",
      "execution_count": null,
      "id": "70f77fd5-ab76-4947-b5a7-b6cde6f59304",
      "metadata": {
        "id": "70f77fd5-ab76-4947-b5a7-b6cde6f59304"
      },
      "outputs": [],
      "source": [
        "# Subset by index\n",
        "df.iloc[[9,23,5],[0,2,4,6]]"
      ]
    },
    {
      "cell_type": "code",
      "execution_count": null,
      "id": "a0bad1a4-e0ec-4a9a-b3cb-0213983b9073",
      "metadata": {
        "id": "a0bad1a4-e0ec-4a9a-b3cb-0213983b9073"
      },
      "outputs": [],
      "source": [
        "# Use a arbitrary condition\n",
        "df.loc[df.ARTQFw>0.8]"
      ]
    },
    {
      "cell_type": "markdown",
      "id": "495bf28c-db8e-43f7-a6c0-b0ccee593ab9",
      "metadata": {
        "id": "495bf28c-db8e-43f7-a6c0-b0ccee593ab9",
        "tags": []
      },
      "source": [
        "## Exploring the data"
      ]
    },
    {
      "cell_type": "markdown",
      "id": "fe6c4549-d48f-4cf1-b99a-a30bfd43d336",
      "metadata": {
        "id": "fe6c4549-d48f-4cf1-b99a-a30bfd43d336"
      },
      "source": [
        "**Pandas provides convenient functions to explore the data**\n",
        "<br/><br/>\n"
      ]
    },
    {
      "cell_type": "code",
      "execution_count": null,
      "id": "f70d80aa-42d4-49db-9a90-07cbeb1aa8ad",
      "metadata": {
        "id": "f70d80aa-42d4-49db-9a90-07cbeb1aa8ad"
      },
      "outputs": [],
      "source": [
        "# General statistics of each variable\n",
        "df.describe()"
      ]
    },
    {
      "cell_type": "code",
      "execution_count": null,
      "id": "48bb6be7-63bf-4dcf-8fae-e691249d3c2b",
      "metadata": {
        "id": "48bb6be7-63bf-4dcf-8fae-e691249d3c2b"
      },
      "outputs": [],
      "source": [
        "# Average per gene (column)\n",
        "df.mean()"
      ]
    },
    {
      "cell_type": "code",
      "execution_count": null,
      "id": "f577905b-c167-4b00-bd80-d4d4f0bf2662",
      "metadata": {
        "id": "f577905b-c167-4b00-bd80-d4d4f0bf2662"
      },
      "outputs": [],
      "source": [
        "# Average per subject (row)\n",
        "df.mean(axis=1)"
      ]
    },
    {
      "cell_type": "code",
      "execution_count": null,
      "id": "7a2d4366-aeb6-438f-ab77-a89dbac724b3",
      "metadata": {
        "id": "7a2d4366-aeb6-438f-ab77-a89dbac724b3"
      },
      "outputs": [],
      "source": [
        "# And many other options, e.g.\n",
        "\n",
        "# Sum over rows (axis=0) or over columns (axis=1)\n",
        "df.sum(axis=0)"
      ]
    },
    {
      "cell_type": "code",
      "execution_count": null,
      "id": "MDpWZnE1yRiy",
      "metadata": {
        "id": "MDpWZnE1yRiy"
      },
      "outputs": [],
      "source": [
        "# Divide each column (except the last one) by its mean\n",
        "df.iloc[:,:-1].div(df.mean(axis=0))\n",
        "# ..."
      ]
    },
    {
      "cell_type": "code",
      "execution_count": null,
      "id": "deyqe_rB2pTZ",
      "metadata": {
        "id": "deyqe_rB2pTZ"
      },
      "outputs": [],
      "source": [
        "# You can also group values and apply operations to them\n",
        "\n",
        "#Let's compute the mean of each \"gene\" on each group\n",
        "df.groupby('Condition').mean()"
      ]
    },
    {
      "cell_type": "code",
      "execution_count": null,
      "id": "tAd6nLg43e4-",
      "metadata": {
        "id": "tAd6nLg43e4-"
      },
      "outputs": [],
      "source": [
        "# If we do the difference between these means we will see the genes with large changes between groups\n",
        "df.groupby('Condition').mean().diff(axis=0)"
      ]
    },
    {
      "cell_type": "markdown",
      "id": "b2abda25-a6e9-4377-91bc-1b0cc0ea1220",
      "metadata": {
        "id": "b2abda25-a6e9-4377-91bc-1b0cc0ea1220"
      },
      "source": [
        "## Making visualizations"
      ]
    },
    {
      "cell_type": "markdown",
      "id": "EnTGEJS81RKO",
      "metadata": {
        "id": "EnTGEJS81RKO"
      },
      "source": [
        "**Pandas has native plotting functions. Not the most powerful ones, but very very easy to use**\n",
        "\n",
        "<br/><br/>\n"
      ]
    },
    {
      "cell_type": "code",
      "execution_count": null,
      "id": "d3a101d0-ba20-4c64-b379-47167c3015a5",
      "metadata": {
        "id": "d3a101d0-ba20-4c64-b379-47167c3015a5"
      },
      "outputs": [],
      "source": [
        "# Plot the histogram of one gene on each group\n",
        "df.hist(by='Condition', column='TP53D-3', figsize=(10, 8))"
      ]
    },
    {
      "cell_type": "code",
      "execution_count": null,
      "id": "7f50de0b-37fe-4f28-ab7f-07c7d492641b",
      "metadata": {
        "id": "7f50de0b-37fe-4f28-ab7f-07c7d492641b"
      },
      "outputs": [],
      "source": [
        "# Boxplots\n",
        "df.plot.box(column=\"TP53D-3\", by=\"Condition\", figsize=(10, 8))"
      ]
    },
    {
      "cell_type": "markdown",
      "id": "fe8ce0e7-3e33-4e70-b28d-ecbc53eb916c",
      "metadata": {
        "id": "fe8ce0e7-3e33-4e70-b28d-ecbc53eb916c"
      },
      "source": [
        "# Other libraries work great with DataFrames!"
      ]
    },
    {
      "cell_type": "markdown",
      "id": "1c2897ab-caeb-4d33-8cec-f52fdcf1c5d0",
      "metadata": {
        "id": "1c2897ab-caeb-4d33-8cec-f52fdcf1c5d0"
      },
      "source": [
        "## [Seaborn](https://seaborn.pydata.org/)\n",
        "**The [Seaborn](https://seaborn.pydata.org/) library provides many functions to plot data from dataframes, it makes very easy to create different types of visualizations**\n",
        "<br/><br/>"
      ]
    },
    {
      "cell_type": "code",
      "execution_count": null,
      "id": "5d14586f-80ac-458e-8e8a-3b943fe634bf",
      "metadata": {
        "id": "5d14586f-80ac-458e-8e8a-3b943fe634bf"
      },
      "outputs": [],
      "source": [
        "# Remember we did this!\n",
        "import seaborn as sns\n",
        "\n",
        "# Make histograms of a gene per group, include the estimated density functions\n",
        "sns.histplot(data=df, x='ARTQFw', hue='Condition', kde=True, stat='density')\n",
        "sns.despine()"
      ]
    },
    {
      "cell_type": "code",
      "execution_count": null,
      "id": "a5bf7080-0c4c-4b65-b87c-608ed1180804",
      "metadata": {
        "id": "a5bf7080-0c4c-4b65-b87c-608ed1180804"
      },
      "outputs": [],
      "source": [
        "# Plot once gene against another, color by group\n",
        "sns.scatterplot(data=df, x='TP53D-3', y='MYCF_T', hue='Condition')\n",
        "sns.despine()"
      ]
    },
    {
      "cell_type": "markdown",
      "id": "EUP_k_R3zzt7",
      "metadata": {
        "id": "EUP_k_R3zzt7"
      },
      "source": [
        "## Check the [gallery](https://seaborn.pydata.org/examples/index.html) to see what else you can do!\n"
      ]
    },
    {
      "cell_type": "markdown",
      "id": "e3396d36-0781-47ef-8285-7b079dca447e",
      "metadata": {
        "id": "e3396d36-0781-47ef-8285-7b079dca447e"
      },
      "source": [
        "## [sci-kit learn](https://scikit-learn.org/stable/index.html)\n",
        "**The [sci-kit learn](https://scikit-learn.org/stable/index.html) (sklearn) library is a powerful library which implements many machine learning methods**\n",
        "\n",
        "**You can use it to do regression, classification, clustering... in few lines of code!**\n",
        "\n",
        "<br/><br/>"
      ]
    },
    {
      "cell_type": "code",
      "execution_count": null,
      "id": "6595d268-1af7-4275-bfc0-eb3395427082",
      "metadata": {
        "id": "6595d268-1af7-4275-bfc0-eb3395427082"
      },
      "outputs": [],
      "source": [
        "# E.g. make a classifier for our data using logistic regression\n",
        "\n",
        "# First we have to import the model\n",
        "from sklearn.linear_model import LogisticRegression\n",
        "# And instantiate it\n",
        "model = LogisticRegression()\n",
        "\n",
        "# Then we directly *fit* the model to our data\n",
        "# We use all the genes as features (X)\n",
        "# The \"Condition\" label (diseased/healthy) as the target (y)\n",
        "model.fit(X=df.iloc[:,:-1], y=df.Condition)"
      ]
    },
    {
      "cell_type": "code",
      "execution_count": null,
      "id": "ab24cc23-77ab-4794-b351-99826fe6067a",
      "metadata": {
        "id": "ab24cc23-77ab-4794-b351-99826fe6067a"
      },
      "outputs": [],
      "source": [
        "# Use the model to predict the labels\n",
        "model.predict(df.iloc[:,:-1])"
      ]
    },
    {
      "cell_type": "code",
      "execution_count": null,
      "id": "1788ff77-a9f6-45dc-807d-0836030dd369",
      "metadata": {
        "id": "1788ff77-a9f6-45dc-807d-0836030dd369"
      },
      "outputs": [],
      "source": [
        "# See the coefficients of the model (the \"weight\" of each feature in the predictions)\n",
        "model.coef_"
      ]
    },
    {
      "cell_type": "code",
      "execution_count": null,
      "id": "ca5d43b3-bea8-4ca8-8d94-73fe47e79c80",
      "metadata": {
        "id": "ca5d43b3-bea8-4ca8-8d94-73fe47e79c80"
      },
      "outputs": [],
      "source": [
        "# Compare the predictions to the real labels\n",
        "from sklearn.metrics import accuracy_score\n",
        "\n",
        "acc = accuracy_score(y_true=df.Condition,  y_pred=model.predict(df.iloc[:,:-1]) )\n",
        "\n",
        "print('Model accuracy: ' + str(acc) )\n"
      ]
    },
    {
      "cell_type": "code",
      "execution_count": null,
      "id": "a20e6c81-2c1d-4924-b043-aff87793e449",
      "metadata": {
        "id": "a20e6c81-2c1d-4924-b043-aff87793e449"
      },
      "outputs": [],
      "source": [
        "# ..."
      ]
    },
    {
      "cell_type": "markdown",
      "id": "uhiABInvvQaD",
      "metadata": {
        "id": "uhiABInvvQaD"
      },
      "source": [
        "<img src=\"https://github.com/Leo-GG/bhs/blob/main/Data_structures/Illustrations/dont_panic.jpg?raw=true\" alt=\"AnnData\" style=\"width:600px; height:auto;\"/>\n",
        "\n",
        "\n",
        "- There is plenty of great documentation out there\n",
        "  - Libraries APIs: [Pandas](https://pandas.pydata.org/), [Seaborn](https://seaborn.pydata.org/), [sklearn](https://scikit-learn.org/stable/index.html)\n",
        "  - Tutorials and how-to guides:\n",
        "    - https://www.datacamp.com/tutorial/pandas\n",
        "    - https://www.w3schools.com/python/pandas/default.asp\n",
        "    - https://seaborn.pydata.org/tutorial.html\n",
        "    - https://scikit-learn.org/stable/tutorial/index.html\n",
        "    - ...\n",
        "\n",
        "- If you google your questions nowadays you are likely to get a guide\n",
        "  - e.g. [How do I normalize a dataframe in Python?](https://www.google.com/search?q=how+do+i+normalize+a+dataframe+in+python%3F&sca_esv=4565a9eaa81cf1bb&source=hp&ei=cOHHZZjhGo2B9u8P7tiWkAs&iflsig=ANes7DEAAAAAZcfvgFYJtg4fAHl-PprAEXsVmJ4UOg80&ved=0ahUKEwiY2bf90qGEAxWNgP0HHW6sBbIQ4dUDCAw&uact=5&oq=how+do+i+normalize+a+dataframe+in+python%3F&gs_lp=Egdnd3Mtd2l6Iilob3cgZG8gaSBub3JtYWxpemUgYSBkYXRhZnJhbWUgaW4gcHl0aG9uPzIGEAAYFhgeMgsQABiABBiKBRiGAzILEAAYgAQYigUYhgNI8y5QAFiELXAAeACQAQCYAbACoAGFOKoBCTAuMzAuMTAuMbgBA8gBAPgBAcICBRAAGIAEwgILEC4YgAQYxwEY0QPCAg4QLhiABBjHARjRAxjUAsICCBAuGIAEGNQCwgIFEC4YgATCAgcQABiABBgKwgIIEAAYFhgeGA8&sclient=gws-wiz)\n",
        "\n",
        "- And of course LLMs are now great at coding\n",
        "  - [ChatGPT](https://chat.openai.com/)\n",
        "  - [Open LLMs (Mixtral, Ollama...)](https://chat.lmsys.org/)"
      ]
    },
    {
      "cell_type": "markdown",
      "id": "868791da-303e-4b2c-bd68-d90018309040",
      "metadata": {
        "id": "868791da-303e-4b2c-bd68-d90018309040"
      },
      "source": [
        "# Reading and writing your data\n",
        "**Pandas includes functions to read and write data to and from csv, Excel files and formats for large datasets**\n",
        "\n",
        "<br/><br/>"
      ]
    },
    {
      "cell_type": "code",
      "execution_count": null,
      "id": "f8cb1c3d-7a88-47c5-bfa9-f4c4677f536d",
      "metadata": {
        "id": "f8cb1c3d-7a88-47c5-bfa9-f4c4677f536d"
      },
      "outputs": [],
      "source": [
        "# Write your data in plain text to a file, in Comma Separated Values (csv) format\n",
        "df.to_csv('My_data.csv')"
      ]
    },
    {
      "cell_type": "code",
      "execution_count": null,
      "id": "cacaee8d-e97b-455e-8a2b-61c9823dcb50",
      "metadata": {
        "id": "cacaee8d-e97b-455e-8a2b-61c9823dcb50"
      },
      "outputs": [],
      "source": [
        "pd.read_csv('My_data.csv', index_col=0)"
      ]
    },
    {
      "cell_type": "code",
      "execution_count": null,
      "id": "918aef0e-0262-4d95-b4c2-7bcd8850a8ad",
      "metadata": {
        "id": "918aef0e-0262-4d95-b4c2-7bcd8850a8ad"
      },
      "outputs": [],
      "source": [
        "# You can also read and write to an excel file\n",
        "df.to_excel('My_data.xlsx',sheet_name='simulated_data')"
      ]
    },
    {
      "cell_type": "code",
      "execution_count": null,
      "id": "5b834af4-95de-40e3-8d2e-28db042fae48",
      "metadata": {
        "id": "5b834af4-95de-40e3-8d2e-28db042fae48"
      },
      "outputs": [],
      "source": [
        "pd.read_excel('My_data.xlsx',sheet_name='simulated_data', index_col=0)"
      ]
    },
    {
      "cell_type": "code",
      "execution_count": null,
      "id": "48f9bf87-d02d-441b-b40b-9480f8467153",
      "metadata": {
        "id": "48f9bf87-d02d-441b-b40b-9480f8467153"
      },
      "outputs": [],
      "source": [
        "# And you can use formats for large datasets, like Pickle or Parquet\n",
        "df.to_pickle('My_data.pkl')"
      ]
    },
    {
      "cell_type": "code",
      "execution_count": null,
      "id": "13fe2c1f-6480-4cdf-b105-aeef0fc013c8",
      "metadata": {
        "id": "13fe2c1f-6480-4cdf-b105-aeef0fc013c8"
      },
      "outputs": [],
      "source": [
        "pd.read_pickle('My_data.pkl')"
      ]
    },
    {
      "cell_type": "code",
      "execution_count": null,
      "id": "96705b8b-e00c-407a-8c69-438b4d34100e",
      "metadata": {
        "id": "96705b8b-e00c-407a-8c69-438b4d34100e"
      },
      "outputs": [],
      "source": [
        "df.to_parquet('My_data.parquet')"
      ]
    },
    {
      "cell_type": "code",
      "execution_count": null,
      "id": "7e76ed1a-5607-486f-8290-5e50063f92da",
      "metadata": {
        "id": "7e76ed1a-5607-486f-8290-5e50063f92da"
      },
      "outputs": [],
      "source": [
        "pd.read_parquet('My_data.parquet')"
      ]
    }
  ],
  "metadata": {
    "colab": {
      "provenance": []
    },
    "kernelspec": {
      "display_name": "Python 3 (ipykernel)",
      "language": "python",
      "name": "python3"
    },
    "language_info": {
      "codemirror_mode": {
        "name": "ipython",
        "version": 3
      },
      "file_extension": ".py",
      "mimetype": "text/x-python",
      "name": "python",
      "nbconvert_exporter": "python",
      "pygments_lexer": "ipython3",
      "version": "3.10.9"
    }
  },
  "nbformat": 4,
  "nbformat_minor": 5
}