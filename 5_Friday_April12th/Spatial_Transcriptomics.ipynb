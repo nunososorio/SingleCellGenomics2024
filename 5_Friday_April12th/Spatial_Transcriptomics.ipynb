{
 "cells": [
  {
   "cell_type": "markdown",
   "metadata": {
    "colab_type": "text",
    "id": "view-in-github"
   },
   "source": [
    "<a href=\"https://colab.research.google.com/github/nunososorio/SingleCellGenomics2024/blob/main/5_Friday_April12th/Spatial_Transcriptomics.ipynb\" target=\"_parent\"><img src=\"https://colab.research.google.com/assets/colab-badge.svg\" alt=\"Open In Colab\"/></a>"
   ]
  },
  {
   "cell_type": "markdown",
   "metadata": {},
   "source": [
    "# Spatial transcriptomics"
   ]
  },
  {
   "cell_type": "markdown",
   "metadata": {},
   "source": [
    "In this part of the course we will focus on spatial transcriptomics data. Spatial transcriptomic technologies allow for the systematic measurement of gene expression levels throughout the tissue sample, increasing our understanding of cellular organisations and interactions within tissues while also providing biological insights in a wide range of subject and diseases. Multiple types of spatial techniques have been developed and they vary within spatial resolution, multiplexing capabilities, sensitivity, coverage, and throughput.\n",
    "\n",
    "The different developed methods can by divided into tour categories:<br>\n",
    "- **Sequencing-based:** 10X Genomics Visium, Stereo-seq, Slide-seq, Light-seq;<br>\n",
    "- **Probe-based:** NonoString GeoMx;<br>\n",
    "- **Imaging-based:** NanoString CosMx SMI, STARmap, MERFISH, seqFISH; <br>\n",
    "- **Image-guided spatially resolved:** NICHE-seq, Geo-seq, Zip-seq.<br>\n",
    "\n",
    "Some methodologies also allow to access different types of omics in addition to transcriptomics (RNA), such as DNA, protein, metabolite, chromatin accessibility, histone modification , among others. For more information on this topic you can check the following paper doi: 10.3390/cells12162042"
   ]
  },
  {
   "cell_type": "markdown",
   "metadata": {},
   "source": [
    "# Load packages"
   ]
  },
  {
   "cell_type": "markdown",
   "metadata": {},
   "source": [
    "In this tutorial we'll be using the following packages in order to perform the basis of the spatial transcriptomics data analysis. \n",
    "\n",
    "*Scanpy* will be used to perform teh data analysis and visualization, as donne on the previous notebook for scRNA-seq.\n",
    "\n",
    "*Pandas* and *Numpy* packages will be used to perform data matrices manipulation.\n",
    "\n",
    "*seaborn* and *matplotlib* will be used in some cases to plot the results.\n",
    "\n",
    "For more advanced analysis we can check on *squidpy*."
   ]
  },
  {
   "cell_type": "code",
   "execution_count": null,
   "metadata": {},
   "outputs": [],
   "source": [
    "! pip install scanpy > _"
   ]
  },
  {
   "cell_type": "code",
   "execution_count": null,
   "metadata": {},
   "outputs": [],
   "source": [
    "import scanpy as sc\n",
    "import pandas as pd\n",
    "import numpy as np\n",
    "import seaborn as sns\n",
    "import matplotlib.pyplot as plt\n",
    "\n",
    "sc.settings.verbosity = 3  "
   ]
  },
  {
   "cell_type": "markdown",
   "metadata": {},
   "source": [
    "# Data set\n",
    "\n",
    "This dataset was retrieved form the GEO database using the accession number ***GSE226208*** and the paper is entitled \"*Shared inflammatory glial cell signature after brain injury, revealed by spatial, temporal and cell-type-specific profiling of the murine cerebral cortex*\" and has the following doi: https://doi.org/10.1101/2023.02.24.529840. The goal of this paper was to understand the mechanisms working after traumatic brain injury (TBI). This study is composed by two dataset: one of spatial data, which the one we are using and one of scRNA-seq data, which we'll not use in this course. These tow were used to analyse the transcriptomic signature of the mouse injured cerebral cortex. \n",
    "\n",
    "The main results were the identification of specific states for microglia, astrocytes, and OPCs which comprised some genes related to injury, including genes related to inflammatory responses of the innate immune system (Cxcr3).\n",
    "\n",
    "The spatial dataset is composed by 2 samples, one from healthy mouse brain (Intact/ctl) and another from a 3 days post-injury brain (3DPI/dpi3). The brain injuries were stab-wonds induced on the cerebral cortex, affecting only the grey matter. Each spatial transcriptomics slide contains 2 tissue slices from each condition, one with the normal orientation and the other one upside-down. \n",
    "\n",
    "As as summary, this study serves as a spatial and temporal map of cell-type specific mouse cortex, revealing the inflammatory signatures of glial cells after trauma. \n",
    "\n",
    "The technique used to sequence this samples was the Visium technology from 10X, where each slice contains 5000 spots of 55$\\mu with unique barcodes, and each spot can capture the transcripts from 1 to 10 cells, so the number of cells per spot will depend on the size of each cell and its neighbours. To capture the mRNA, the tissue needs to be permeabilized and then the mRNA will bind to the capture oligonucleotides present in each spot. Then the mRNA is synthetized into cDNA and the sequencing library is prepared. To get the spatial information before permeabilizing the tissue we need to stain the tissue with H&E or IF and do the imaging.\n",
    "\n",
    "Here we start already with the data matrix instead of the FASTQ files, which means that the authors already ran the SpaceRanger, which is the equivalent of CellRanger but for spatial data."
   ]
  },
  {
   "attachments": {},
   "cell_type": "markdown",
   "metadata": {},
   "source": [
    "Here is a figure to explain more about the dataset we will use:"
   ]
  },
  {
   "cell_type": "markdown",
   "metadata": {
    "id": "U3WSXwdd8Xoh"
   },
   "source": [
    "<img src=\"https://github.com/nunososorio/SingleCellGenomics2024/blob/main/5_Friday_April12th/overview_figure.png?raw=true\" alt=\"AnnData\" style=\"width:600px; height:auto;\"/>"
   ]
  },
  {
   "cell_type": "markdown",
   "metadata": {},
   "source": [
    "# Download the data to use in this tutorial"
   ]
  },
  {
   "cell_type": "code",
   "execution_count": null,
   "metadata": {},
   "outputs": [],
   "source": [
    "! wget https://github.com/nunososorio/SingleCellGenomics2024/raw/main/5_Friday_April12th/Data.zip\n",
    "\n",
    "! unzip Data.zip"
   ]
  },
  {
   "cell_type": "markdown",
   "metadata": {},
   "source": [
    "# Load the data"
   ]
  },
  {
   "cell_type": "code",
   "execution_count": null,
   "metadata": {},
   "outputs": [],
   "source": [
    "ctl = sc.read_visium(path='Data/GSE226208/intact')\n",
    "dpi3 = sc.read_visium(path='Data/GSE226208/3dpi/')"
   ]
  },
  {
   "cell_type": "markdown",
   "metadata": {},
   "source": [
    "# Pre-processing"
   ]
  },
  {
   "cell_type": "markdown",
   "metadata": {},
   "source": [
    "## Check data structure"
   ]
  },
  {
   "cell_type": "markdown",
   "metadata": {},
   "source": [
    "### Exercise\n",
    "\n",
    "Check the data structure for each condition"
   ]
  },
  {
   "cell_type": "code",
   "execution_count": null,
   "metadata": {},
   "outputs": [],
   "source": [
    "#write your code here"
   ]
  },
  {
   "cell_type": "code",
   "execution_count": null,
   "metadata": {},
   "outputs": [],
   "source": [
    "#write your code here"
   ]
  },
  {
   "cell_type": "markdown",
   "metadata": {},
   "source": [
    "In the following steps we'll make the *var_names* (gene names) unique for each data set, create a raw data object, where the raw data of each sample will be saved in case we need the raw counts matrix on the downstream analysis. \n",
    "\n",
    "Lastly, we'll create a new column on the *obs* slot, named *Condition*, containing samples' origin information, wether the data is from the Intact cortex or 3DPI."
   ]
  },
  {
   "cell_type": "code",
   "execution_count": null,
   "metadata": {},
   "outputs": [],
   "source": [
    "ctl.var_names_make_unique()\n",
    "dpi3.var_names_make_unique()"
   ]
  },
  {
   "cell_type": "code",
   "execution_count": null,
   "metadata": {},
   "outputs": [],
   "source": [
    "ctl.raw = ctl.copy()\n",
    "dpi3.raw = dpi3.copy()"
   ]
  },
  {
   "cell_type": "code",
   "execution_count": null,
   "metadata": {},
   "outputs": [],
   "source": [
    "ctl.obs['Condition'] = 'Intact'\n",
    "dpi3.obs['Condition'] = '3DPI'"
   ]
  },
  {
   "cell_type": "markdown",
   "metadata": {},
   "source": [
    "Here we are setting colors to each condition, being the Intact sample pastel blue and teh 3DPI sample pastel red. this helps when plotting since we know already each colors represents each condition."
   ]
  },
  {
   "cell_type": "code",
   "execution_count": null,
   "metadata": {},
   "outputs": [],
   "source": [
    "ctl_col = '#a1c9f4'\n",
    "dpi3_col = '#ff9f9b'"
   ]
  },
  {
   "cell_type": "markdown",
   "metadata": {},
   "source": [
    "Next we calculate some basic metrics for each sample, so then we can compare them and make decisions on the next steps to be executed. The following command will calculate some quality metrics, being the most important and the one that we'll use the total number of counts and the number of genes by counts."
   ]
  },
  {
   "cell_type": "code",
   "execution_count": null,
   "metadata": {},
   "outputs": [],
   "source": [
    "ctl_m = ctl.copy()\n",
    "dpi3_m = dpi3.copy()"
   ]
  },
  {
   "cell_type": "code",
   "execution_count": null,
   "metadata": {},
   "outputs": [],
   "source": [
    "sc.pp.calculate_qc_metrics(ctl_m, inplace=True)\n",
    "sc.pp.calculate_qc_metrics(dpi3_m, inplace=True)"
   ]
  },
  {
   "cell_type": "code",
   "execution_count": null,
   "metadata": {},
   "outputs": [],
   "source": [
    "print(f\"{ctl_m} \\n\\n {dpi3_m}\")"
   ]
  },
  {
   "cell_type": "markdown",
   "metadata": {},
   "source": [
    "Here the 2 metrics mentioned above wil be plotted side by side for each sample and the plots will be colored according to the chosen colors."
   ]
  },
  {
   "cell_type": "code",
   "execution_count": null,
   "metadata": {},
   "outputs": [],
   "source": [
    "fig, axs = plt.subplots(1,4, figsize=(15,4))\n",
    "fig.suptitle('Covariates for filtering')\n",
    "sns.histplot(ctl_m.obs['total_counts'], kde=False, bins=60, ax = axs[0], color=ctl_col)\n",
    "sns.histplot(dpi3_m.obs['total_counts'], kde=False, bins=60, ax = axs[1], color=dpi3_col)\n",
    "sns.histplot(ctl_m.obs['n_genes_by_counts'], kde=False, bins=60, ax = axs[2], color=ctl_col)\n",
    "sns.histplot(dpi3_m.obs['n_genes_by_counts'], kde=False, bins=60, ax = axs[3], color=dpi3_col)"
   ]
  },
  {
   "cell_type": "markdown",
   "metadata": {},
   "source": [
    "**NOTE:** Maybe here we can ask how they perceive the samples, if their quality is similar or not, based on the distribution of the histograms since we will use it to decide if we merge teh samples or not."
   ]
  },
  {
   "cell_type": "markdown",
   "metadata": {},
   "source": [
    "# Merge data"
   ]
  },
  {
   "cell_type": "markdown",
   "metadata": {},
   "source": [
    "When the project we are working on is composed by more than one dataset from different samples, we can merge all the small datasets into a major one, containing all the samples. This helps on the filtering process since we'll be working with only one big object instead of several small ones. Additionally this makes the filtering process more uniform among samples. However, when we see that the quality of the samples is quite different between then, the filtering should be perform in each sample individually and inly after that we should merge the different samples."
   ]
  },
  {
   "cell_type": "markdown",
   "metadata": {},
   "source": [
    "## Merge counts data"
   ]
  },
  {
   "cell_type": "markdown",
   "metadata": {},
   "source": [
    "Since we are working with spatial data, to merge our samples into one object we need to perform some steps before in order to allow us to visualize the data projected on the image. For that we need to use the package *stlearn*. Tis package also offers a wide range of possible downstream analysis and is  worth to check if you need analyze spatial data in the future.\n",
    "\n",
    "To use this package we only need to install it as follows on the next code cell."
   ]
  },
  {
   "cell_type": "code",
   "execution_count": null,
   "metadata": {},
   "outputs": [],
   "source": [
    "! pip install stlearn > _"
   ]
  },
  {
   "cell_type": "markdown",
   "metadata": {},
   "source": [
    "Once installed we need to load it, and then convert our individual dataset from scanpy format to the stlearn format. This step will add two new columns to the *obs* slot called *imagecol* and *imagerow*, and these are the ones used to merged both images. The code used to perform this step used also the *numpy* package to manipulate the array containing the image information/coordinates."
   ]
  },
  {
   "cell_type": "code",
   "execution_count": null,
   "metadata": {},
   "outputs": [],
   "source": [
    "import stlearn as st"
   ]
  },
  {
   "cell_type": "code",
   "execution_count": null,
   "metadata": {},
   "outputs": [],
   "source": [
    "ctl = st.convert_scanpy(ctl)\n",
    "dpi3 = st.convert_scanpy(dpi3)"
   ]
  },
  {
   "cell_type": "markdown",
   "metadata": {},
   "source": [
    "Once our data is converted we can now merge both samples into one big dataset.\n",
    "\n",
    "To merge two or more samples into one data object we use th scanpy function *concatenate* as follows. We select one of the samples to be the one where all the rest of the samples will be concatenated to. In our case we'll concatenate the 3DPI sample to the Intact sample."
   ]
  },
  {
   "cell_type": "markdown",
   "metadata": {},
   "source": [
    "**NOTE:** Here we can ask if they think we should merge both samples into one object."
   ]
  },
  {
   "cell_type": "code",
   "execution_count": null,
   "metadata": {},
   "outputs": [],
   "source": [
    "adata = ctl.concatenate(dpi3)"
   ]
  },
  {
   "cell_type": "markdown",
   "metadata": {},
   "source": [
    "### Exercise\n",
    "\n",
    "Check the data structure and also check both *var* and *obs* slots of the data. Do you see any difference when comparing to scRNA-seq data?"
   ]
  },
  {
   "cell_type": "code",
   "execution_count": null,
   "metadata": {},
   "outputs": [],
   "source": [
    "#write your code here\n"
   ]
  },
  {
   "cell_type": "code",
   "execution_count": null,
   "metadata": {},
   "outputs": [],
   "source": [
    "#write your code here\n"
   ]
  },
  {
   "cell_type": "code",
   "execution_count": null,
   "metadata": {},
   "outputs": [],
   "source": [
    "#write your code here\n"
   ]
  },
  {
   "cell_type": "markdown",
   "metadata": {},
   "source": [
    "## Merge images data"
   ]
  },
  {
   "cell_type": "markdown",
   "metadata": {},
   "source": [
    "Even though *scanpy* does not offer an option to integrate spatial images, we can do it manually. However, we first need to convert our samples from the *scanpy* format to *stlearn* format as we already did when merging the data counts. If we perform this step we do not need to split our data into two distinct datasets to perform visualization on the spatial images. \n",
    "\n",
    "To merged our images we will also use the package *numpy* since we need to manipulate the arrays containing teh coordinates of each image. This stepp will allow to plot each slice side by slice as it was only one image, avoid the need to plot each sample separately. "
   ]
  },
  {
   "cell_type": "code",
   "execution_count": null,
   "metadata": {},
   "outputs": [],
   "source": [
    "# Initialize the spatial\n",
    "adata.uns[\"spatial\"] = ctl.uns[\"spatial\"]\n",
    "\n",
    "# Horizontally stack 2 images from section 1 and section 2 datasets\n",
    "combined = np.hstack([ctl.uns[\"spatial\"][\"D_Intact\"][\"images\"][\"hires\"],\n",
    "                      dpi3.uns[\"spatial\"][\"A_3dpi_V\"][\"images\"][\"hires\"]])\n",
    "\n",
    "# Map the image to the concatnated adata object\n",
    "adata.uns[\"spatial\"][\"D_Intact\"][\"images\"][\"hires\"] = combined\n",
    "\n",
    "# Manually change the coordinate of spots to the right\n",
    "adata.obs.loc[adata.obs.batch == \"1\",\"imagecol\"] = adata.obs.loc[adata.obs.batch == \"1\",\"imagecol\"].values + 2000\n",
    "\n",
    "# Change to the .obsm[\"spatial\"]\n",
    "factor = adata.uns[\"spatial\"][\"D_Intact\"][\"scalefactors\"][\"tissue_hires_scalef\"]\n",
    "adata.obsm[\"spatial\"] = adata.obs[[\"imagecol\",\"imagerow\"]].values / factor"
   ]
  },
  {
   "cell_type": "markdown",
   "metadata": {},
   "source": [
    "### Exercise\n",
    "Save the merged data object into your working directory."
   ]
  },
  {
   "cell_type": "code",
   "execution_count": null,
   "metadata": {},
   "outputs": [],
   "source": [
    "# Write you code here"
   ]
  },
  {
   "cell_type": "markdown",
   "metadata": {},
   "source": [
    "# QC"
   ]
  },
  {
   "cell_type": "markdown",
   "metadata": {},
   "source": [
    "One of the first steps when preparing the data to perform quality control e to get QC metrics  such as the one calculated previously (total counts and number of genes by counts). Here, additionally we will also get mitochondrial (mt) and ribossomal (ribo) genes and then calculate the percentage of mitochondrial and ribossomal counts. To get which genes are mitochondrial or ribossomal genes we we add a new column to the *var* slot with True or False values, classifying the genes as mt or ribo. For taht we use the function *startswith* to get the genes that start with ***mt*** or by ***Rps***/***Rpl***, corresponding to mitochondrial and ribossomal genes, accordingly.\n",
    "\n",
    "\n",
    "For that we will use the function previously used *sc.pp.calculate_qc_metrics*"
   ]
  },
  {
   "cell_type": "markdown",
   "metadata": {},
   "source": [
    "## QC metrics"
   ]
  },
  {
   "cell_type": "code",
   "execution_count": null,
   "metadata": {},
   "outputs": [],
   "source": [
    "adata.var[\"mt\"] = adata.var_names.str.startswith(\"mt-\")\n",
    "\n",
    "adata.var[\"ribo\"] = adata.var_names.str.startswith((\"Rps\",\"Rpl\"))\n",
    "\n",
    "#fill in the blanks\n",
    "#Calculate qc metrics for mt and ribo genes\n",
    "sc.pp.calculate_qc_metrics(, qc_vars=[], inplace=True)\n"
   ]
  },
  {
   "cell_type": "code",
   "execution_count": null,
   "metadata": {},
   "outputs": [],
   "source": [
    "adata"
   ]
  },
  {
   "cell_type": "markdown",
   "metadata": {},
   "source": [
    "## Cell cycle"
   ]
  },
  {
   "cell_type": "markdown",
   "metadata": {},
   "source": [
    "As for the scRNA-seq data analysis, here we can also add cell cycle information to the data."
   ]
  },
  {
   "cell_type": "markdown",
   "metadata": {},
   "source": [
    "### Exercise\n",
    "\n",
    "Search for the files containing the cell cycle information inside the Data folder you downloaded at the begining of the notebook and load it on the following cell of code. Then calculate the cell cycle score."
   ]
  },
  {
   "cell_type": "code",
   "execution_count": null,
   "metadata": {},
   "outputs": [],
   "source": [
    "#Fill in the blank spaces\n",
    "#Load the files containing the genes to each phase of teh cell cycle\n",
    "s_genes = [x.strip() for x in open(  )]\n",
    "g2m_genes = [x.strip() for x in open(  )]"
   ]
  },
  {
   "cell_type": "code",
   "execution_count": null,
   "metadata": {},
   "outputs": [],
   "source": [
    "#fill in the blank spaces\n",
    "sc.tl.score_genes_cell_cycle(  )"
   ]
  },
  {
   "cell_type": "markdown",
   "metadata": {},
   "source": [
    "Then we plot the calculated values and we chose the thresholds to our data. This visualization can be performed by using histograms or violin plots."
   ]
  },
  {
   "cell_type": "code",
   "execution_count": null,
   "metadata": {},
   "outputs": [],
   "source": [
    "fig, axs = plt.subplots(1,4, figsize=(15,4))\n",
    "fig.suptitle('Covariates for filtering')\n",
    "sns.histplot(adata.obs['total_counts'], kde=False, ax = axs[0])\n",
    "sns.histplot(adata.obs['n_genes_by_counts'], kde=False, bins=60, ax = axs[1])\n",
    "sns.histplot(adata.obs['pct_counts_mt'], kde=False, bins=60, ax = axs[2])\n",
    "sns.histplot(adata.obs['pct_counts_ribo'], kde=False, bins=60, ax = axs[3])"
   ]
  },
  {
   "cell_type": "markdown",
   "metadata": {},
   "source": [
    "Here we are doing a zoom in on the histogram to choose the lowe threshold for each filtering parameter."
   ]
  },
  {
   "cell_type": "code",
   "execution_count": null,
   "metadata": {},
   "outputs": [],
   "source": [
    "fig, axs = plt.subplots(1, 4, figsize=(15, 4))\n",
    "sns.histplot(adata.obs[\"total_counts\"][adata.obs[\"total_counts\"] < 10000], kde=False, bins=60, ax=axs[0])\n",
    "sns.histplot(adata.obs[\"n_genes_by_counts\"][adata.obs[\"n_genes_by_counts\"] < 4000], kde=False, bins=60, ax=axs[1])\n",
    "sns.histplot(adata.obs[\"pct_counts_mt\"][adata.obs[\"pct_counts_mt\"] > 25], kde=False, bins=60, ax=axs[2])\n",
    "sns.histplot(adata.obs[\"pct_counts_ribo\"][adata.obs[\"pct_counts_ribo\"] > 10], kde=False, bins=60, ax=axs[3])"
   ]
  },
  {
   "cell_type": "code",
   "execution_count": null,
   "metadata": {},
   "outputs": [],
   "source": [
    "sc.pl.violin(adata, keys=['total_counts','n_genes_by_counts', 'pct_counts_mt', 'pct_counts_ribo'], rotation=90, multi_panel=True)"
   ]
  },
  {
   "cell_type": "markdown",
   "metadata": {},
   "source": [
    "### Exercise\n",
    "\n",
    "Chose the thresholds to filter the data. Since the resolution is not single cell, we should take it into account when choosing the values to filter the data. here we are not filtering out cells but spots that may contain more than one cell, keep that in mind.\n",
    "\n",
    "**Hint**: The code used to filter spatial data is the same used to filter the scRNA-seq data.\n"
   ]
  },
  {
   "cell_type": "code",
   "execution_count": null,
   "metadata": {},
   "outputs": [],
   "source": [
    "#write your code here\n",
    "\n",
    "#filter counts\n",
    "sc.pp.filter_cells(adata, min_counts =)\n",
    "sc.pp.filter_cells(adata, max_counts =)\n",
    "\n",
    "#filter genes\n",
    "sc.pp.filter_cells(adata, min_genes =)\n",
    "sc.pp.filter_genes(adata, min_cells =)\n",
    "\n",
    "#filter mito genes\n",
    "#write your code here\n",
    "\n",
    "#filter ribo genes\n",
    "#write your code here"
   ]
  },
  {
   "cell_type": "code",
   "execution_count": null,
   "metadata": {},
   "outputs": [],
   "source": [
    "sc.pl.violin(adata, keys=['total_counts','n_genes_by_counts', 'pct_counts_mt', 'pct_counts_ribo'], rotation=90, multi_panel=True)"
   ]
  },
  {
   "cell_type": "markdown",
   "metadata": {},
   "source": [
    "### Exercise\n",
    "Save the filtered data into your working directory"
   ]
  },
  {
   "cell_type": "code",
   "execution_count": null,
   "metadata": {},
   "outputs": [],
   "source": [
    "# Write you code here"
   ]
  },
  {
   "cell_type": "markdown",
   "metadata": {},
   "source": [
    "# Normalization and logaritmization"
   ]
  },
  {
   "cell_type": "markdown",
   "metadata": {},
   "source": [
    "After filtering the cells with bad quality we proceed to data normalization and logaritmization. Here we will use the default method to normalize the data, which normalizes each cell by total counts over all genes. This makes that every cell will have the same total count after normalization. However other methods could have been used as SCTransform or GLM-PCA, whose have an higher sensitivity for normalization. "
   ]
  },
  {
   "cell_type": "code",
   "execution_count": null,
   "metadata": {},
   "outputs": [],
   "source": [
    "sc.pp.normalize_total(adata, inplace = True)\n",
    "sc.pp.log1p(adata)"
   ]
  },
  {
   "cell_type": "markdown",
   "metadata": {},
   "source": [
    "In this case we will not perform regression of any variable, such as percentage of mt genes or cell cycle since this variables may play a role on the variation of the cell types after injury."
   ]
  },
  {
   "cell_type": "markdown",
   "metadata": {},
   "source": [
    "# Dimentionality reduction"
   ]
  },
  {
   "cell_type": "markdown",
   "metadata": {},
   "source": [
    "Once filtering is done the next step, as in scRNA-seq data, is to perform a reduction of the dimension of teh dataset we are working with. \n",
    "\n",
    "The first step will be to select the high variable genes for our data, followed by principal component analysis and uniform manifold  approximation and projection."
   ]
  },
  {
   "cell_type": "markdown",
   "metadata": {},
   "source": [
    "## Highly Variable Genes (HVG)"
   ]
  },
  {
   "cell_type": "markdown",
   "metadata": {},
   "source": [
    "In this case we will decide how many genes we want to keep, which is 4000. This value is up to you, many tutorials usually uses 2000 genes, but for the purpose of this course we will keep a little more genes.\n",
    "\n",
    "There is also the possibility to define different thresholds to different metrics and teh function will select the genes that passes those thresholds as the HGV of our dataset. The used method will depend on the data your working with and om which one you think fits the best your goal on the analysis. For more information you can check the documentation of the following function *highly_variable_genes*.\n",
    "\n",
    "### Exercise\n",
    "\n",
    "Calculate the HVG selectin the top 4000 genes."
   ]
  },
  {
   "cell_type": "code",
   "execution_count": null,
   "metadata": {},
   "outputs": [],
   "source": [
    "#fill in the blanks\n",
    "sc.pp.highly_variable_genes(, inplace=True)"
   ]
  },
  {
   "cell_type": "code",
   "execution_count": null,
   "metadata": {},
   "outputs": [],
   "source": [
    "sc.pl.highly_variable_genes(adata)"
   ]
  },
  {
   "cell_type": "markdown",
   "metadata": {},
   "source": [
    "Here we keep only the HVG on the data, removing all the genes that are not highly variable"
   ]
  },
  {
   "cell_type": "code",
   "execution_count": null,
   "metadata": {},
   "outputs": [],
   "source": [
    "var_genes_all = adata.var.highly_variable\n",
    "\n",
    "adata = adata[:, var_genes_all]\n",
    "\n",
    "adata"
   ]
  },
  {
   "cell_type": "markdown",
   "metadata": {},
   "source": [
    "## Principal Component Analysis (PCA)"
   ]
  },
  {
   "cell_type": "markdown",
   "metadata": {},
   "source": [
    "The PCA is performed with teh same goal as on the analysis of scRNA-seq data, which is to reduce the dimension of the dataset, reduction it to the lower number possible of principal components (PCs) that allow to retain the maximum variation within the data. \n",
    "\n",
    "Here the PCA will be performed with the default settings, nonetheless these values can be adjusted to the data we are working with.\n",
    "\n",
    "In our casa we don't need to set the parameter ***use_highly_variable*** since our dataset only has the HVG already."
   ]
  },
  {
   "cell_type": "markdown",
   "metadata": {},
   "source": [
    "### Exercise\n",
    "\n",
    "Calculate the PCA using the function *sc.pp.pca()*"
   ]
  },
  {
   "cell_type": "code",
   "execution_count": null,
   "metadata": {},
   "outputs": [],
   "source": [
    "#write here your code"
   ]
  },
  {
   "cell_type": "markdown",
   "metadata": {},
   "source": [
    "Next we plot the variance of the calculated PCs in order to select how many we want to keep. Usually the rule is that we select the last one before the curve of the plot starts to flatten. However we can select a little fewer or a little more."
   ]
  },
  {
   "cell_type": "markdown",
   "metadata": {},
   "source": [
    "### Exercise\n",
    "\n",
    "Plot the variance ratio for the calculated PCs, and show 50 PCs on the plot.\n",
    "\n",
    "**Hint:** The code is the same as the one used for scRNA-seq data."
   ]
  },
  {
   "cell_type": "code",
   "execution_count": null,
   "metadata": {},
   "outputs": [],
   "source": [
    "#write here your code\n",
    "sc.pl.pca_variance_ratio()"
   ]
  },
  {
   "cell_type": "markdown",
   "metadata": {},
   "source": [
    "## Uniform Manifold Approximation and Projection (UMAP)\n",
    "\n",
    "This method is used to visualize the data in a 2D way, making it simpler. To compute the UMAP we use the number of PC we selected on the previous step."
   ]
  },
  {
   "cell_type": "markdown",
   "metadata": {},
   "source": [
    "### Exercise\n",
    "\n",
    "Compute the UMAP using the number of PC that you think fits the best. Use the functions *sc.pp.neighbors()* and *sc.tl.umap()*."
   ]
  },
  {
   "cell_type": "code",
   "execution_count": null,
   "metadata": {},
   "outputs": [],
   "source": [
    "#fill in the blanks and write your code\n",
    "sc.pp.neighbors(n_neighbors=15)\n"
   ]
  },
  {
   "cell_type": "markdown",
   "metadata": {},
   "source": [
    "Now we can perform data visualization in a reduces dimension, such as visualize the metrics calculated on the CQ step in a 2D space."
   ]
  },
  {
   "cell_type": "markdown",
   "metadata": {},
   "source": [
    "### Exercise\n",
    "\n",
    "Plot the metrics used on quality control and the variable *Condition* on the UMAP, so you can see where are the spots with the higher and lower values to each of those metrics.\n",
    "\n",
    "**Metrics:** *'total_counts'*, *'n_genes_by_counts'*, *'pct_counts_mt'*, *'pct_counts_ribo'*."
   ]
  },
  {
   "cell_type": "code",
   "execution_count": null,
   "metadata": {},
   "outputs": [],
   "source": [
    "#fill in the missing values from the function\n",
    "sc.pl.umap(adata, color=, ncols=2, cmap='viridis')\n",
    "sc.pl.umap(adata, color=, palette=[dpi3_col, ctl_col])"
   ]
  },
  {
   "cell_type": "markdown",
   "metadata": {},
   "source": [
    "# Clustering"
   ]
  },
  {
   "cell_type": "markdown",
   "metadata": {},
   "source": [
    "For spatial data, clustering can be performed as for scRNA-seq data, and the same principals apply here. \n",
    "\n",
    "### Exercise\n",
    "Fill in the spaces with commented line with your code. To make it easier we will cerate a list where we will save the names we gave to each cluster to use it further on the analysis."
   ]
  },
  {
   "cell_type": "code",
   "execution_count": null,
   "metadata": {},
   "outputs": [],
   "source": [
    "#create here you empty list\n",
    "\n",
    "\n",
    "# complete the commented lines\n",
    "for  in [0.1, 0.2, 0.3, 0.4, 0.5, 0.6, 0.7, 0.8, 0.9, 1, 1.1, 1.2, 1.3, 1.4]: #chose the name of you iteration variable so in each loop it will assume a different resolution value\n",
    "    sc.tl.leiden(, resolution= ,  key_added='clusters_%s'%  )\n",
    "    #append the name of each clsuter resolution calculated to the list  you created use the following string formating to name you cluster resolution eg. clusterin with resolution 0.1 will be called clusters_0.1\n",
    "    ('clusters_%s'%   )\n"
   ]
  },
  {
   "cell_type": "markdown",
   "metadata": {},
   "source": [
    "### Exercise\n",
    "\n",
    "Plot all the cluster resolution on a UMAP, use the list we created above to make it easier."
   ]
  },
  {
   "cell_type": "code",
   "execution_count": null,
   "metadata": {},
   "outputs": [],
   "source": [
    "# fill in the wite spaces\n",
    "sc.pl.umap( ncols=3, wspace = 0.6)"
   ]
  },
  {
   "cell_type": "markdown",
   "metadata": {},
   "source": [
    "Since scanpy does not offer a tool to integrate the images of the dataset, now we need to split our dataset again into two different objects, but now the all the pre processing and dimensionality reduction of teh data is already performed. For that we split the our ***adata*** object into ***adata_ctl*** and ***adata_dpi3*** using the column ***Condition*** on the *obs* slot of the data, by indicating the different conditions to split."
   ]
  },
  {
   "cell_type": "code",
   "execution_count": null,
   "metadata": {},
   "outputs": [],
   "source": [
    "adata_ctl = adata[adata.obs['Condition'] == 'Intact',:]\n",
    "\n",
    "adata_dpi3 = adata[adata.obs['Condition'] == '3DPI',:]"
   ]
  },
  {
   "cell_type": "code",
   "execution_count": null,
   "metadata": {},
   "outputs": [],
   "source": [
    "adata"
   ]
  },
  {
   "cell_type": "code",
   "execution_count": null,
   "metadata": {},
   "outputs": [],
   "source": [
    "print(f\"{adata_ctl} \\n\\n {adata_dpi3}\")"
   ]
  },
  {
   "cell_type": "markdown",
   "metadata": {},
   "source": [
    "Once our data is split in two we can now plot our data into the spatial images"
   ]
  },
  {
   "cell_type": "markdown",
   "metadata": {},
   "source": [
    "### Exercise\n",
    "\n",
    "Plot the different control metrics for each condition on the spatial image: *'total_counts'*, *'n_genes_by_counts'*, *'pct_counts_mt'*, *'pct_counts_ribo'*."
   ]
  },
  {
   "cell_type": "code",
   "execution_count": null,
   "metadata": {},
   "outputs": [],
   "source": [
    "sc.settings.set_figure_params(dpi=150)\n",
    "\n",
    "#fill in the empty spaces\n",
    "\n",
    "sc.pl.spatial(, img_key = \"hires\", color=)\n",
    "sc.pl.spatial(, img_key = \"hires\", color=)"
   ]
  },
  {
   "cell_type": "markdown",
   "metadata": {},
   "source": [
    "### Exercise\n",
    "\n",
    "Now plot the clusters on the spatial image for each condition. Complete the lines with missing code.\n",
    "\n",
    "**Hint:** remember that we created a list with all cluster names previously!"
   ]
  },
  {
   "cell_type": "code",
   "execution_count": null,
   "metadata": {},
   "outputs": [],
   "source": [
    "#write your code here\n",
    "sc.pl.spatial(, img_key = \"hires\", color=, size=1.5, wspace=0.5)\n",
    "sc.pl.spatial(, img_key = \"hires\", color=, size=1.5, wspace=0.5)\n"
   ]
  },
  {
   "cell_type": "markdown",
   "metadata": {},
   "source": [
    "### Exercise\n",
    "\n",
    "Now we will plot the clusters on the integrated image of the data set (Both intact and 3DPI samples side by side). This will help to note differences on the clusters between samples. \n",
    "\n",
    "To do this exercise we weill use a for loop to iterate the cluster names and the function *st.pl.cluster_plot()* from *stleran* to plot the clusters on the integrated image. Fill in the empty spaces."
   ]
  },
  {
   "cell_type": "code",
   "execution_count": null,
   "metadata": {},
   "outputs": [],
   "source": [
    "# fill the blanks\n",
    "\n",
    "for  in :\n",
    "    st.pl.cluster_plot(a, use_label=, crop=False, size=1.4, cell_alpha=1)"
   ]
  },
  {
   "cell_type": "code",
   "execution_count": null,
   "metadata": {},
   "outputs": [],
   "source": [
    "adata"
   ]
  },
  {
   "cell_type": "markdown",
   "metadata": {},
   "source": [
    "# Rank marker genes\n",
    "\n",
    "Know we rank the genes in each cluster the get it's marker genes to further annotated them with the according cell type."
   ]
  },
  {
   "cell_type": "markdown",
   "metadata": {},
   "source": [
    "### Exercise\n",
    "\n",
    "Using a for loop to iterate the names fo the clusters, the *sc.tl.rank_genes_groups()* to rank the genes and the function *sc.pl.rank_genes_groups_dotplot()* to plot the marker genes using a dotplot, rank and plot the marker genes for each cluster. The method to rank the marker genes will be the *wilcoxon* method.\n",
    "\n",
    "Fill in the blank spaces."
   ]
  },
  {
   "cell_type": "code",
   "execution_count": null,
   "metadata": {},
   "outputs": [],
   "source": [
    "#complete the commented lines\n",
    "\n",
    "for  in :\n",
    "    #here print the name of the resolution beiing used in each iteration\n",
    "    sc.tl.rank_genes_groups(, , inplace = True, , use_raw=False)\n",
    "    sc.pl.rank_genes_groups_dotplot(, n_genes=15, groupby = , vmax=5)\n"
   ]
  },
  {
   "cell_type": "code",
   "execution_count": null,
   "metadata": {},
   "outputs": [],
   "source": [
    "adata"
   ]
  },
  {
   "cell_type": "markdown",
   "metadata": {},
   "source": [
    "# Cluster annotation"
   ]
  },
  {
   "cell_type": "markdown",
   "metadata": {},
   "source": [
    "When annotating the different clusters from a spatial transcriptomics dataset we need to keep in mind that each spot may contain more than one cell, depending on the size of the cell in that spot. For example, immune cells are much smaller than neurons or oligodendrocytes. For that reason some times it can be difficult to attribute only one cell type to a cluster, in that case we can use a more general classification."
   ]
  },
  {
   "cell_type": "markdown",
   "metadata": {},
   "source": [
    "**Question:** Do you thin k that we may have any cluster that may be composed by different cell types? To help you chose the best resolution you can go and check on the paper how many clusters they considered. "
   ]
  },
  {
   "cell_type": "markdown",
   "metadata": {},
   "source": [
    "**NOTE:** To annotate your clusters without a reference data set you can use the following mouse brain expression map (http://mousebrain.org/adolescent/genesearch.html) to check which cells express the genes obtained to each cluster. Also in case you need to check where a certain region of the brain is located you can check this atlas https://atlas.brain-map.org/."
   ]
  },
  {
   "cell_type": "markdown",
   "metadata": {},
   "source": [
    "### Exercise:\n",
    "\n",
    "Annotated the cell types you identified, first by cell types and then by cells groups. This means that first you consider all cell types and then the different subtypes of cells will be grouped together. For tat you will create two new columns on the *obs* slot of the adata object called **Cell_type** and **Cell_type_groups**.\n"
   ]
  },
  {
   "cell_type": "code",
   "execution_count": null,
   "metadata": {},
   "outputs": [],
   "source": [
    "#Fill in the blanks\n",
    "\n",
    "adata.obs[] = adata.obs[].replace({  })#here write a dict where you keys are the numbers of your cluster on your chosen resolution and the values are the corresponding cell type "
   ]
  },
  {
   "cell_type": "code",
   "execution_count": null,
   "metadata": {},
   "outputs": [],
   "source": [
    "#write your code here\n",
    "\n",
    "#Now create the obs Cell_type_groups, using the same cluster resolution used above, but group by cell groups, avoiding subtypes."
   ]
  },
  {
   "cell_type": "markdown",
   "metadata": {},
   "source": [
    "### Exercise\n",
    "\n",
    "Plot the cell types into the integrated spatial images, so you can see where the clusters are. Use the function already previously used *st.pl.cluster_plot()*"
   ]
  },
  {
   "cell_type": "code",
   "execution_count": null,
   "metadata": {},
   "outputs": [],
   "source": [
    "#fil in the the missing values\n",
    "st.pl.cluster_plot(, use_label=, crop=False, size=1.4, cell_alpha=1)\n",
    "st.pl.cluster_plot(, use_label=, crop=False, size=1.4, cell_alpha=1)"
   ]
  },
  {
   "cell_type": "markdown",
   "metadata": {},
   "source": [
    "### Exercise\n",
    "\n",
    "Plot both cell type annotations and Condition using the UMAP projection."
   ]
  },
  {
   "cell_type": "code",
   "execution_count": null,
   "metadata": {},
   "outputs": [],
   "source": [
    "#write your code here"
   ]
  },
  {
   "cell_type": "markdown",
   "metadata": {},
   "source": [
    "### Exercise\n",
    "\n",
    "Calculate the marker genes as done previously for the different cluster resolutions, but now use the **Cell_type** annotation, and plot them using a dotplot. For that use the following functions: *sc.tl.rank_genes_groups()*, *sc.pl.rank_genes_groups_dotplot()*."
   ]
  },
  {
   "cell_type": "code",
   "execution_count": null,
   "metadata": {},
   "outputs": [],
   "source": [
    "#Fill in the blank spaces\n",
    "sc.tl.rank_genes_groups(, , inplace = True, key_added=\"wilcoxon_Cell_type\", method='wilcoxon', use_raw=False)\n",
    "sc.pl.rank_genes_groups_dotplot(, n_genes=15, key=\"wilcoxon_Cell_type\", groupby = 'Cell_type', vmax=5)"
   ]
  },
  {
   "cell_type": "markdown",
   "metadata": {},
   "source": [
    "**NOTE:** As you can see the it can be quite difficult to find the most specific genes for each cluster. In cases like this we can add some filtering parameters to our rank genes function that will clean a little bit the genes selected to caracterize the cluster. This step can also be done before cluster annotation if needed.\n",
    "\n",
    "### Exercise\n",
    "\n",
    "Using the function *sc.tl.filter_rank_genes_groups()* and the following filtering parameters filter the rank genes and plot them using the function *sc.pl.rank_genes_groups_dotplot()*\n",
    "\n",
    "**Parameters:** *min_in_group_fraction=0.1*, *max_out_group_fraction=0.5*, *min_fold_change=0.25*.\n",
    "\n",
    "Fill in the blank sapces."
   ]
  },
  {
   "cell_type": "code",
   "execution_count": null,
   "metadata": {},
   "outputs": [],
   "source": [
    "#fill in the spaces\n",
    "sc.tl.filter_rank_genes_groups(, , key = \"wilcoxon_Cell_type\", key_added='wilcoxon_filtered_leiden_Cell_type'   )\n",
    "\n",
    "#fill in the spaces to plot the dotplot\n",
    "sc.pl.rank_genes_groups_dotplot(, n_genes=15, key=\"wilcoxon_filtered_leiden_Cell_type\" , groupby=\"Cell_type\", vmin=0, vmax=5)"
   ]
  },
  {
   "cell_type": "markdown",
   "metadata": {},
   "source": [
    "### Exercise\n",
    "\n",
    "Perform the same two exercises you did for ranking the *Cell_type* marker genes, but now do it with the **Cell_type_groups**.\n",
    "\n",
    "**Hint:** Don't forget to change the name of the function variables."
   ]
  },
  {
   "cell_type": "code",
   "execution_count": null,
   "metadata": {},
   "outputs": [],
   "source": [
    "#write your code here"
   ]
  },
  {
   "cell_type": "code",
   "execution_count": null,
   "metadata": {},
   "outputs": [],
   "source": [
    "#write your code here (filter the range genes for cell_type_groups)\n"
   ]
  },
  {
   "cell_type": "markdown",
   "metadata": {},
   "source": [
    "# Marker genes"
   ]
  },
  {
   "cell_type": "markdown",
   "metadata": {},
   "source": [
    "### Exercise \n",
    "\n",
    "Based on the dot plot above select 3 marker genes that you consider the best ones to represent the cluster. In case you know some canonical markers for the cell types identified you can also use those ones in addition to the ones on the dotplot. Do this step for both annotations (*Cell_type* and *Cell_type_groups*) and plot then on the spatial map, on the UMAP, and if you want you can also use a dot plot and group it by clusters with their marker genes.\n"
   ]
  },
  {
   "cell_type": "code",
   "execution_count": null,
   "metadata": {},
   "outputs": [],
   "source": [
    "#create your list here\n"
   ]
  },
  {
   "cell_type": "markdown",
   "metadata": {},
   "source": [
    "### Cell type"
   ]
  },
  {
   "cell_type": "markdown",
   "metadata": {},
   "source": [
    "#### Spatial image"
   ]
  },
  {
   "cell_type": "code",
   "execution_count": null,
   "metadata": {},
   "outputs": [],
   "source": [
    "st.settings.set_figure_params(dpi=120)\n",
    "\n",
    "\n",
    "#fill in the blanks to plot each gene individually\n",
    "for  in :\n",
    "    st.pl.gene_plot(, gene_symbols=, use_raw=True, size=0.5, cmap='viridis')"
   ]
  },
  {
   "cell_type": "markdown",
   "metadata": {},
   "source": [
    "#### UMAP"
   ]
  },
  {
   "cell_type": "code",
   "execution_count": null,
   "metadata": {},
   "outputs": [],
   "source": [
    "#fill the blanks\n",
    "sc.pl.umap(, , use_raw=False, ncols=3, cmap='viridis', vmax=5)"
   ]
  },
  {
   "cell_type": "markdown",
   "metadata": {},
   "source": [
    "#### Dot plot \n",
    "\n",
    "To plot the marker genes using a dot plot  you need to create a dictionary, where the keys are the different cell types, and the values are a list with the 3 marker genes you selected to each cell type."
   ]
  },
  {
   "cell_type": "code",
   "execution_count": null,
   "metadata": {},
   "outputs": [],
   "source": [
    "#create your dictionary here"
   ]
  },
  {
   "cell_type": "code",
   "execution_count": null,
   "metadata": {},
   "outputs": [],
   "source": [
    "#Fill the blank on the code\n",
    "dp = sc.pl.dotplot(, , , return_fig=True, vmax=5, cmap='Reds')\n",
    "dp.add_totals().show() #this line of code is just to add a barplot at the end of the dot plot to show the number of cells inside each cluster"
   ]
  },
  {
   "cell_type": "markdown",
   "metadata": {},
   "source": [
    "### Cell type groups"
   ]
  },
  {
   "cell_type": "code",
   "execution_count": null,
   "metadata": {},
   "outputs": [],
   "source": [
    "#create here your list with the 3 marker genes you selected to each cell group\n"
   ]
  },
  {
   "cell_type": "markdown",
   "metadata": {},
   "source": [
    "#### Spatial image"
   ]
  },
  {
   "cell_type": "code",
   "execution_count": null,
   "metadata": {},
   "outputs": [],
   "source": [
    "#write your code here\n",
    "st.settings.set_figure_params(dpi=120)\n",
    "\n"
   ]
  },
  {
   "cell_type": "markdown",
   "metadata": {},
   "source": [
    "#### UMAP"
   ]
  },
  {
   "cell_type": "code",
   "execution_count": null,
   "metadata": {},
   "outputs": [],
   "source": [
    "#write your code here\n"
   ]
  },
  {
   "cell_type": "markdown",
   "metadata": {},
   "source": [
    "#### Dot plot"
   ]
  },
  {
   "cell_type": "code",
   "execution_count": null,
   "metadata": {},
   "outputs": [],
   "source": [
    "#create here you dictionary\n"
   ]
  },
  {
   "cell_type": "code",
   "execution_count": null,
   "metadata": {},
   "outputs": [],
   "source": [
    "#Fill the blank on the code\n"
   ]
  },
  {
   "cell_type": "markdown",
   "metadata": {},
   "source": [
    "# Final remarks\n",
    "\n",
    "In this tutorial we focus on the most basic steps to analyse spatial data, starting from a counts matrix. If you want to take this analisis on step forward you can look into *stlearn* package (https://stlearn.readthedocs.io/en/latest/index.html), where you can find more downstream analysis such as spatial trajectory, cell-cell interation, cell-type deconvolution, and other types of analysis and different plotting.\n",
    "\n",
    "As a next step it would be inte resting to perform cell type deconvolution, to really have an idea of the cell types present in each spot. Another nice option would be to an annotated dataset with the same type of experiment and transfer the cell annotations to the spatial data.\n",
    "\n",
    "It is also possible to combine spatial data with scRNA-seq data. This is usually done to infer where certain genes identified on the scRNA-seq data are expressed on the spatial map."
   ]
  }
 ],
 "metadata": {
  "kernelspec": {
   "display_name": "Python 3 (ipykernel)",
   "language": "python",
   "name": "python3"
  },
  "language_info": {
   "codemirror_mode": {
    "name": "ipython",
    "version": 3
   },
   "file_extension": ".py",
   "mimetype": "text/x-python",
   "name": "python",
   "nbconvert_exporter": "python",
   "pygments_lexer": "ipython3",
   "version": "3.8.0"
  },
  "toc": {
   "base_numbering": 1,
   "nav_menu": {},
   "number_sections": true,
   "sideBar": true,
   "skip_h1_title": false,
   "title_cell": "Table of Contents",
   "title_sidebar": "Contents",
   "toc_cell": false,
   "toc_position": {},
   "toc_section_display": true,
   "toc_window_display": true
  }
 },
 "nbformat": 4,
 "nbformat_minor": 2
}
