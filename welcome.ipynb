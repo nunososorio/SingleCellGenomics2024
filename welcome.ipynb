{
  "nbformat": 4,
  "nbformat_minor": 0,
  "metadata": {
    "colab": {
      "provenance": [],
      "authorship_tag": "ABX9TyPFv2zg4SQ6d4f9Vi/YQtD3",
      "include_colab_link": true
    },
    "kernelspec": {
      "name": "python3",
      "display_name": "Python 3"
    },
    "language_info": {
      "name": "python"
    }
  },
  "cells": [
    {
      "cell_type": "markdown",
      "metadata": {
        "id": "view-in-github",
        "colab_type": "text"
      },
      "source": [
        "<a href=\"https://colab.research.google.com/github/nunososorio/SingleCellGenomics2024/blob/main/welcome.ipynb\" target=\"_parent\"><img src=\"https://colab.research.google.com/assets/colab-badge.svg\" alt=\"Open In Colab\"/></a>"
      ]
    },
    {
      "cell_type": "markdown",
      "source": [
        "<img src=\"https://github.com/nunososorio/SingleCellGenomics2024/blob/main/logo.png?raw=true\" alt=\"AnnData\" style=\"width:600px; height:auto;\"/>"
      ],
      "metadata": {
        "id": "-34LBoXVjsmO"
      }
    },
    {
      "cell_type": "markdown",
      "source": [
        "Welcome to the 'Single-Cell Genomics For Beginners' course!\n",
        "\n",
        "Please go through the precourse materials deposited on osf.io, especially the notebook linked on '1_NB_Intro_python.pdf'.\n",
        "\n",
        "We encourage you to familiarize yourself with Python programming through free online tutorials such as:\n",
        "- https://www.learnpython.org/\n",
        "- https://www.freecodecamp.org/learn/scientific-computing-with-python/\n",
        "\n",
        "Our course will utilize a Jupyter notebook environment hosted on Google Colaboratory. For an introduction to Google Colab, you can watch this video:\n",
        "- https://www.youtube.com/watch?v=inN8seMm7UI\n",
        "\n",
        "We will employ interactive teaching methodologies to help making the sessions more engaging and effective, including:\n",
        "- Team-Based Learning, as shown in this video: https://www.youtube.com/watch?v=BlVPLYGdBLg\n",
        "- Role Playing and gamification strategies.\n",
        "\n",
        "For those already confident in Python programming, consider advancing your skills in scRNAseq analysis using tutorials such as:\n",
        "- Scanpy documentation: https://scanpy.readthedocs.io/\n",
        "- scRNA-python-workshop guide: https://chanzuckerberg.github.io/scRNA-python-workshop/intro/about\n",
        "\n",
        "If you are new to Python, focus on acquiring the basic principles of the language. Here's some inspiration: https://www.youtube.com/watch?v=5MgBikgcWnY\n",
        "\n",
        "Looking forward to an engaging and fruitful learning experience together!\n",
        "\n",
        "Leonardo Garma, Mónica Fernandes, Nuno S. Osório and Juan Manuel Barba\n"
      ],
      "metadata": {
        "id": "yJStEp9WjvjX"
      }
    }
  ]
}