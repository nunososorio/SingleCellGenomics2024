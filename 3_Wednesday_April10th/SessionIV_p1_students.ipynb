{
 "cells": [
  {
   "cell_type": "markdown",
   "metadata": {
    "id": "vF4Cs9OH8OyV"
   },
   "source": [
    "[![Open in colab](https://colab.research.google.com/assets/colab-badge.svg)](https://colab.research.google.com/github/nunososorio/SingleCellGenomics2024/blob/main/3_Wednesday_April10th/SessionIV_p1.ipynb)\n"
   ]
  },
  {
   "cell_type": "markdown",
   "metadata": {
    "id": "U3WSXwdd8Xoh"
   },
   "source": [
    "<img src=\"https://github.com/nunososorio/SingleCellGenomics2024/blob/main/logo.png?raw=true\" alt=\"AnnData\" style=\"width:600px; height:auto;\"/>"
   ]
  },
  {
   "cell_type": "markdown",
   "metadata": {
    "id": "sCV06Is-acPK"
   },
   "source": [
    "## Practical Session IV - Part 1\n"
   ]
  },
  {
   "cell_type": "markdown",
   "metadata": {
    "id": "NxOJHYkWXlsq"
   },
   "source": [
    "# Hands on single-cell RNA-seq analysis"
   ]
  },
  {
   "cell_type": "markdown",
   "metadata": {
    "id": "oWrAwfO_Xlss"
   },
   "source": [
    "Today, we will guide you through the workflow for analyzing scRNA-seq count matrices in Python. As single cell methods are relatively new, there is not one “correct” approach to analyzing these data; however, certain steps have become accepted as a sort of standard practice. A useful overview on the current best practices is found in the article below, which we borrow from in this tutorial."
   ]
  },
  {
   "cell_type": "markdown",
   "metadata": {
    "id": "pVdEyoouXlst"
   },
   "source": [
    "Current best practices in single-cell RNA-seq analysis: a tutorial: https://www.embopress.org/doi/full/10.15252/msb.20188746"
   ]
  },
  {
   "cell_type": "markdown",
   "metadata": {
    "id": "guuKyEuQXlsu"
   },
   "source": [
    "Briefly, given a count matrix (i.e. the one contained in cellranger count output folder *filtered_bc_matrices*), the following steps are typically performed to analyze a scRNA-seq sample:\n",
    "1. Quality control\n",
    "2. Normalization\n",
    "3. Feature selection\n",
    "4. Principal component analysis\n",
    "5. Dimensionality reduction (UMAP and tSNE)\n",
    "6. Clustering\n",
    "7. Marker gene identification\n",
    "8. Cell type annotation and data visualization"
   ]
  },
  {
   "cell_type": "markdown",
   "metadata": {
    "id": "-nk2kbnwXlsu"
   },
   "source": [
    "As a framework for conducting these analyses, we will use the Python package scanpy, for which there is excellent documentation and even some online tutorials: https://scanpy.readthedocs.io/"
   ]
  },
  {
   "cell_type": "markdown",
   "metadata": {
    "id": "SMz6VbG-Xlsv"
   },
   "source": [
    "Another useful resource is the following guide: https://chanzuckerberg.github.io/scRNA-python-workshop/intro/about"
   ]
  },
  {
   "cell_type": "markdown",
   "metadata": {
    "id": "cSBRBoN2Xlsw"
   },
   "source": [
    "The objective of this session is to familiarize you with these steps and enable you to carry out your own single cell analysis! We provide you with a set of scRNA-seq datasets already processed with cellranger count and stored in a scanpy AnnData object (h5ad file):"
   ]
  },
  {
   "cell_type": "markdown",
   "metadata": {
    "id": "rtYMIMOlXlsw"
   },
   "source": [
    "H5AD AnnData File:\n",
    "- Dataset1.h5ad https://figshare.com/ndownloader/files/34551779"
   ]
  },
  {
   "cell_type": "markdown",
   "metadata": {
    "id": "6OYUAIn4Xlsx"
   },
   "source": [
    "This data capture single cells of the adult mouse brain from various regions and samples, from the following study: Molecular Architecture of the Mouse Nervous System (https://www.cell.com/cell/fulltext/S0092-8674(18)30789-X)"
   ]
  },
  {
   "cell_type": "markdown",
   "metadata": {
    "id": "Nd4Urs_jXlsy"
   },
   "source": [
    "One reason for choosing this dataset is the excellent companion website: http://mousebrain.org/adolescent/"
   ]
  },
  {
   "cell_type": "markdown",
   "metadata": {
    "id": "HMlNQcDsXlsy"
   },
   "source": [
    "This might be particularly helpful for identifying the cell types in your data!"
   ]
  },
  {
   "cell_type": "markdown",
   "metadata": {
    "id": "wmfT2kGvXlsz"
   },
   "source": [
    "In  groups, please choose a unique dataset and work through the following tutorial, answering the exercises along the way in this Jupyter notebook. Your objectives are:\n",
    "1. Perform preprocessing and dimensionality reduction to obtain a 2D representation of your single cells\n",
    "2. Find a satisfactory clustering and set of marker genes and annotate each cell type or cell state\n",
    "3. Compare your results to those obtained by the authors in their publication (mousebrain.org)"
   ]
  },
  {
   "cell_type": "markdown",
   "metadata": {
    "id": "ds5l67ayY-yu"
   },
   "source": [
    "## 0. Setup the environment, load scanpy and some data"
   ]
  },
  {
   "cell_type": "code",
   "execution_count": null,
   "metadata": {
    "id": "2rkZ6J6OY99J"
   },
   "outputs": [],
   "source": [
    "# Install scanpy and loompy if you don't have them already or if you are running on colab\n",
    "! pip install scanpy loompy scrublet > _"
   ]
  },
  {
   "cell_type": "code",
   "execution_count": null,
   "metadata": {
    "colab": {
     "base_uri": "https://localhost:8080/"
    },
    "id": "iRuZ7nadZQrC",
    "outputId": "5d291e9d-5811-48ad-c3a0-b04a949e98e9"
   },
   "outputs": [],
   "source": [
    "# Load the libraries we will use\n",
    "import numpy as np\n",
    "import pandas as pd\n",
    "import scanpy as sc\n",
    "import loompy\n",
    "import matplotlib.pyplot as plt\n",
    "import scrublet as scr"
   ]
  },
  {
   "cell_type": "code",
   "execution_count": null,
   "metadata": {
    "colab": {
     "base_uri": "https://localhost:8080/"
    },
    "id": "ZJBwD4pUZYIF",
    "outputId": "1ad068f8-77e4-4282-911e-21991b726bf8"
   },
   "outputs": [],
   "source": [
    "# Get one of the datasets\n",
    "! wget https://figshare.com/ndownloader/files/34551779 -O Dataset1.h5ad"
   ]
  },
  {
   "cell_type": "code",
   "execution_count": null,
   "metadata": {
    "colab": {
     "base_uri": "https://localhost:8080/"
    },
    "id": "tuEjLxH3ZUWZ",
    "outputId": "609d4185-7a64-483f-b46b-ec50e9ac9d4c"
   },
   "outputs": [],
   "source": [
    "# Adjust the output for the figures\n",
    "sc.settings.verbosity = 3 # verbosity: errors (0), warnings (1), info (2), hints (3)\n",
    "sc.settings.set_figure_params(dpi=100, facecolor='white')\n",
    "plt.rcParams['figure.figsize'] = (6, 6)\n",
    "plt.rcParams['font.size'] = 16\n",
    "sc.logging.print_header()"
   ]
  },
  {
   "cell_type": "markdown",
   "metadata": {
    "id": "8TUkl5F_Z6_T"
   },
   "source": []
  },
  {
   "cell_type": "code",
   "execution_count": null,
   "metadata": {
    "id": "tONCD8SgZ3rM"
   },
   "outputs": [],
   "source": [
    "adata = sc.read_h5ad(\"Dataset1.h5ad\") # enter h5ad file name here"
   ]
  },
  {
   "cell_type": "markdown",
   "metadata": {
    "id": "2xKkgdWZaLvB"
   },
   "source": [
    "The AnnData object contains a lot of information and is essentially a fancy pandas dataframe! Some basic commands to view the object are shown below (for a fully annotated dataset)."
   ]
  },
  {
   "cell_type": "code",
   "execution_count": null,
   "metadata": {
    "colab": {
     "base_uri": "https://localhost:8080/"
    },
    "id": "Lgd03opHXls3",
    "outputId": "c5b65b76-9c00-494c-d9c7-ff419806b89a"
   },
   "outputs": [],
   "source": [
    "adata # prints an overview of information on the AnnData object"
   ]
  },
  {
   "cell_type": "code",
   "execution_count": null,
   "metadata": {
    "colab": {
     "base_uri": "https://localhost:8080/"
    },
    "id": "taN9tWjpXls3",
    "outputId": "df582d9f-9adf-4db8-af51-8c2c7a724bd7"
   },
   "outputs": [],
   "source": [
    "adata.X # view the count matrix (rows x columns, cells x genes)"
   ]
  },
  {
   "cell_type": "code",
   "execution_count": null,
   "metadata": {
    "id": "SjtUxnBrXls4"
   },
   "outputs": [],
   "source": [
    "# Question: how do many cells do I have? how many genes do I have?"
   ]
  },
  {
   "cell_type": "code",
   "execution_count": null,
   "metadata": {
    "colab": {
     "base_uri": "https://localhost:8080/",
     "height": 188
    },
    "id": "LBg-qthHXls4",
    "outputId": "5a435560-42f0-4d97-afdb-12729142e729"
   },
   "outputs": [],
   "source": [
    "adata.obs.head() # view a pandas data frame containing metadata on the cells"
   ]
  },
  {
   "cell_type": "code",
   "execution_count": null,
   "metadata": {
    "colab": {
     "base_uri": "https://localhost:8080/",
     "height": 188
    },
    "id": "ukb92j4WXls5",
    "outputId": "72c9ca3e-1e36-4fb0-fc6d-e7967e917bd7"
   },
   "outputs": [],
   "source": [
    "adata.var.head() # view a pandas data frame containing metadata on the genes"
   ]
  },
  {
   "cell_type": "markdown",
   "metadata": {
    "id": "KSBBhm9YaG4M"
   },
   "source": [
    "You can also get information about data in the rows and columns of adata.obs and adata.var as you would for a pandas dataframe, using functions such as sum(), mean(), groupby(), and value_counts(). However, your initial dataset should contain relatively little metadata at first - You will add more information as you perform various steps of the analysis!"
   ]
  },
  {
   "cell_type": "markdown",
   "metadata": {
    "id": "PCE2bXlXXls5"
   },
   "source": [
    "## 1. Quality control"
   ]
  },
  {
   "cell_type": "markdown",
   "metadata": {
    "id": "ugiVHOA6Xls5"
   },
   "source": [
    "In general, quality control (QC) should be done before any downstream analysis is performed. How the data is cleaned likely will have huge effects on downstream results, so it’s imperative to invest the time in choosing QC methods that you think are appropriate for your data!"
   ]
  },
  {
   "cell_type": "markdown",
   "metadata": {
    "id": "9VXSYZw-Xls6"
   },
   "source": [
    "Goals:\n",
    "- Filter the data to only include true cells that are of high quality, so that when we cluster our data it is easier to identify distinct cell type populations.\n",
    "- Identify any failed samples and either try to salvage the data or remove them from analysis, in addition to trying to understand why the sample failed."
   ]
  },
  {
   "cell_type": "markdown",
   "metadata": {
    "id": "wRxVhLJIXls6"
   },
   "source": [
    "Challenges:\n",
    "- Delineating cells that are poor quality from less complex cells\n",
    "- Choosing appropriate thresholds for filtering, so as to keep high quality cells without removing biologically relevant cell types or cell states."
   ]
  },
  {
   "cell_type": "markdown",
   "metadata": {
    "id": "Cgn2tIBBXltD"
   },
   "source": [
    "Before analyzing the scRNA-seq gene expression data, we should ensure that all cellular barcode data corresponds to viable cells. Cell QC is commonly performed based on three QC covariates:\n",
    "- Library size: the number of counts per barcode (count depth)\n",
    "- Detected genes: the number of genes per barcode\n",
    "- Mitochondrial reads: the fraction of counts from mitochondrial genes per barcode."
   ]
  },
  {
   "cell_type": "markdown",
   "metadata": {
    "id": "_03KFRC1XltD"
   },
   "source": [
    "Library size: First, consider the total number of reads (UMIs) detected per cell. Cells with few reads are likely to have been broken or failed to capture a cell, and should thus be removed. Cells with many reads above the average for a sample are likely to be doublets, or two cells encapsulated in the gel bead during the protocol."
   ]
  },
  {
   "cell_type": "markdown",
   "metadata": {
    "id": "vHkJ6aALXltE"
   },
   "source": [
    "### **Exercise 1**:\n",
    "Using the scanpy and matplotlib packages, visualize a histogram of the distribution of total counts per cell in the dataset. Save this information as metadata to the adata.obs dataframe using a command such as: adata.obs[\"n_counts\"] = n_counts_array. Choose lower and upper boundaries to filter out poor-quality cells and doublets."
   ]
  },
  {
   "cell_type": "markdown",
   "metadata": {
    "id": "sMSl44uGXltE"
   },
   "source": [
    "Histogram function: plt.hist()\n",
    "https://matplotlib.org/stable/api/_as_gen/matplotlib.pyplot.hist.html"
   ]
  },
  {
   "cell_type": "code",
   "execution_count": null,
   "metadata": {
    "colab": {
     "base_uri": "https://localhost:8080/",
     "height": 546
    },
    "id": "90W0wpUkXltE",
    "outputId": "057768a6-105f-4356-a4c3-9a7826e28e6a"
   },
   "outputs": [],
   "source": [
    "adata.obs['n_counts'] = adata.X.sum(axis=1)\n",
    "plt.hist(adata.obs['n_counts'], bins=100)\n",
    "plt.xlabel( #YOUR CODE HERE# ) # what are you plotting on the x-axis? Label it!\n",
    "plt.ylabel( #YOUR CODE HERE# ) # what are you plotting on the x-axis? Label it!\n",
    "plt.axvline(500, c=\"r\") # specify the lower cutoff value for total UMIs\n",
    "plt.axvline(10000, c=\"r\") # specify the upper cutoff value for total UMIs\n",
    "plt.xlim(0, 20000)\n",
    "plt.show()"
   ]
  },
  {
   "cell_type": "markdown",
   "metadata": {
    "id": "1V8dYFyDXltF"
   },
   "source": [
    "### **Exercise 2**:\n",
    "Using the scanpy and matplotlib packages, visualize a histogram of the distribution of total genes expressed per cell in the dataset. Save this information as metadata to the adata.obs dataframe using a command such as: adata.obs[\"n_genes\"] = n_genes_array. Choose lower and upper boundaries to filter out low-diversity cells."
   ]
  },
  {
   "cell_type": "code",
   "execution_count": null,
   "metadata": {
    "colab": {
     "base_uri": "https://localhost:8080/",
     "height": 544
    },
    "id": "pdJl30IBXltF",
    "outputId": "51a755e5-bda2-4b9b-c23a-cd4bc59468d4"
   },
   "outputs": [],
   "source": [
    "sc.pl.highest_expr_genes(adata, n_top=20)"
   ]
  },
  {
   "cell_type": "code",
   "execution_count": null,
   "metadata": {
    "colab": {
     "base_uri": "https://localhost:8080/",
     "height": 546
    },
    "id": "ccV6WibCXltF",
    "outputId": "6a1521f1-97f6-4cf1-d97d-a62ea8f5f4f7"
   },
   "outputs": [],
   "source": [
    "expressed_genes = np.sum(adata.X > 0, 1)\n",
    "adata.obs['n_genes'] = expressed_genes\n",
    "\n",
    "plt.hist(adata.obs['n_genes'], bins=100)\n",
    "plt.axvline(#YOUR CODE HERE#, c=\"r\") # specify the lower cutoff for number of detected genes\n",
    "plt.axvline(#YOUR CODE HERE#, c=\"r\") # specify the upper cutoff for number of detected genes\n",
    "plt.xlabel(#YOUR CODE HERE#) # what are you plotting on the x-axis? Label it!\n",
    "plt.ylabel(#YOUR CODE HERE#) # what are you plotting on the x-axis? Label it!\n",
    "plt.show()"
   ]
  },
  {
   "cell_type": "markdown",
   "metadata": {
    "id": "2ThNEmLUXltF"
   },
   "source": [
    "### **Exercise 3**:\n",
    "Using the scanpy, compute the fraction of reads on each cell corresponding to mitochondrial genes.\n",
    "Mitochondrial genes can be identified by their name: they all begin with 'mt-'.\n",
    "You will need to **divide** the **sum of counts of mitochondrial genes** by the **sum of counts of all genes**.\n",
    "Save this information as metadata to the adata.obs dataframe using a command such as: adata.obs[\"percent_mito\"] = percent_mito_array."
   ]
  },
  {
   "cell_type": "code",
   "execution_count": null,
   "metadata": {
    "colab": {
     "base_uri": "https://localhost:8080/"
    },
    "id": "6OSzuVthXltG",
    "outputId": "6e3dab45-4e84-4b76-a921-404d4f4315a6"
   },
   "outputs": [],
   "source": [
    "mito_genes = adata.var_names.str.startswith('mt-')\n",
    "\n",
    "adata.obs['percent_mito'] = np.sum(adata[:, mito_genes].copy().X, axis=1) / np.sum(# YOUR CODE HERE #)\n",
    "\n",
    "print(adata[:, mito_genes].var_names) # list all mitochondrial genes"
   ]
  },
  {
   "cell_type": "markdown",
   "metadata": {
    "id": "5pvAKHvRg4UI"
   },
   "source": [
    "### **Exercise 4**:\n",
    "Using scanpy and pyplot, visualize the three QC metrics to choose boundary values to filter out poor quality cells.\n",
    "\n",
    "Plot the distribution of each of the metrics, and then visualize them together."
   ]
  },
  {
   "cell_type": "code",
   "execution_count": null,
   "metadata": {
    "colab": {
     "base_uri": "https://localhost:8080/",
     "height": 489
    },
    "id": "OjOa8VViXltG",
    "outputId": "bea6cb76-11c4-474c-9de9-983a9645cb7d"
   },
   "outputs": [],
   "source": [
    "sc.pl.violin(adata, ['n_genes', # YOUR CODE HERE # , 'percent_mito'],\n",
    "jitter=0.4, multi_panel=True)"
   ]
  },
  {
   "cell_type": "code",
   "execution_count": null,
   "metadata": {
    "colab": {
     "base_uri": "https://localhost:8080/",
     "height": 546
    },
    "id": "kYx8sYSnXltG",
    "outputId": "c637bc54-9694-4d33-9186-5f594a1b6a6e"
   },
   "outputs": [],
   "source": [
    "# your code goes here\n",
    "# Use pyplot to visualize the number of UMIs and the mitochondrial content of each cell\n",
    "plt.scatter(adata.obs[# YOUR CODE HERE #], adata.obs[\"percent_mito\"])\n",
    "plt.xlabel('Number of UMIs') # specify the lower cutoff for number of detected genes\n",
    "plt.ylabel(# YOUR CODE HERE #) # specify the lower cutoff for number of detected genes\n",
    "plt.axhline(0.1, c='red') # specify a threshold (decimal from 0 to 1) for percentage mitochondrial reads\n",
    "plt.show()"
   ]
  },
  {
   "cell_type": "code",
   "execution_count": null,
   "metadata": {
    "colab": {
     "base_uri": "https://localhost:8080/",
     "height": 569
    },
    "id": "oZ0XhCHneMSx",
    "outputId": "01b1f545-055a-469e-9df0-3fc6b1c203f0"
   },
   "outputs": [],
   "source": [
    "# your code goes here\n",
    "# Use scanpy to visualize all the three QC metrics: number of UMIs on one axis, number of genes in another and the percent_mito as the color.\n",
    "sc.pl.scatter(adata, x='n_counts', y=# YOUR CODE HERE # , color='percent_mito')"
   ]
  },
  {
   "cell_type": "code",
   "execution_count": null,
   "metadata": {
    "colab": {
     "base_uri": "https://localhost:8080/",
     "height": 569
    },
    "id": "5yLtNES3lsbV",
    "outputId": "940a26b3-b127-4a8a-f10b-b5310beb1302"
   },
   "outputs": [],
   "source": [
    "# your code goes here\n",
    "# You can focus on a specific group of cells to get a more detailed view:\n",
    "sc.pl.scatter(adata[adata.obs.n_counts<# YOUR CODE HERE # ], x='n_counts', y='n_genes', color=# YOUR CODE HERE #)\n",
    "\n",
    "\n"
   ]
  },
  {
   "cell_type": "markdown",
   "metadata": {
    "id": "df_bkXwBjXoN"
   },
   "source": [
    "### **Excercise 6:**\n",
    "Run [scrublet](https://www.sciencedirect.com/science/article/pii/S2405471218304745) to do doublet detection.\n",
    "\n",
    "The single-cell encapsulation process might generate beads which encapsulate more than one cell. These are termed doublets and are considered an artifact.\n",
    "\n",
    "[Scrublet](https://www.sciencedirect.com/science/article/pii/S2405471218304745) is a method for doublet detection that will\n",
    "1. Generate simulated doublets by artificially merging random cells from the dataset\n",
    "2. Compute the distance between the real cells and these simulated doublets\n",
    "3. Automatically set a distance threshold that separates real *singlets* from *doublets*, depending on how close they are to the simulated doublets\n",
    "\n",
    "!['Scrublet summary'](https://ars.els-cdn.com/content/image/1-s2.0-S2405471218304745-fx1.jpg)"
   ]
  },
  {
   "cell_type": "code",
   "execution_count": null,
   "metadata": {
    "id": "xErTrczTjXyB"
   },
   "outputs": [],
   "source": [
    "# Instantiate the scrublet object\n",
    "scrub = scr.Scrublet(adata.X, expected_doublet_rate=0.1, sim_doublet_ratio=4.0)"
   ]
  },
  {
   "cell_type": "code",
   "execution_count": null,
   "metadata": {
    "colab": {
     "base_uri": "https://localhost:8080/"
    },
    "id": "oGgHpgcWjtCK",
    "outputId": "b37252d2-183c-4de8-bea9-f8d58dd32e0e"
   },
   "outputs": [],
   "source": [
    "# Now run the detection algorithm\n",
    "doublet_scores, predicted_doublet = scrub.scrub_doublets()\n"
   ]
  },
  {
   "cell_type": "code",
   "execution_count": null,
   "metadata": {
    "colab": {
     "base_uri": "https://localhost:8080/",
     "height": 362
    },
    "id": "Oilt8PrlnYEy",
    "outputId": "4efd6b1f-6e69-4cf0-899b-cca96e8acfb9"
   },
   "outputs": [],
   "source": [
    "# Visualize the histogram of doublet scores.\n",
    "# You would expect to see a bimodal distribution with peaks separated by the threshold\n",
    "scrub.plot_histogram()"
   ]
  },
  {
   "cell_type": "code",
   "execution_count": null,
   "metadata": {
    "colab": {
     "base_uri": "https://localhost:8080/"
    },
    "id": "Bufxu01wr5W2",
    "outputId": "d9184640-f4b5-4aab-a550-a9616af5489f"
   },
   "outputs": [],
   "source": [
    "# If the doublet score is too high, you can call the call_doublets() function with a new threshold\n",
    "scrub.call_doublets(threshold=0.25)"
   ]
  },
  {
   "cell_type": "code",
   "execution_count": null,
   "metadata": {
    "colab": {
     "base_uri": "https://localhost:8080/",
     "height": 362
    },
    "id": "zq-Sqa4-sJVg",
    "outputId": "00a21515-fae9-47d3-94b5-55dd66432dbe"
   },
   "outputs": [],
   "source": [
    "# Check the threshold again\n",
    "scrub.plot_histogram()"
   ]
  },
  {
   "cell_type": "markdown",
   "metadata": {
    "id": "pvFE2Hgejyyq"
   },
   "source": [
    "Scrublet returns a list of **doublet scores** (here we called this variable *doublet_scores*) and a **label** (*predicted_doublet* in our code) which classifies each cell as a predicted doublet or a regular cell.\n",
    "- Add the doublet scores to the .obs of your AnnData object"
   ]
  },
  {
   "cell_type": "code",
   "execution_count": null,
   "metadata": {
    "id": "nFMZuMNLkKn_"
   },
   "outputs": [],
   "source": [
    "## Your code here\n",
    "adata.obs['doublet_score']=# YOUR CODE HERE #\n",
    "# YOUR CODE HERE # =predicted_doublet"
   ]
  },
  {
   "cell_type": "markdown",
   "metadata": {
    "id": "c7EtJTLUkbVZ"
   },
   "source": [
    "Now visualize the doublet scores and the labels together with the QC metrics\n",
    "- Plot n_counts vs n_genes and use the new doublet detection variables for coloring"
   ]
  },
  {
   "cell_type": "code",
   "execution_count": null,
   "metadata": {
    "colab": {
     "base_uri": "https://localhost:8080/",
     "height": 569
    },
    "id": "IyHEqfRKkqju",
    "outputId": "7deb508b-9273-4a6f-d6f1-22dddb27eba7"
   },
   "outputs": [],
   "source": [
    "## Your code here\n",
    "# Show the doublet scores\n",
    "sc.pl.scatter(# YOUR CODE HERE #)"
   ]
  },
  {
   "cell_type": "code",
   "execution_count": null,
   "metadata": {
    "colab": {
     "base_uri": "https://localhost:8080/",
     "height": 569
    },
    "id": "WsAdBi5cli4a",
    "outputId": "963f10cb-a074-4387-ee49-2a409fb51cd1"
   },
   "outputs": [],
   "source": [
    "## Your code here\n",
    "# Show the predicted doublet labels\n",
    "# YOUR CODE HERE #"
   ]
  },
  {
   "cell_type": "markdown",
   "metadata": {
    "id": "OmtEhBMOjQmV"
   },
   "source": [
    "### **Exercise 7:**\n",
    "To get a better feeling for the data, use the same scatterplot to visualize some relevant genes"
   ]
  },
  {
   "cell_type": "code",
   "execution_count": null,
   "metadata": {
    "colab": {
     "base_uri": "https://localhost:8080/",
     "height": 569
    },
    "id": "wI72HmFfjbZy",
    "outputId": "d859e2bf-35b8-442c-8176-9435adb02cbf"
   },
   "outputs": [],
   "source": [
    "# your code goes here\n",
    "# Use scanpy to color the distribution of UMIs and genes by some key genes:\n",
    "# Meg3 is a pan-neuronal marker\n",
    "# Mbp is a mature oligodendrocyte marker\n",
    "# Aqp4 marks astrocytes\n",
    "# Csf1r is a good marker for microglia\n",
    "# ...\n",
    "sc.pl.scatter(adata, x='n_counts', y='n_genes', color='Mbp',)\n"
   ]
  },
  {
   "cell_type": "code",
   "execution_count": null,
   "metadata": {
    "id": "JDSvhPKK0qhk"
   },
   "outputs": [],
   "source": [
    "# Use scanpy to color the distribution of UMIs and genes by some key genes (show some other markers):\n",
    "# YOUR CODE HERE #"
   ]
  },
  {
   "cell_type": "markdown",
   "metadata": {
    "id": "hgGpjO8BXltG"
   },
   "source": [
    "Once you have selected your QC filtering criteria, you need to actually do the filtering!"
   ]
  },
  {
   "cell_type": "markdown",
   "metadata": {
    "id": "UWDldwt9XltG"
   },
   "source": [
    "### **Exercise 8**:\n",
    "Use the following scanpy function to filter out poor quality cells based on your criteria: sc.pp.filter_cells. How many cells were filtered out?\n"
   ]
  },
  {
   "cell_type": "markdown",
   "metadata": {
    "id": "Guy0AcUyXltH"
   },
   "source": [
    "Hint: you can also filter an AnnData object using indexing approaches, as with numpy arrays and pandas data frames. For instance, the follow command filters genes (columns) on a qc metric for percent mitochondrial reads: adata = adata[adata.obs['percent_mito'] < 0.10, :].copy()"
   ]
  },
  {
   "cell_type": "code",
   "execution_count": null,
   "metadata": {
    "colab": {
     "base_uri": "https://localhost:8080/"
    },
    "id": "GjeH9aqyXltH",
    "outputId": "68b9d5a8-eac2-49d2-ecb1-e8ccfac72273"
   },
   "outputs": [],
   "source": [
    "sc.pp.filter_cells(adata, min_counts=#YOUR CODE HERE#) # apply threshold from above to actually do the filtering\n",
    "sc.pp.filter_cells(adata, max_counts=#YOUR CODE HERE#) # apply threshold from above to actually do the filtering"
   ]
  },
  {
   "cell_type": "code",
   "execution_count": null,
   "metadata": {
    "id": "PLkkDlplXltH"
   },
   "outputs": [],
   "source": [
    "sc.pp.filter_cells(adata, min_genes=#YOUR CODE HERE#) # apply threshold from above to actually do the filtering\n",
    "sc.pp.filter_cells(adata, max_genes=#YOUR CODE HERE#) # apply threshold from above to actually do the filtering"
   ]
  },
  {
   "cell_type": "code",
   "execution_count": null,
   "metadata": {
    "id": "i3l9lmvQXltI"
   },
   "outputs": [],
   "source": [
    "adata = adata[adata.obs['percent_mito'] < #YOUR CODE HERE#, :].copy() # apply threshold from above to actually do the filtering"
   ]
  },
  {
   "cell_type": "code",
   "execution_count": null,
   "metadata": {
    "colab": {
     "base_uri": "https://localhost:8080/"
    },
    "id": "pPmERcw1XltI",
    "outputId": "9e8c8cdf-1178-4858-b577-29c509880fcb"
   },
   "outputs": [],
   "source": [
    "adata"
   ]
  },
  {
   "cell_type": "markdown",
   "metadata": {
    "id": "U6KJg4-_2n_7"
   },
   "source": [
    "Now remove the cells labeled as doublets (in case there is any left!)"
   ]
  },
  {
   "cell_type": "code",
   "execution_count": null,
   "metadata": {
    "id": "tnDceyTB2sq7"
   },
   "outputs": [],
   "source": [
    "adata=adata[~adata.obs.predicted_doublet]"
   ]
  },
  {
   "cell_type": "code",
   "execution_count": null,
   "metadata": {
    "colab": {
     "base_uri": "https://localhost:8080/",
     "height": 569
    },
    "id": "cdKjO6pXl3wy",
    "outputId": "409f5a29-afbc-4345-832f-1a6cb8523ba0"
   },
   "outputs": [],
   "source": [
    "# your code goes here\n",
    "# Now have a look at the QC plots on your filetered data. Plot the UMIs vs Number of genes colored by mitochondrial content using the filtered data\n",
    "\n",
    "#YOUR CODE HERE#"
   ]
  },
  {
   "cell_type": "markdown",
   "metadata": {
    "id": "bDy0SN_jXltJ"
   },
   "source": [
    "### **Exercise 9**:\n",
    "\n",
    "Use the function sc.pp.filter_genes to filter out genes expressed in fewer than 1% of your total cells. How many genes are removed?"
   ]
  },
  {
   "cell_type": "code",
   "execution_count": null,
   "metadata": {
    "colab": {
     "base_uri": "https://localhost:8080/"
    },
    "id": "OpPEAbbQXltK",
    "outputId": "38f54587-90d2-49a0-9197-1be35dd39ecf"
   },
   "outputs": [],
   "source": [
    "# your code here\n",
    "sc.pp.filter_genes(adata, min_cells=int(#YOUR CODE HERE#)) # specify min cells equal to 1% of your total cell count"
   ]
  },
  {
   "cell_type": "code",
   "execution_count": null,
   "metadata": {
    "colab": {
     "base_uri": "https://localhost:8080/"
    },
    "id": "ZOPZdI6YXltK",
    "outputId": "06d96eba-6562-4309-b76d-34a9b655f5bf"
   },
   "outputs": [],
   "source": [
    "adata"
   ]
  },
  {
   "cell_type": "markdown",
   "metadata": {
    "id": "ecd7T7B7XltK"
   },
   "source": [
    "## 2. Normalization"
   ]
  },
  {
   "cell_type": "markdown",
   "metadata": {
    "id": "TC8WaIB7XltK"
   },
   "source": [
    "Each count in a count matrix represents the successful capture, reverse transcription and sequencing of a molecule of cellular mRNA. Count depths for identical cells can differ due to the variability inherent in each of these steps. Thus, when gene expression is compared between cells based on count data, any difference may have arisen solely due to sampling effects. Normalization addresses this issue by e.g. scaling count data to obtain correct relative gene expression abundances between cells."
   ]
  },
  {
   "cell_type": "markdown",
   "metadata": {
    "id": "Pdn-anofXltL"
   },
   "source": [
    "The most commonly used normalization protocol is count depth scaling, also referred to as “counts per million” or CPM normalization. This protocol comes from bulk expression analysis and normalizes count data using a so-called size factor proportional to the count depth per cell. Variations of this method scale the size factors with different factors of 10, or by the median count depth per cell in the dataset. CPM normalization assumes that all cells initially contained the same number of mRNA molecules and that count depth differences arise only due to sampling."
   ]
  },
  {
   "cell_type": "code",
   "execution_count": null,
   "metadata": {
    "id": "PHuqy4rwXltL"
   },
   "outputs": [],
   "source": [
    "# be sure to save a raw version of your data first!\n",
    "adata.raw = adata.copy()\n",
    "adata_raw = adata.copy()"
   ]
  },
  {
   "cell_type": "markdown",
   "metadata": {
    "id": "ciXJrrIvXltL"
   },
   "source": [
    "### **Exercise 10**:\n",
    "\n",
    "Perform normalization on your QC filtered data."
   ]
  },
  {
   "cell_type": "code",
   "execution_count": null,
   "metadata": {
    "colab": {
     "base_uri": "https://localhost:8080/"
    },
    "id": "E8iMXvpZXltL",
    "outputId": "83c8ec38-a5e8-45d8-986b-1cfdd8fcc1b4"
   },
   "outputs": [],
   "source": [
    "sc.pp.normalize_total(adata, target_sum=10000)\n",
    "sc.pp.log1p(adata)\n",
    "# can you explain what each of the two above lines of code are doing?\n"
   ]
  },
  {
   "cell_type": "markdown",
   "metadata": {
    "id": "5R5V7q5Wisus"
   },
   "source": [
    "### **Exercise 11:**\n",
    "Use scanpy to save the normalized data to a file. Use the write_loom() function to store it as a loompy file (.loom)."
   ]
  },
  {
   "cell_type": "code",
   "execution_count": null,
   "metadata": {
    "id": "hv4bIECcnlNv"
   },
   "outputs": [],
   "source": [
    "# Your code here\n",
    "adata.write_h5ad(#YOUR CODE HERE#) # Choose a filename to store your data. Use the .h5ad extension to avoid confusions..."
   ]
  },
  {
   "cell_type": "code",
   "execution_count": null,
   "metadata": {
    "id": "CUFEsFxkjCNs"
   },
   "outputs": [],
   "source": [
    "# Your code here\n",
    "# adata.write_loom(#YOUR CODE HERE#) # Choose a filename to store your data. Use the .loom extension"
   ]
  },
  {
   "cell_type": "markdown",
   "metadata": {
    "id": "Uf5lKGYi2Q3z"
   },
   "source": [
    "# Summary\n",
    "\n",
    "In this notebook, we started from a file with raw gene counts.\n",
    "On this data we performed\n",
    "- QC\n",
    "  - We applied scrublet to detect possible doublets\n",
    "  - We analyzed the number of UMIs and genes detected per cell to detect \"low quality cells\"\n",
    "  - We filtered out all the nuclei we considered as technical artifacts (doublets of low QC values) and genes with low expression\n",
    "- We normalized the data\n",
    "  - Normalized the counts so that all cells would have 10000 UMIs in total\n",
    "  - Log-transformed the normalized data\n",
    "- We stored the normalized data in a new file"
   ]
  },
  {
   "cell_type": "code",
   "execution_count": null,
   "metadata": {},
   "outputs": [],
   "source": []
  }
 ],
 "metadata": {
  "colab": {
   "provenance": []
  },
  "kernelspec": {
   "display_name": "Python 3 (ipykernel)",
   "language": "python",
   "name": "python3"
  },
  "language_info": {
   "codemirror_mode": {
    "name": "ipython",
    "version": 3
   },
   "file_extension": ".py",
   "mimetype": "text/x-python",
   "name": "python",
   "nbconvert_exporter": "python",
   "pygments_lexer": "ipython3",
   "version": "3.10.9"
  }
 },
 "nbformat": 4,
 "nbformat_minor": 4
}
