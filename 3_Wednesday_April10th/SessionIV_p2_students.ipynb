{
 "cells": [
  {
   "cell_type": "markdown",
   "metadata": {
    "id": "sCV06Is-acPK"
   },
   "source": [
    "# April 10th, Wednesday\n",
    "## Practical Session IV - Part 2\n"
   ]
  },
  {
   "cell_type": "markdown",
   "metadata": {
    "id": "_NXWNbHsnToT"
   },
   "source": [
    "## 0. Setup the environment and load your data"
   ]
  },
  {
   "cell_type": "code",
   "execution_count": null,
   "metadata": {
    "id": "2rkZ6J6OY99J"
   },
   "outputs": [],
   "source": [
    "# Install scanpy and loompy if you don't have them already or if you are running on colab\n",
    "! pip install scanpy loompy > _"
   ]
  },
  {
   "cell_type": "code",
   "execution_count": null,
   "metadata": {
    "colab": {
     "base_uri": "https://localhost:8080/"
    },
    "id": "iRuZ7nadZQrC",
    "outputId": "26f29bf2-49d9-4ac4-dcaf-64dd6ebba53f"
   },
   "outputs": [],
   "source": [
    "# Load the libraries we will use\n",
    "import numpy as np\n",
    "import pandas as pd\n",
    "import scanpy as sc\n",
    "import loompy\n",
    "import matplotlib.pyplot as plt"
   ]
  },
  {
   "cell_type": "code",
   "execution_count": null,
   "metadata": {
    "colab": {
     "base_uri": "https://localhost:8080/"
    },
    "id": "hEYeET24ndMl",
    "outputId": "88b6c6dc-f79d-4747-b3aa-c14c2c2533bd"
   },
   "outputs": [],
   "source": [
    "# Adjust the output for the figures\n",
    "sc.settings.verbosity = 3 # verbosity: errors (0), warnings (1), info (2), hints (3)\n",
    "sc.settings.set_figure_params(dpi=100, facecolor='white')\n",
    "plt.rcParams['figure.figsize'] = (6, 6)\n",
    "plt.rcParams['font.size'] = 16\n",
    "sc.logging.print_header()"
   ]
  },
  {
   "cell_type": "code",
   "execution_count": null,
   "metadata": {},
   "outputs": [],
   "source": [
    "# IF you DID NOT generate the normalize data, you can download it from the repository:\n",
    "#!wget https://figshare.com/ndownloader/files/44904202 -O Data1_Norm.h5ad"
   ]
  },
  {
   "cell_type": "code",
   "execution_count": null,
   "metadata": {
    "colab": {
     "base_uri": "https://localhost:8080/"
    },
    "id": "ziNiJg4hndxa",
    "outputId": "e3192657-6c93-4817-935e-8dd7dae6959d"
   },
   "outputs": [],
   "source": [
    "adata = sc.read_h5ad(#YOUR CODE HERE#) # enter loom/h5ad file name here\n",
    "#adata = sc.read_loom(#YOUR CODE HERE#, var_names='var_names', obs_names='obs_names') # if you load from a loom file, specify the name for the indices of var and obs"
   ]
  },
  {
   "cell_type": "code",
   "execution_count": null,
   "metadata": {},
   "outputs": [],
   "source": [
    "# Some scanpy versions might be asking for this\n",
    "adata.uns['log1p']['base']=None"
   ]
  },
  {
   "cell_type": "markdown",
   "metadata": {
    "id": "SfrSp2jvXltL"
   },
   "source": [
    "## 3. Feature selection"
   ]
  },
  {
   "cell_type": "markdown",
   "metadata": {
    "id": "DOMo-iH_XltL"
   },
   "source": [
    "Now, we begin with dimensionality reduction, i.e. reducing the number of variables in the data by removing features (genes) with little variability among the cells and by combining highly similar features. This is important because normally you start with tens of thousands of genes and it is difficult to represent their patterns in a two-dimensional visualization."
   ]
  },
  {
   "cell_type": "markdown",
   "metadata": {
    "id": "khEd7p2yXltL"
   },
   "source": [
    "One useful (but optional) step is to perform cell cycle characterization, as the cell cycle signature is often a strong convoluting factor with cell type signatures."
   ]
  },
  {
   "cell_type": "markdown",
   "metadata": {
    "id": "ko4AujeAXltL"
   },
   "source": [
    "### **Exercise 1**:\n",
    "\n",
    "Perform cell cycle characterization on your dataset. Plot a scatter plot of the S_score and G2M_score metadata created and stored in your AnnData object. Color the points by the assigned cell cycle phase. What percentage of your cells are in a proliferative state (S or G2M phases)?"
   ]
  },
  {
   "cell_type": "code",
   "execution_count": null,
   "metadata": {
    "colab": {
     "base_uri": "https://localhost:8080/"
    },
    "id": "ZIAi6ZLhXltL",
    "outputId": "3eae9163-53a5-4020-a5ce-944a63f09e57"
   },
   "outputs": [],
   "source": [
    "# your code here\n",
    "S_genes_mouse = ['Mcm5', 'Pcna', 'Tyms', 'Fen1', 'Mcm2', 'Mcm4', 'Rrm1', 'Ung',\n",
    "       'Gins2', 'Mcm6', 'Cdca7', 'Dtl', 'Prim1', 'Uhrf1', 'Cenpu',\n",
    "       'Hells', 'Rfc2', 'Rpa2', 'Nasp', 'Rad51ap1', 'Gmnn', 'Wdr76',\n",
    "       'Slbp', 'Ccne2', 'Ubr7', 'Pold3', 'Msh2', 'Atad2', 'Rad51', 'Rrm2',\n",
    "       'Cdc45', 'Cdc6', 'Exo1', 'Tipin', 'Dscc1', 'Blm', 'Casp8ap2',\n",
    "       'Usp1', 'Clspn', 'Pola1', 'Chaf1b', 'Brip1', 'E2f8']\n",
    "G2M_genes_mouse = ['Hmgb2', 'Cdk1', 'Nusap1', 'Ube2c', 'Birc5', 'Tpx2', 'Top2a',\n",
    "       'Ndc80', 'Cks2', 'Nuf2', 'Cks1b', 'Mki67', 'Tmpo', 'Cenpf',\n",
    "       'Tacc3', 'Pimreg', 'Smc4', 'Ccnb2', 'Ckap2l', 'Ckap2', 'Aurkb',\n",
    "       'Bub1', 'Kif11', 'Anp32e', 'Tubb4b', 'Gtse1', 'Kif20b', 'Hjurp',\n",
    "       'Cdca3', 'Jpt1', 'Cdc20', 'Ttk', 'Cdc25c', 'Kif2c', 'Rangap1',\n",
    "       'Ncapd2', 'Dlgap5', 'Cdca2', 'Cdca8', 'Ect2', 'Kif23', 'Hmmr',\n",
    "       'Aurka', 'Psrc1', 'Anln', 'Lbr', 'Ckap5', 'Cenpe', 'Ctcf', 'Nek2',\n",
    "       'G2e3', 'Gas2l3', 'Cbx5', 'Cenpa']\n",
    "\n",
    "sc.tl.score_genes_cell_cycle(adata, s_genes=S_genes_mouse, g2m_genes=G2M_genes_mouse)"
   ]
  },
  {
   "cell_type": "code",
   "execution_count": null,
   "metadata": {
    "colab": {
     "base_uri": "https://localhost:8080/",
     "height": 174
    },
    "id": "37AhXvTTpOah",
    "outputId": "920c8651-a7ee-4a6e-80ad-5a064cacc8ae"
   },
   "outputs": [],
   "source": [
    "# See which new variables were created\n",
    "adata.obs.head(3)"
   ]
  },
  {
   "cell_type": "code",
   "execution_count": null,
   "metadata": {
    "colab": {
     "base_uri": "https://localhost:8080/",
     "height": 174
    },
    "id": "M_1FWqp3pgvh",
    "outputId": "d57a9e4b-45b9-487e-f441-ef40ea6d392f"
   },
   "outputs": [],
   "source": [
    "n2c = {\"G1\":\"red\", \"S\":\"green\", \"G2M\":\"blue\"} # use to assign each cell a color based on phase in the scatter plot\n",
    "adata.obs['phase_color']=adata.obs.phase.map(#YOUR CODE HERE#) # use the map function to apply the n2c dictionary\n",
    "adata.obs.head(3)"
   ]
  },
  {
   "cell_type": "code",
   "execution_count": null,
   "metadata": {
    "colab": {
     "base_uri": "https://localhost:8080/",
     "height": 521
    },
    "id": "7XFWthyoXltM",
    "outputId": "229f2784-fb07-48d8-f2d8-4087be90af03"
   },
   "outputs": [],
   "source": [
    "# your code here\n",
    "# Plot the G2M and S score of each cell, color them by phase assigned by scanpy (use the color column we just created)\n",
    "plt.scatter(x=#YOUR CODE HERE#, y=#YOUR CODE HERE#, c=#YOUR CODE HERE#) # your code here!\n",
    "plt.show()"
   ]
  },
  {
   "cell_type": "code",
   "execution_count": null,
   "metadata": {
    "colab": {
     "base_uri": "https://localhost:8080/"
    },
    "id": "dkCT9KwVXltM",
    "outputId": "b52bb457-2116-4a83-9d94-26e25ef25fcf"
   },
   "outputs": [],
   "source": [
    "# How many cells do we have assigned to each cell cycle phase?\n",
    "adata.obs[\"phase\"].value_counts()"
   ]
  },
  {
   "cell_type": "markdown",
   "metadata": {
    "id": "jZP2IBAQXltM"
   },
   "source": [
    "### **Exercise 2**:\n",
    "Next, we want to select a subset (~1000-4000) of genes that are highly variable in the dataset. Genes that are highly or lowly expressed in all cells will not assist with discriminating different cell types from each other."
   ]
  },
  {
   "cell_type": "code",
   "execution_count": null,
   "metadata": {
    "colab": {
     "base_uri": "https://localhost:8080/"
    },
    "id": "SklzcsN8XltM",
    "outputId": "f65e3bd4-fc4a-4b80-8b65-7902328e7db9"
   },
   "outputs": [],
   "source": [
    "# suggestion: start with 2000 highly variable genes\n",
    "sc.pp.highly_variable_genes(adata, n_top_genes=2000, min_disp=0.5,\n",
    "                            max_disp=np.inf, min_mean=0.0125, max_mean=3, span=0.3, flavor='cell_ranger')"
   ]
  },
  {
   "cell_type": "code",
   "execution_count": null,
   "metadata": {},
   "outputs": [],
   "source": [
    "adata"
   ]
  },
  {
   "cell_type": "code",
   "execution_count": null,
   "metadata": {
    "id": "UmSdEKbpXltM"
   },
   "outputs": [],
   "source": [
    "# You could filter your data to keep ony the highly variable genes\n",
    "# adata = adata[:, adata.var[\"highly_variable\"]].copy() # actually do the filtering"
   ]
  },
  {
   "cell_type": "code",
   "execution_count": null,
   "metadata": {
    "colab": {
     "base_uri": "https://localhost:8080/"
    },
    "id": "o98NAN7SXltN",
    "outputId": "b998f338-9947-4e72-e20a-37b8cdb4406e"
   },
   "outputs": [],
   "source": [
    "adata"
   ]
  },
  {
   "cell_type": "markdown",
   "metadata": {
    "id": "o35C_hJJrLGd"
   },
   "source": [
    "### **Exercise 3:**"
   ]
  },
  {
   "cell_type": "markdown",
   "metadata": {
    "id": "4-hhijZyXltN"
   },
   "source": [
    "While correcting for technical covariates may be crucial to uncovering the underlying biological signal, correction for biological covariates serves to single out particular biological signals of interest. The most common biological data correction is to remove the effects of the cell cycle on the transcriptome, the number of raw counts that existed per cell, or the percentage of mitochondrial reads present. This data correction can be performed by a simple linear regression against a cell cycle score as implemented in scanpy."
   ]
  },
  {
   "cell_type": "code",
   "execution_count": null,
   "metadata": {
    "colab": {
     "base_uri": "https://localhost:8080/"
    },
    "id": "b0LDoStQXltN",
    "outputId": "8cdea47c-831f-4eaf-caa3-e2d82249a5e4"
   },
   "outputs": [],
   "source": [
    "# your code here\n",
    "sc.pp.regress_out(adata, 'phase') # specify which feature from adata.obs you want to regress out, if any"
   ]
  },
  {
   "cell_type": "markdown",
   "metadata": {
    "id": "h4gSyEIgXltN"
   },
   "source": [
    "## 4. Principal component analysis"
   ]
  },
  {
   "cell_type": "markdown",
   "metadata": {
    "id": "bGxLFQaIXltO"
   },
   "source": [
    "Dimensionality reduction methods seek to take a large set of variables and return a smaller set of components that still contain most of the information in the original dataset. One of the simplest forms of dimensionality reduction is PCA. Principal component analysis (PCA) is a mathematical procedure that transforms a number of possibly correlated (e.g., expression of genes in a network) variables into a (smaller) number of uncorrelated variables called principal components (\"PCs\")."
   ]
  },
  {
   "cell_type": "code",
   "execution_count": null,
   "metadata": {
    "colab": {
     "base_uri": "https://localhost:8080/"
    },
    "id": "li3QMhUUXltO",
    "outputId": "e3b4b400-295a-4f07-e371-be17ec96dfd1"
   },
   "outputs": [],
   "source": [
    "# Do PCA\n",
    "sc.tl.pca(adata, svd_solver='arpack')"
   ]
  },
  {
   "cell_type": "code",
   "execution_count": null,
   "metadata": {
    "colab": {
     "base_uri": "https://localhost:8080/"
    },
    "id": "mcQEnoyIrXGI",
    "outputId": "4efba67e-e09f-417f-c86f-ecf9d70a02e2"
   },
   "outputs": [],
   "source": [
    "# Results are stored in the .uns layer of the anndata\n",
    "adata"
   ]
  },
  {
   "cell_type": "markdown",
   "metadata": {
    "id": "f4BbM4VGrxlL"
   },
   "source": [
    "### **Exercise 4**:\n",
    "Visualize the first PCs, color by cell cycle phase and n_counts (unnormalized)\n"
   ]
  },
  {
   "cell_type": "code",
   "execution_count": null,
   "metadata": {
    "colab": {
     "base_uri": "https://localhost:8080/",
     "height": 540
    },
    "id": "ck_JkUM8XltO",
    "outputId": "e8f5bfe9-568a-4d30-c166-6a4b48da596a"
   },
   "outputs": [],
   "source": [
    "# your code here\n",
    "sc.pl.pca(adata, color=#YOUR CODE HERE#) # specify the phase, n_counts as colors based on the adata.obs metadata naming scheme"
   ]
  },
  {
   "cell_type": "code",
   "execution_count": null,
   "metadata": {
    "colab": {
     "base_uri": "https://localhost:8080/",
     "height": 575
    },
    "id": "LheDV2hAXltO",
    "outputId": "94847c15-99bb-4987-e7a3-60811bd9bd0a"
   },
   "outputs": [],
   "source": [
    "sc.pl.pca_variance_ratio(adata, log=True) # see contribution of each PC to variance"
   ]
  },
  {
   "cell_type": "markdown",
   "metadata": {
    "id": "ABgK53QGXltO"
   },
   "source": [
    "## 5. Dimensionality reduction"
   ]
  },
  {
   "cell_type": "markdown",
   "metadata": {
    "id": "wLq84FbRXltO"
   },
   "source": [
    "Compute the neighborhood graph of cells using the PCA representation of the data matrix. The purpose of this step is to understand the “distance” between individual cells in the lower-dimensional PCA space, important for creating 2D scatter plot representations of your data. The number of neighbors used will influence how much the data is smoothened, which is a necessary step due to the sparsity (missing values) widely present in scRNA-seq data compared to bulk methods.\n"
   ]
  },
  {
   "cell_type": "code",
   "execution_count": null,
   "metadata": {
    "colab": {
     "base_uri": "https://localhost:8080/"
    },
    "id": "9K2GfC11XltP",
    "outputId": "796b8299-12ff-42ba-d95d-478d3916b108"
   },
   "outputs": [],
   "source": [
    "sc.pp.neighbors(adata, n_neighbors=#YOUR CODE HERE#, n_pcs=#YOUR CODE HERE#) # specify the number of neighbors and number of PCs you wish to use"
   ]
  },
  {
   "cell_type": "markdown",
   "metadata": {
    "id": "ZZ90HpG-XltP"
   },
   "source": [
    "Embedding the graph in a 2D representation can be performed using either tSNE or UMAP algorithms."
   ]
  },
  {
   "cell_type": "markdown",
   "metadata": {
    "id": "K8QhlcCsXltP"
   },
   "source": [
    "### **Exercise 5**:\n",
    "\n",
    "Run tSNE and UMAP algorithms on your data after completing the previous steps with default parameters. We will evaluate the quality of each approach in later exercises.\n"
   ]
  },
  {
   "cell_type": "code",
   "execution_count": null,
   "metadata": {
    "colab": {
     "base_uri": "https://localhost:8080/"
    },
    "id": "_jRMS7I4XltP",
    "outputId": "138ece1e-2a39-490b-9325-6918ea4793a2"
   },
   "outputs": [],
   "source": [
    "sc.tl.tsne(adata, random_state=42)"
   ]
  },
  {
   "cell_type": "code",
   "execution_count": null,
   "metadata": {
    "colab": {
     "base_uri": "https://localhost:8080/"
    },
    "id": "56PZD4BHXltP",
    "outputId": "bfcd35b8-1b0a-4747-f300-ddf9b6fe35ed"
   },
   "outputs": [],
   "source": [
    "sc.tl.umap(adata, alpha=0.3, min_dist=0.5, random_state=42)"
   ]
  },
  {
   "cell_type": "code",
   "execution_count": null,
   "metadata": {
    "colab": {
     "base_uri": "https://localhost:8080/",
     "height": 576
    },
    "id": "uYWSfvj0XltQ",
    "outputId": "d3d966d5-8bf6-4d45-e4ca-73f1c93792c9"
   },
   "outputs": [],
   "source": [
    "# visualize the tSNE colored by phase\n",
    "sc.pl.tsne(#YOUR CODE HERE#, use_raw=False, color=#YOUR CODE HERE#, wspace=0.3, ncols=3)"
   ]
  },
  {
   "cell_type": "code",
   "execution_count": null,
   "metadata": {
    "colab": {
     "base_uri": "https://localhost:8080/",
     "height": 576
    },
    "id": "k2C9PgstXltQ",
    "outputId": "15f801d4-2838-4695-8279-49b1c1fb54e1"
   },
   "outputs": [],
   "source": [
    "# visualize the UMAP colored by phase\n",
    "sc.pl.umap(#YOUR CODE HERE#, use_raw=False, color=#YOUR CODE HERE#, wspace=0.3, ncols=3)"
   ]
  },
  {
   "cell_type": "markdown",
   "metadata": {
    "id": "pp8-Zlo-snLc"
   },
   "source": [
    "### **Exercise 6**:\n",
    "\n",
    "Now save your data again.\n",
    "\n",
    "If you use .loom format, this time you *must* use the option *write_obsm_varm=True* to store .obsm and .varm layers in the loom file.\n",
    "\n",
    "Note that the .uns layer will not be saved in .loom, so you will have to recalculate the neighbors later on!"
   ]
  },
  {
   "cell_type": "code",
   "execution_count": null,
   "metadata": {
    "colab": {
     "base_uri": "https://localhost:8080/"
    },
    "id": "G7RsVblRs3f8",
    "outputId": "0febb4fe-fffa-4f58-9eef-00dc1fb4a9fe"
   },
   "outputs": [],
   "source": [
    "adata"
   ]
  },
  {
   "cell_type": "code",
   "execution_count": null,
   "metadata": {
    "id": "1DxxBDDCvOFs"
   },
   "outputs": [],
   "source": [
    "# Your code here\n",
    "adata.write_h5ad(#YOUR CODE HERE#) # Choose a filename to store your data"
   ]
  },
  {
   "cell_type": "code",
   "execution_count": null,
   "metadata": {
    "id": "51MqvV0ysxH2"
   },
   "outputs": [],
   "source": [
    "# Your code here\n",
    "#adata.write_loom('Data1_DimRed.loom', write_obsm_varm=True) # Choose a filename to store your data"
   ]
  },
  {
   "cell_type": "code",
   "execution_count": null,
   "metadata": {
    "id": "kGVwMdJlwtdn"
   },
   "outputs": [],
   "source": []
  },
  {
   "cell_type": "code",
   "execution_count": null,
   "metadata": {},
   "outputs": [],
   "source": []
  }
 ],
 "metadata": {
  "colab": {
   "provenance": []
  },
  "kernelspec": {
   "display_name": "Python 3 (ipykernel)",
   "language": "python",
   "name": "python3"
  },
  "language_info": {
   "codemirror_mode": {
    "name": "ipython",
    "version": 3
   },
   "file_extension": ".py",
   "mimetype": "text/x-python",
   "name": "python",
   "nbconvert_exporter": "python",
   "pygments_lexer": "ipython3",
   "version": "3.10.9"
  }
 },
 "nbformat": 4,
 "nbformat_minor": 4
}
