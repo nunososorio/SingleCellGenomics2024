{
  "cells": [
    {
      "cell_type": "markdown",
      "source": [
        "[![Open in colab](https://colab.research.google.com/assets/colab-badge.svg)](https://colab.research.google.com/github/nunososorio/SingleCellGenomics2024/blob/main/3_Wednesday_April10th/SessionIV_p3_students.ipynb)"
      ],
      "metadata": {
        "id": "YO8hg28OCdtR"
      }
    },
    {
      "cell_type": "markdown",
      "source": [
        "<img src=\"https://github.com/nunososorio/SingleCellGenomics2024/blob/main/logo.png?raw=true\" alt=\"AnnData\" style=\"width:600px; height:auto;\"/>"
      ],
      "metadata": {
        "id": "3DA9BMUmCg8e"
      }
    },
    {
      "cell_type": "markdown",
      "metadata": {
        "id": "sCV06Is-acPK"
      },
      "source": [
        "## Practical Session IV - Part 3\n"
      ]
    },
    {
      "cell_type": "markdown",
      "metadata": {
        "id": "_NXWNbHsnToT"
      },
      "source": [
        "## 0. Setup the environment and load your data"
      ]
    },
    {
      "cell_type": "code",
      "execution_count": null,
      "metadata": {
        "id": "2rkZ6J6OY99J"
      },
      "outputs": [],
      "source": [
        "# Install scanpy and loompy if you don't have them already or if you are running on colab\n",
        "# In this notebook we will use the Louvain and Leiden clustering algorithms; you will need the corresponding packages\n",
        "! pip install scanpy loompy louvain leidenalg > _"
      ]
    },
    {
      "cell_type": "code",
      "execution_count": null,
      "metadata": {
        "id": "iRuZ7nadZQrC"
      },
      "outputs": [],
      "source": [
        "# Load the libraries we will use\n",
        "import numpy as np\n",
        "import pandas as pd\n",
        "import scanpy as sc\n",
        "import loompy\n",
        "import matplotlib.pyplot as plt"
      ]
    },
    {
      "cell_type": "code",
      "execution_count": null,
      "metadata": {
        "id": "hEYeET24ndMl"
      },
      "outputs": [],
      "source": [
        "# Adjust the output for the figures\n",
        "sc.settings.verbosity = 3 # verbosity: errors (0), warnings (1), info (2), hints (3)\n",
        "sc.settings.set_figure_params(dpi=100, facecolor='white')\n",
        "plt.rcParams['figure.figsize'] = (6, 6)\n",
        "plt.rcParams['font.size'] = 16\n",
        "sc.logging.print_header()"
      ]
    },
    {
      "cell_type": "code",
      "execution_count": null,
      "metadata": {
        "id": "fORMnn0WCVl-"
      },
      "outputs": [],
      "source": [
        "# IF you DID NOT generate the normalize data, you can download it from the repository:\n",
        "#!wget https://figshare.com/ndownloader/files/44904205 -O Data1_DimRed.h5ad"
      ]
    },
    {
      "cell_type": "code",
      "execution_count": null,
      "metadata": {
        "id": "ziNiJg4hndxa"
      },
      "outputs": [],
      "source": [
        "adata = sc.read_h5ad(#YOUR CODE HERE#) # enter loom/h5ad file name here\n",
        "#adata = sc.read_loom(#YOUR CODE HERE#, var_names='var_names', obs_names='obs_names')\n"
      ]
    },
    {
      "cell_type": "code",
      "execution_count": null,
      "metadata": {
        "id": "-I9iR0j9CVl_"
      },
      "outputs": [],
      "source": [
        "# Some scanpy versions might be asking for this\n",
        "adata.uns['log1p']['base']=None"
      ]
    },
    {
      "cell_type": "code",
      "execution_count": null,
      "metadata": {
        "id": "iAnMbFmeyLsV"
      },
      "outputs": [],
      "source": [
        "# If you used .loom format, you have to rerun the neighbors calculation\n",
        "#sc.pp.neighbors(adata, n_neighbors=15, n_pcs=40) # specify the number of neighbors and number of PCs you wish to use"
      ]
    },
    {
      "cell_type": "markdown",
      "metadata": {
        "id": "hqSyHHoBXltQ"
      },
      "source": [
        "## 6. Clustering"
      ]
    },
    {
      "cell_type": "markdown",
      "metadata": {
        "id": "ALNQ6SX3XltQ"
      },
      "source": [
        "Clustering the data helps to identify cells with similar gene expression properties that may belong to the same cell type or cell state. There are two popular clustering methods, both available in scanpy: Louvain and Leiden clustering."
      ]
    },
    {
      "cell_type": "markdown",
      "metadata": {
        "id": "Wa2uKCtaXltQ"
      },
      "source": [
        "### **Exercise 1**:\n",
        "\n",
        "Run both the Louvain and Leiden clustering algorithms. Visualize both sets of clusters on your UMAP representation. Are the clusters different from each method? Visualize the clusters again, this time on the tSNE embedding instead of the UMAP embedding. Are there differences in which clusters are grouped together?"
      ]
    },
    {
      "cell_type": "code",
      "execution_count": null,
      "metadata": {
        "id": "n5fsOlm3XltQ"
      },
      "outputs": [],
      "source": [
        "# your code here\n",
        "sc.tl.louvain(#YOUR CODE HERE#, resolution=0.2)"
      ]
    },
    {
      "cell_type": "code",
      "execution_count": null,
      "metadata": {
        "id": "7_B0EbJ2XltR"
      },
      "outputs": [],
      "source": [
        "# your code here\n",
        "sc.tl.leiden(#YOUR CODE HERE#, resolution=0.2)"
      ]
    },
    {
      "cell_type": "markdown",
      "metadata": {
        "id": "4n7pnnHbXltR"
      },
      "source": [
        "Next, you can visualize your UMAP and tSNE representations of the scRNA-seq and color by various metadata attributes (including Louvian or Leiden clusters) from the prior steps. For example:"
      ]
    },
    {
      "cell_type": "code",
      "execution_count": null,
      "metadata": {
        "id": "j-6C-swaXltR"
      },
      "outputs": [],
      "source": [
        "sc.pl.umap(#YOUR CODE HERE#, use_raw=False, color=#YOUR CODE HERE#, wspace=0.3, ncols=2) # color by louvain and leiden"
      ]
    },
    {
      "cell_type": "code",
      "execution_count": null,
      "metadata": {
        "id": "8uMrgOhzXltR"
      },
      "outputs": [],
      "source": [
        "sc.pl.tsne(#YOUR CODE HERE#) # color by louvain and leiden"
      ]
    },
    {
      "cell_type": "markdown",
      "metadata": {
        "id": "zKYANA7oXltV"
      },
      "source": [
        "### **Exercise 2**:\n",
        "\n",
        "How many cells do you have per cluster? Assess this using the value_counts() function from pandas.\n",
        "\n",
        "Hint: remember that adata.obs is *just* a pandas data frame!\n",
        "\n",
        "https://pandas.pydata.org/pandas-docs/stable/reference/api/pandas.Series.value_counts.html"
      ]
    },
    {
      "cell_type": "code",
      "execution_count": null,
      "metadata": {
        "id": "bVFtxSoVXltV"
      },
      "outputs": [],
      "source": [
        "# your code here\n",
        "#YOUR CODE HERE#"
      ]
    },
    {
      "cell_type": "markdown",
      "metadata": {
        "id": "T7H8i9zxXltX"
      },
      "source": [
        "### **Exercise 3**:\n",
        "\n",
        "Visualize some of the other metadata on the UMAP or tSNE embedding, including the n_counts, n_genes, percent_mito, and phase metadata found in adata.obs. Do any clusters seem to have an obvious bias towards particular attributes?\n",
        "\n",
        "This might be a sign that we want to optimize prior steps of the analysis, such as adjusting the number of principal components used in the neighborhood smoothing or regressing out particular variables. As with a pandas dataframe, you can also examine the frequency of various attributes using a command such as: adata.obs[\"phase\"].value_counts().\n"
      ]
    },
    {
      "cell_type": "code",
      "execution_count": null,
      "metadata": {
        "id": "5KJtKWVFXltX"
      },
      "outputs": [],
      "source": [
        "# your code here\n",
        "#YOUR CODE HERE#"
      ]
    },
    {
      "cell_type": "markdown",
      "metadata": {
        "id": "ywCajS7vXltX"
      },
      "source": [
        "### **Exercise 4**:\n",
        "\n",
        "Let’s proceed with Louvain clustering and UMAP embeddings for the time being.\n",
        "- Create a new metadata attribute for your current clusters, i.e. adata.obs[\"louvain_res1\"] = adata.obs[\"louvain\"].\n",
        "- Repeat louvain clustering using different values for the resolution parameter: 0.5 and 1.5.\n",
        "- Save the clusters in a new metadata column and visualize them on the UMAP representation.\n",
        "- How does the number of clusters change with adjustments to the resolution parameter? Using the resolution=1 as a basis, do any clusters divide into two smaller clusters upon changing the resolution parameter? Do any clusters merge together?"
      ]
    },
    {
      "cell_type": "code",
      "execution_count": null,
      "metadata": {
        "id": "xr5C7UJ6XltX"
      },
      "outputs": [],
      "source": [
        "adata.obs[\"louvain_res1\"] = adata.obs[\"louvain\"].copy()\n",
        "\n",
        "\n"
      ]
    },
    {
      "cell_type": "code",
      "source": [
        "\n",
        "sc.tl.louvain(#YOUR CODE HERE#) # you must complete\n",
        "adata.obs[\"louvain_res0.5\"] = #YOUR CODE HERE#"
      ],
      "metadata": {
        "id": "EmjsKcg39gbe"
      },
      "execution_count": null,
      "outputs": []
    },
    {
      "cell_type": "code",
      "source": [
        "# repeat for louvain resolution1.5"
      ],
      "metadata": {
        "id": "qkZK6XRt9hLB"
      },
      "execution_count": null,
      "outputs": []
    },
    {
      "cell_type": "code",
      "execution_count": null,
      "metadata": {
        "id": "2GLFGBwQXltX"
      },
      "outputs": [],
      "source": [
        "# visualize the umap colored by the different resolution clustering. What changes?\n",
        "# your code here\n",
        "sc.pl.umap(#YOUR CODE HERE#)"
      ]
    },
    {
      "cell_type": "markdown",
      "metadata": {
        "id": "fJP2sSM5XltY"
      },
      "source": [
        "### **Exercise 5**:\n",
        "\n",
        "Let’s take a few steps back to understand the previous steps a little bit better! For example, the number of principal components used in computing the neighborhood graph will greatly impact the visualizations.\n",
        "\n",
        "Rerun previous code using the following number of PCs and visualize the different UMAPs and number of clusters: 4 PCs, 8 PCs, 15 PCs, 30 PCs. What changes with the different number of PCs used?\n",
        "\n",
        "Choose an “optimal” number of PCs by examining the contribution of each PC to the total variance with the command: sc.pl.pca_variance_ratio(adata, log=True)."
      ]
    },
    {
      "cell_type": "code",
      "execution_count": null,
      "metadata": {
        "id": "XPb0lpckXltY"
      },
      "outputs": [],
      "source": [
        "# Repeat the clustering and UAMP projections using only 4 PCs\n",
        "sc.pp.neighbors(#YOUR CODE HERE#)\n"
      ]
    },
    {
      "cell_type": "code",
      "source": [
        "sc.tl.louvain(#YOUR CODE HERE#)\n"
      ],
      "metadata": {
        "id": "tO-Ua4Qn9xPe"
      },
      "execution_count": null,
      "outputs": []
    },
    {
      "cell_type": "code",
      "source": [
        "sc.tl.umap(#YOUR CODE HERE#)\n"
      ],
      "metadata": {
        "id": "u-x9UPFq9rkF"
      },
      "execution_count": null,
      "outputs": []
    },
    {
      "cell_type": "code",
      "source": [
        "# Now visuazlie the results of the new clustering in the UMAP projection\n",
        "sc.pl.umap(a#YOUR CODE HERE#)"
      ],
      "metadata": {
        "id": "PyvheK2w9tbH"
      },
      "execution_count": null,
      "outputs": []
    },
    {
      "cell_type": "code",
      "execution_count": null,
      "metadata": {
        "id": "rzf9e25TXltY"
      },
      "outputs": [],
      "source": [
        "# Apply for 8 PCs"
      ]
    },
    {
      "cell_type": "code",
      "execution_count": null,
      "metadata": {
        "id": "sI80qjFWXltY"
      },
      "outputs": [],
      "source": [
        "# Apply for 15 PCs"
      ]
    },
    {
      "cell_type": "code",
      "execution_count": null,
      "metadata": {
        "id": "MySbTsV8XltY"
      },
      "outputs": [],
      "source": [
        "# Apply for 30 PCs"
      ]
    },
    {
      "cell_type": "markdown",
      "metadata": {
        "id": "wdh853uZXltZ"
      },
      "source": [
        "## 7. Identifying marker genes and cell types"
      ]
    },
    {
      "cell_type": "markdown",
      "metadata": {
        "id": "UmLrZ8I3XltZ"
      },
      "source": [
        "Let’s use a simple method implemented by scanpy to find marker genes by the Louvain cluster."
      ]
    },
    {
      "cell_type": "code",
      "execution_count": null,
      "metadata": {
        "id": "Tubn0rY5XltZ"
      },
      "outputs": [],
      "source": [
        "sc.tl.rank_genes_groups(#YOUR CODE HERE# , #YOUR CODE HERE# ) # read the function description to complete this function"
      ]
    },
    {
      "cell_type": "code",
      "source": [
        "sc.get.rank_genes_groups_df(#YOUR CODE HERE#)"
      ],
      "metadata": {
        "id": "w8CLeIJW97Aq"
      },
      "execution_count": null,
      "outputs": []
    },
    {
      "cell_type": "code",
      "execution_count": null,
      "metadata": {
        "id": "tMJfPNR8XltZ"
      },
      "outputs": [],
      "source": [
        "marker_genes = pd.DataFrame(adata.uns[\"rank_genes_groups\"][\"names\"])"
      ]
    },
    {
      "cell_type": "code",
      "execution_count": null,
      "metadata": {
        "id": "LtaGnjneXltZ"
      },
      "outputs": [],
      "source": [
        "marker_genes.head(10)"
      ]
    },
    {
      "cell_type": "code",
      "source": [
        "sc.pl.rank_genes_group_heatmap(adata,groupby= , n_genes=)"
      ],
      "metadata": {
        "id": "Ijh6DVJw-N5I"
      },
      "execution_count": null,
      "outputs": []
    },
    {
      "cell_type": "markdown",
      "metadata": {
        "id": "SXRoS9KCXltZ"
      },
      "source": [
        "### **Exercise 6**:\n",
        "\n",
        "Visualize marker genes on the UMAP or tSNE representation. Try to find 3-4 marker genes that are indeed specific to a particular cluster. Are there any clusters that do not seem to have unique marker genes?\n",
        "\n",
        "Are there any clusters containing markers that are only specific to a portion of the cluster?\n",
        "\n",
        "Marker genes should uniformly define cells \"everywhere\" in a cluster in UMAP space, otherwise the cluster might actually be two!"
      ]
    },
    {
      "cell_type": "code",
      "execution_count": null,
      "metadata": {
        "id": "ojoielsvXltZ"
      },
      "outputs": [],
      "source": [
        "# your code here\n",
        "sc.pl.umap(adata, color=#YOUR CODE HERE#)"
      ]
    },
    {
      "cell_type": "markdown",
      "metadata": {
        "id": "1dq3LayBXltZ"
      },
      "source": [
        "### **Exercise 7**:\n",
        "\n",
        "Let’s take a few steps back to understand all of the previous steps a little bit better!\n",
        "\n",
        "The number of genes selected by the highly_variable_genes function can significantly impact your ability to cluster. Too few genes and you cannot discriminate between different cell types, too many genes and you capture lots of noisy clusters!\n",
        "\n",
        "Try repeating the previous analysis with either 500 or 5000 highly variable genes, naming the AnnData object differently (i.e. adata_500genes) to avoid overwriting your previous results.\n",
        "\n",
        "Transfer the metadata for the new cluster labels to the original AnnData object's metadata at adata.obs and compare on the UMAP. Are the clusters different?"
      ]
    },
    {
      "cell_type": "code",
      "execution_count": null,
      "metadata": {
        "id": "_IAlp0-9XltZ"
      },
      "outputs": [],
      "source": [
        "# your code here\n"
      ]
    },
    {
      "cell_type": "markdown",
      "metadata": {
        "id": "KozWSM_FXltZ"
      },
      "source": [
        "### **Exercise 8**:\n",
        "\n",
        "Once you have settled on the parameters for the dimensionality reduction and clustering steps, it is time to begin annotating your clusters with cell types. This is normally a challenging step!\n",
        "\n",
        "When you are not too familiar with the marker genes for a particular cluster, a good starting point is simply to Google a strong marker gene and understand its function. Other tools that might be useful include EnrichR and GSEAPy.\n",
        "- https://maayanlab.cloud/Enrichr/\n",
        "- https://gseapy.readthedocs.io/en/latest/gseapy_example.html#2.-Enrichr-Example\n",
        "\n",
        "Fortunately in our case, this dataset comes from a publication with an extensive web browser that allows you to search for cell types by marker gene expression: http://mousebrain.org/adolescent/celltypes.html\n",
        "\n",
        "This should help narrow down the search but might not be enough for distinguishing two very similar cell types or clusters.\n",
        "\n",
        "Justify your cell type choices with marker genes from the literature!"
      ]
    },
    {
      "cell_type": "markdown",
      "metadata": {
        "id": "O8tNx4IzXlta"
      },
      "source": [
        "### **Exercise 9**:\n",
        "\n",
        "Create a new metadata attribute to annotate clusters with corresponding cell types. This can be done as shown below. Illustrate the final results on the UMAP or tSNE."
      ]
    },
    {
      "cell_type": "code",
      "execution_count": null,
      "metadata": {
        "id": "_6xWzuOHXlta"
      },
      "outputs": [],
      "source": [
        "cluster2type_dict = {\"0\":\"CellType1\", \"1\": \"CellType2\", ... } # update for the number of clusters/cell types you have!\n",
        "\n",
        "adata.obs[\"cell_type\"] = np.array([cluster2type_dict[i] for i in adata.obs[\"louvain\"]])"
      ]
    },
    {
      "cell_type": "code",
      "execution_count": null,
      "metadata": {
        "id": "UkGqLfvkXlta"
      },
      "outputs": [],
      "source": [
        "# your code here to visualize result on the UMAP or tSNE\n",
        "sc.pl.umap(adata, color= )"
      ]
    },
    {
      "cell_type": "markdown",
      "metadata": {
        "id": "foL12POgXlta"
      },
      "source": [
        "### **Exercise 10**:\n",
        "\n",
        "There are many excellent plotting functions to visualize marker genes for particular cell types in your data. Explore the documentation below and create some visualizations of your results (such as a heatmap, dot plot, or violin plot).\n",
        "\n",
        "https://scanpy-tutorials.readthedocs.io/en/latest/plotting/core.html\n"
      ]
    },
    {
      "cell_type": "code",
      "execution_count": null,
      "metadata": {
        "id": "OOddbL5dXlta"
      },
      "outputs": [],
      "source": [
        "sc.pl.heatmap(adata, [\"Gene1\", \"Gene2\", ..., \"GeneN\"], groupby='louvain',\n",
        "              cmap='viridis', dendrogram=False)"
      ]
    },
    {
      "cell_type": "code",
      "execution_count": null,
      "metadata": {
        "id": "XaKLz7fKXlta"
      },
      "outputs": [],
      "source": [
        "sc.pl.dotplot(adata, [\"Gene1\", \"Gene2\", ..., \"GeneN\"], groupby='louvain',\n",
        "              cmap='viridis', dendrogram=False)"
      ]
    },
    {
      "cell_type": "code",
      "execution_count": null,
      "metadata": {
        "id": "EBEdk3C7Xlta"
      },
      "outputs": [],
      "source": [
        "sc.pl.violin(adata, [\"Gene1\", \"Gene2\", ..., \"GeneN\"], groupby='louvain',\n",
        "              cmap='viridis', dendrogram=False)"
      ]
    },
    {
      "cell_type": "markdown",
      "metadata": {
        "id": "DGhPoSOoXlta"
      },
      "source": [
        "## 8. Compare to the annotated results from the study"
      ]
    },
    {
      "cell_type": "markdown",
      "metadata": {
        "id": "beYluExsXltb"
      },
      "source": [
        "Fortunately, these data are from a completed study, so we have the annotations created by the authors for the various cell types! When you reach this step, let us know and we will provide you with the “solutions.” Load these into a new AnnData object, named ref_adata.\n",
        "\n",
        "Once you have done this, visualize the cell types provided by the authors. Some good questions to think about investigating might be: Do the author's results overlap with the clusters and/or cell types you annotated? Did the authors overgeneralize or did you miss any clusters? How many of your cells were excluded by the authors?\n"
      ]
    },
    {
      "cell_type": "code",
      "execution_count": null,
      "metadata": {
        "id": "xs3sH_bGCVmM"
      },
      "outputs": [],
      "source": [
        "# Download the reference data:\n",
        "!wget https://figshare.com/ndownloader/files/34551920 -O ref_data.h5ad"
      ]
    },
    {
      "cell_type": "code",
      "source": [],
      "metadata": {
        "id": "-qy0xbD5-pFi"
      },
      "execution_count": null,
      "outputs": []
    },
    {
      "cell_type": "markdown",
      "metadata": {
        "id": "qLov4H6Puq-l"
      },
      "source": [
        "\n",
        "\n",
        "\n",
        "### **Exercise 11**:\n",
        "\n",
        "Compare your results with those from the published study. Some suggestions are below:"
      ]
    },
    {
      "cell_type": "code",
      "execution_count": null,
      "metadata": {
        "id": "cV6TYoV6Xltb"
      },
      "outputs": [],
      "source": [
        "ref_adata = sc.read_h5ad() # load reference file (only provided to your group once the prior steps are completed)"
      ]
    },
    {
      "cell_type": "code",
      "execution_count": null,
      "metadata": {
        "id": "QSYlRK1eXltb"
      },
      "outputs": [],
      "source": [
        "ref_adata"
      ]
    },
    {
      "cell_type": "code",
      "execution_count": null,
      "metadata": {
        "id": "hFFcf0baXltb"
      },
      "outputs": [],
      "source": [
        "# compare the number of cells in your AnnData object and the number of cells in the reference\n",
        "# YOUR CODE HERE"
      ]
    },
    {
      "cell_type": "code",
      "execution_count": null,
      "metadata": {
        "id": "yvzShIkjXltb"
      },
      "outputs": [],
      "source": [
        "# The cell-type labels in the reference data are stored in the 'Class' variable of the obs.\n",
        "ref_adata.obs['Class'].head(3)"
      ]
    },
    {
      "cell_type": "code",
      "execution_count": null,
      "metadata": {
        "id": "FRAyFJcqCVmN"
      },
      "outputs": [],
      "source": [
        "# Transfer them to your data by creating a dictionary of barcode : cell type for the reference\n",
        "ref_types=ref_adata.obs['Class'].to_dict()\n",
        "# Now you can add these labels to your data in a new metadata attribute \"reference_cell_type\"\n",
        "adata.obs[\"reference_cell_type\"]=ref_types"
      ]
    },
    {
      "cell_type": "code",
      "execution_count": null,
      "metadata": {
        "id": "vqZRaYwKXltb"
      },
      "outputs": [],
      "source": [
        "# Compare the reference annotations with your own\n",
        "sc.pl.umap(adata, color=[#YOUR CODE HERE])"
      ]
    },
    {
      "cell_type": "code",
      "execution_count": null,
      "metadata": {
        "id": "8ul15NOCXltb"
      },
      "outputs": [],
      "source": [
        "# do your clusters / cell types correspond directly to cell types from the authors?\n",
        "# do you have multiple clusters that the author's annotated together as a single cell type?\n",
        "# or, do you have one cluster that the author's actually annotated as two different cell types?"
      ]
    },
    {
      "cell_type": "code",
      "execution_count": null,
      "metadata": {
        "id": "e7ibbj7jXltb"
      },
      "outputs": [],
      "source": [
        "# what are the marker genes for the author's cell types? does this assist with annotation of your clusters?\n",
        "# Compute the differential expression between the groups\n",
        "sc.tl.rank_genes_groups(#YOUR CODE HERE)"
      ]
    },
    {
      "cell_type": "code",
      "execution_count": null,
      "metadata": {
        "id": "LzNV_NMECVmO"
      },
      "outputs": [],
      "source": [
        "# Store the results in a dataframe and analyze them\n",
        "marker_genes = pd.DataFrame(adata_raw_norm.uns[\"rank_genes_groups\"][\"names\"])"
      ]
    },
    {
      "cell_type": "code",
      "execution_count": null,
      "metadata": {
        "id": "oTjTNsqeXltb"
      },
      "outputs": [],
      "source": [
        "marker_genes.head()"
      ]
    },
    {
      "cell_type": "code",
      "execution_count": null,
      "metadata": {
        "id": "8NtfGutHXltb"
      },
      "outputs": [],
      "source": [
        "# don't forget to save your final AnnData object"
      ]
    }
  ],
  "metadata": {
    "colab": {
      "provenance": []
    },
    "kernelspec": {
      "display_name": "Python 3 (ipykernel)",
      "language": "python",
      "name": "python3"
    },
    "language_info": {
      "codemirror_mode": {
        "name": "ipython",
        "version": 3
      },
      "file_extension": ".py",
      "mimetype": "text/x-python",
      "name": "python",
      "nbconvert_exporter": "python",
      "pygments_lexer": "ipython3",
      "version": "3.10.9"
    }
  },
  "nbformat": 4,
  "nbformat_minor": 0
}